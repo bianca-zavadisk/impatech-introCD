{
 "cells": [
  {
   "cell_type": "code",
   "execution_count": 4,
   "metadata": {},
   "outputs": [],
   "source": [
    "import pandas as pd \n",
    "import altair as alt \n",
    "from vega_datasets import data"
   ]
  },
  {
   "cell_type": "markdown",
   "metadata": {},
   "source": [
    "Neste exemplo usaremos o *dataset* `iowa-eletricity` do repositório `vega_datasets`. Renomeamos as colunas, traduzindo as variávies para melhor compreensão da visualização."
   ]
  },
  {
   "cell_type": "code",
   "execution_count": 21,
   "metadata": {},
   "outputs": [
    {
     "data": {
      "text/html": [
       "<div>\n",
       "<style scoped>\n",
       "    .dataframe tbody tr th:only-of-type {\n",
       "        vertical-align: middle;\n",
       "    }\n",
       "\n",
       "    .dataframe tbody tr th {\n",
       "        vertical-align: top;\n",
       "    }\n",
       "\n",
       "    .dataframe thead th {\n",
       "        text-align: right;\n",
       "    }\n",
       "</style>\n",
       "<table border=\"1\" class=\"dataframe\">\n",
       "  <thead>\n",
       "    <tr style=\"text-align: right;\">\n",
       "      <th></th>\n",
       "      <th>ano</th>\n",
       "      <th>fonte</th>\n",
       "      <th>geracao_energ</th>\n",
       "    </tr>\n",
       "  </thead>\n",
       "  <tbody>\n",
       "    <tr>\n",
       "      <th>0</th>\n",
       "      <td>2001-01-01</td>\n",
       "      <td>Fossil Fuels</td>\n",
       "      <td>35361</td>\n",
       "    </tr>\n",
       "    <tr>\n",
       "      <th>1</th>\n",
       "      <td>2002-01-01</td>\n",
       "      <td>Fossil Fuels</td>\n",
       "      <td>35991</td>\n",
       "    </tr>\n",
       "    <tr>\n",
       "      <th>2</th>\n",
       "      <td>2003-01-01</td>\n",
       "      <td>Fossil Fuels</td>\n",
       "      <td>36234</td>\n",
       "    </tr>\n",
       "    <tr>\n",
       "      <th>3</th>\n",
       "      <td>2004-01-01</td>\n",
       "      <td>Fossil Fuels</td>\n",
       "      <td>36205</td>\n",
       "    </tr>\n",
       "    <tr>\n",
       "      <th>4</th>\n",
       "      <td>2005-01-01</td>\n",
       "      <td>Fossil Fuels</td>\n",
       "      <td>36883</td>\n",
       "    </tr>\n",
       "  </tbody>\n",
       "</table>\n",
       "</div>"
      ],
      "text/plain": [
       "         ano         fonte  geracao_energ\n",
       "0 2001-01-01  Fossil Fuels          35361\n",
       "1 2002-01-01  Fossil Fuels          35991\n",
       "2 2003-01-01  Fossil Fuels          36234\n",
       "3 2004-01-01  Fossil Fuels          36205\n",
       "4 2005-01-01  Fossil Fuels          36883"
      ]
     },
     "execution_count": 21,
     "metadata": {},
     "output_type": "execute_result"
    }
   ],
   "source": [
    "# Insere o dataset 'iowa-electricity' do repositório vega_datasets\n",
    "df = data.iowa_electricity()\n",
    "\n",
    "#Renomeia as colunas, para traduzi-las\n",
    "labels = ['ano', 'fonte', 'geracao_energ']\n",
    "df.columns = labels\n",
    "df.head()"
   ]
  },
  {
   "cell_type": "markdown",
   "metadata": {},
   "source": [
    "Como apontado no decorrer nesso notebook, podemos alterar as especificações visuais de como queremos representar os dados. Vamos personalizar o canal de codificação `color`.\n",
    "\n",
    "Podemos designar qualquer cor que esteja especificada como uma [cor tabelada do CSS](https://developer.mozilla.org/en-US/docs/Web/CSS/color_value). Fazemos isso definindo a uma escala de cor usando `Scale()`, atribuímos um domínio, `domain`, com os valores dos dados a serem diferenciados por cor, e um intervalo, `range`, com  as cores correspondentes, em ordem."
   ]
  },
  {
   "cell_type": "code",
   "execution_count": 7,
   "metadata": {},
   "outputs": [],
   "source": [
    "colors = alt.Scale(\n",
    "    domain = ['Fossil Fuels', 'Nuclear Energy', 'Renewables'],\n",
    "    range = ['darkslategrey', 'coral', 'mediumseagreen'],\n",
    ")"
   ]
  },
  {
   "cell_type": "markdown",
   "metadata": {},
   "source": [
    "Criamos então um gráfico de barras com a contribuição enegética total de cada fonte durante o período de 17 anos, para isso usamos `'sum(geracao_energ):Q'`.\n",
    "\n",
    "Para usarmos a nova escala de cores, definimos o atributo `scale` de `alt.Color()` como abaixo:"
   ]
  },
  {
   "cell_type": "code",
   "execution_count": 8,
   "metadata": {},
   "outputs": [
    {
     "data": {
      "text/html": [
       "\n",
       "<style>\n",
       "  #altair-viz-51ee001828324370b37f6a99f6cba587.vega-embed {\n",
       "    width: 100%;\n",
       "    display: flex;\n",
       "  }\n",
       "\n",
       "  #altair-viz-51ee001828324370b37f6a99f6cba587.vega-embed details,\n",
       "  #altair-viz-51ee001828324370b37f6a99f6cba587.vega-embed details summary {\n",
       "    position: relative;\n",
       "  }\n",
       "</style>\n",
       "<div id=\"altair-viz-51ee001828324370b37f6a99f6cba587\"></div>\n",
       "<script type=\"text/javascript\">\n",
       "  var VEGA_DEBUG = (typeof VEGA_DEBUG == \"undefined\") ? {} : VEGA_DEBUG;\n",
       "  (function(spec, embedOpt){\n",
       "    let outputDiv = document.currentScript.previousElementSibling;\n",
       "    if (outputDiv.id !== \"altair-viz-51ee001828324370b37f6a99f6cba587\") {\n",
       "      outputDiv = document.getElementById(\"altair-viz-51ee001828324370b37f6a99f6cba587\");\n",
       "    }\n",
       "\n",
       "    const paths = {\n",
       "      \"vega\": \"https://cdn.jsdelivr.net/npm/vega@5?noext\",\n",
       "      \"vega-lib\": \"https://cdn.jsdelivr.net/npm/vega-lib?noext\",\n",
       "      \"vega-lite\": \"https://cdn.jsdelivr.net/npm/vega-lite@5.20.1?noext\",\n",
       "      \"vega-embed\": \"https://cdn.jsdelivr.net/npm/vega-embed@6?noext\",\n",
       "    };\n",
       "\n",
       "    function maybeLoadScript(lib, version) {\n",
       "      var key = `${lib.replace(\"-\", \"\")}_version`;\n",
       "      return (VEGA_DEBUG[key] == version) ?\n",
       "        Promise.resolve(paths[lib]) :\n",
       "        new Promise(function(resolve, reject) {\n",
       "          var s = document.createElement('script');\n",
       "          document.getElementsByTagName(\"head\")[0].appendChild(s);\n",
       "          s.async = true;\n",
       "          s.onload = () => {\n",
       "            VEGA_DEBUG[key] = version;\n",
       "            return resolve(paths[lib]);\n",
       "          };\n",
       "          s.onerror = () => reject(`Error loading script: ${paths[lib]}`);\n",
       "          s.src = paths[lib];\n",
       "        });\n",
       "    }\n",
       "\n",
       "    function showError(err) {\n",
       "      outputDiv.innerHTML = `<div class=\"error\" style=\"color:red;\">${err}</div>`;\n",
       "      throw err;\n",
       "    }\n",
       "\n",
       "    function displayChart(vegaEmbed) {\n",
       "      vegaEmbed(outputDiv, spec, embedOpt)\n",
       "        .catch(err => showError(`Javascript Error: ${err.message}<br>This usually means there's a typo in your chart specification. See the javascript console for the full traceback.`));\n",
       "    }\n",
       "\n",
       "    if(typeof define === \"function\" && define.amd) {\n",
       "      requirejs.config({paths});\n",
       "      let deps = [\"vega-embed\"];\n",
       "      require(deps, displayChart, err => showError(`Error loading script: ${err.message}`));\n",
       "    } else {\n",
       "      maybeLoadScript(\"vega\", \"5\")\n",
       "        .then(() => maybeLoadScript(\"vega-lite\", \"5.20.1\"))\n",
       "        .then(() => maybeLoadScript(\"vega-embed\", \"6\"))\n",
       "        .catch(showError)\n",
       "        .then(() => displayChart(vegaEmbed));\n",
       "    }\n",
       "  })({\"config\": {\"view\": {\"continuousWidth\": 300, \"continuousHeight\": 300}}, \"data\": {\"name\": \"data-660282cf28cc0a30f77a1a6c047ab456\"}, \"mark\": {\"type\": \"bar\"}, \"encoding\": {\"color\": {\"field\": \"fonte\", \"scale\": {\"domain\": [\"Fossil Fuels\", \"Nuclear Energy\", \"Renewables\"], \"range\": [\"darkslategrey\", \"coral\", \"mediumseagreen\"]}, \"type\": \"nominal\"}, \"x\": {\"aggregate\": \"sum\", \"field\": \"geracao_energ\", \"title\": \"geracao_energ total\", \"type\": \"quantitative\"}, \"y\": {\"field\": \"fonte\", \"type\": \"nominal\"}}, \"$schema\": \"https://vega.github.io/schema/vega-lite/v5.20.1.json\", \"datasets\": {\"data-660282cf28cc0a30f77a1a6c047ab456\": [{\"ano\": \"2001-01-01T00:00:00\", \"fonte\": \"Fossil Fuels\", \"geracao_energ\": 35361}, {\"ano\": \"2002-01-01T00:00:00\", \"fonte\": \"Fossil Fuels\", \"geracao_energ\": 35991}, {\"ano\": \"2003-01-01T00:00:00\", \"fonte\": \"Fossil Fuels\", \"geracao_energ\": 36234}, {\"ano\": \"2004-01-01T00:00:00\", \"fonte\": \"Fossil Fuels\", \"geracao_energ\": 36205}, {\"ano\": \"2005-01-01T00:00:00\", \"fonte\": \"Fossil Fuels\", \"geracao_energ\": 36883}, {\"ano\": \"2006-01-01T00:00:00\", \"fonte\": \"Fossil Fuels\", \"geracao_energ\": 37014}, {\"ano\": \"2007-01-01T00:00:00\", \"fonte\": \"Fossil Fuels\", \"geracao_energ\": 41389}, {\"ano\": \"2008-01-01T00:00:00\", \"fonte\": \"Fossil Fuels\", \"geracao_energ\": 42734}, {\"ano\": \"2009-01-01T00:00:00\", \"fonte\": \"Fossil Fuels\", \"geracao_energ\": 38620}, {\"ano\": \"2010-01-01T00:00:00\", \"fonte\": \"Fossil Fuels\", \"geracao_energ\": 42750}, {\"ano\": \"2011-01-01T00:00:00\", \"fonte\": \"Fossil Fuels\", \"geracao_energ\": 39361}, {\"ano\": \"2012-01-01T00:00:00\", \"fonte\": \"Fossil Fuels\", \"geracao_energ\": 37379}, {\"ano\": \"2013-01-01T00:00:00\", \"fonte\": \"Fossil Fuels\", \"geracao_energ\": 34873}, {\"ano\": \"2014-01-01T00:00:00\", \"fonte\": \"Fossil Fuels\", \"geracao_energ\": 35250}, {\"ano\": \"2015-01-01T00:00:00\", \"fonte\": \"Fossil Fuels\", \"geracao_energ\": 32319}, {\"ano\": \"2016-01-01T00:00:00\", \"fonte\": \"Fossil Fuels\", \"geracao_energ\": 28437}, {\"ano\": \"2017-01-01T00:00:00\", \"fonte\": \"Fossil Fuels\", \"geracao_energ\": 29329}, {\"ano\": \"2001-01-01T00:00:00\", \"fonte\": \"Nuclear Energy\", \"geracao_energ\": 3853}, {\"ano\": \"2002-01-01T00:00:00\", \"fonte\": \"Nuclear Energy\", \"geracao_energ\": 4574}, {\"ano\": \"2003-01-01T00:00:00\", \"fonte\": \"Nuclear Energy\", \"geracao_energ\": 3988}, {\"ano\": \"2004-01-01T00:00:00\", \"fonte\": \"Nuclear Energy\", \"geracao_energ\": 4929}, {\"ano\": \"2005-01-01T00:00:00\", \"fonte\": \"Nuclear Energy\", \"geracao_energ\": 4538}, {\"ano\": \"2006-01-01T00:00:00\", \"fonte\": \"Nuclear Energy\", \"geracao_energ\": 5095}, {\"ano\": \"2007-01-01T00:00:00\", \"fonte\": \"Nuclear Energy\", \"geracao_energ\": 4519}, {\"ano\": \"2008-01-01T00:00:00\", \"fonte\": \"Nuclear Energy\", \"geracao_energ\": 5282}, {\"ano\": \"2009-01-01T00:00:00\", \"fonte\": \"Nuclear Energy\", \"geracao_energ\": 4679}, {\"ano\": \"2010-01-01T00:00:00\", \"fonte\": \"Nuclear Energy\", \"geracao_energ\": 4451}, {\"ano\": \"2011-01-01T00:00:00\", \"fonte\": \"Nuclear Energy\", \"geracao_energ\": 5215}, {\"ano\": \"2012-01-01T00:00:00\", \"fonte\": \"Nuclear Energy\", \"geracao_energ\": 4347}, {\"ano\": \"2013-01-01T00:00:00\", \"fonte\": \"Nuclear Energy\", \"geracao_energ\": 5321}, {\"ano\": \"2014-01-01T00:00:00\", \"fonte\": \"Nuclear Energy\", \"geracao_energ\": 4152}, {\"ano\": \"2015-01-01T00:00:00\", \"fonte\": \"Nuclear Energy\", \"geracao_energ\": 5243}, {\"ano\": \"2016-01-01T00:00:00\", \"fonte\": \"Nuclear Energy\", \"geracao_energ\": 4703}, {\"ano\": \"2017-01-01T00:00:00\", \"fonte\": \"Nuclear Energy\", \"geracao_energ\": 5214}, {\"ano\": \"2001-01-01T00:00:00\", \"fonte\": \"Renewables\", \"geracao_energ\": 1437}, {\"ano\": \"2002-01-01T00:00:00\", \"fonte\": \"Renewables\", \"geracao_energ\": 1963}, {\"ano\": \"2003-01-01T00:00:00\", \"fonte\": \"Renewables\", \"geracao_energ\": 1885}, {\"ano\": \"2004-01-01T00:00:00\", \"fonte\": \"Renewables\", \"geracao_energ\": 2102}, {\"ano\": \"2005-01-01T00:00:00\", \"fonte\": \"Renewables\", \"geracao_energ\": 2724}, {\"ano\": \"2006-01-01T00:00:00\", \"fonte\": \"Renewables\", \"geracao_energ\": 3364}, {\"ano\": \"2007-01-01T00:00:00\", \"fonte\": \"Renewables\", \"geracao_energ\": 3870}, {\"ano\": \"2008-01-01T00:00:00\", \"fonte\": \"Renewables\", \"geracao_energ\": 5070}, {\"ano\": \"2009-01-01T00:00:00\", \"fonte\": \"Renewables\", \"geracao_energ\": 8560}, {\"ano\": \"2010-01-01T00:00:00\", \"fonte\": \"Renewables\", \"geracao_energ\": 10308}, {\"ano\": \"2011-01-01T00:00:00\", \"fonte\": \"Renewables\", \"geracao_energ\": 11795}, {\"ano\": \"2012-01-01T00:00:00\", \"fonte\": \"Renewables\", \"geracao_energ\": 14949}, {\"ano\": \"2013-01-01T00:00:00\", \"fonte\": \"Renewables\", \"geracao_energ\": 16476}, {\"ano\": \"2014-01-01T00:00:00\", \"fonte\": \"Renewables\", \"geracao_energ\": 17452}, {\"ano\": \"2015-01-01T00:00:00\", \"fonte\": \"Renewables\", \"geracao_energ\": 19091}, {\"ano\": \"2016-01-01T00:00:00\", \"fonte\": \"Renewables\", \"geracao_energ\": 21241}, {\"ano\": \"2017-01-01T00:00:00\", \"fonte\": \"Renewables\", \"geracao_energ\": 21933}]}}, {\"mode\": \"vega-lite\"});\n",
       "</script>"
      ],
      "text/plain": [
       "alt.Chart(...)"
      ]
     },
     "execution_count": 8,
     "metadata": {},
     "output_type": "execute_result"
    }
   ],
   "source": [
    "alt.Chart(df).mark_bar().encode(\n",
    "    alt.X('sum(geracao_energ):Q', title='geracao_energ total'),\n",
    "    alt.Y('fonte:N'),\n",
    "    alt.Color('fonte', scale=colors),\n",
    ")"
   ]
  },
  {
   "cell_type": "markdown",
   "metadata": {},
   "source": [
    "Podemos analisar também a geração de energia, `geracao_energ`, de cada `fonte` ao longo dos anos. Para isso, criamos um gráfico de linhas como abaixo:"
   ]
  },
  {
   "cell_type": "code",
   "execution_count": 19,
   "metadata": {},
   "outputs": [
    {
     "data": {
      "text/html": [
       "\n",
       "<style>\n",
       "  #altair-viz-7a30258696eb4eec8ad20def54ba047c.vega-embed {\n",
       "    width: 100%;\n",
       "    display: flex;\n",
       "  }\n",
       "\n",
       "  #altair-viz-7a30258696eb4eec8ad20def54ba047c.vega-embed details,\n",
       "  #altair-viz-7a30258696eb4eec8ad20def54ba047c.vega-embed details summary {\n",
       "    position: relative;\n",
       "  }\n",
       "</style>\n",
       "<div id=\"altair-viz-7a30258696eb4eec8ad20def54ba047c\"></div>\n",
       "<script type=\"text/javascript\">\n",
       "  var VEGA_DEBUG = (typeof VEGA_DEBUG == \"undefined\") ? {} : VEGA_DEBUG;\n",
       "  (function(spec, embedOpt){\n",
       "    let outputDiv = document.currentScript.previousElementSibling;\n",
       "    if (outputDiv.id !== \"altair-viz-7a30258696eb4eec8ad20def54ba047c\") {\n",
       "      outputDiv = document.getElementById(\"altair-viz-7a30258696eb4eec8ad20def54ba047c\");\n",
       "    }\n",
       "\n",
       "    const paths = {\n",
       "      \"vega\": \"https://cdn.jsdelivr.net/npm/vega@5?noext\",\n",
       "      \"vega-lib\": \"https://cdn.jsdelivr.net/npm/vega-lib?noext\",\n",
       "      \"vega-lite\": \"https://cdn.jsdelivr.net/npm/vega-lite@5.20.1?noext\",\n",
       "      \"vega-embed\": \"https://cdn.jsdelivr.net/npm/vega-embed@6?noext\",\n",
       "    };\n",
       "\n",
       "    function maybeLoadScript(lib, version) {\n",
       "      var key = `${lib.replace(\"-\", \"\")}_version`;\n",
       "      return (VEGA_DEBUG[key] == version) ?\n",
       "        Promise.resolve(paths[lib]) :\n",
       "        new Promise(function(resolve, reject) {\n",
       "          var s = document.createElement('script');\n",
       "          document.getElementsByTagName(\"head\")[0].appendChild(s);\n",
       "          s.async = true;\n",
       "          s.onload = () => {\n",
       "            VEGA_DEBUG[key] = version;\n",
       "            return resolve(paths[lib]);\n",
       "          };\n",
       "          s.onerror = () => reject(`Error loading script: ${paths[lib]}`);\n",
       "          s.src = paths[lib];\n",
       "        });\n",
       "    }\n",
       "\n",
       "    function showError(err) {\n",
       "      outputDiv.innerHTML = `<div class=\"error\" style=\"color:red;\">${err}</div>`;\n",
       "      throw err;\n",
       "    }\n",
       "\n",
       "    function displayChart(vegaEmbed) {\n",
       "      vegaEmbed(outputDiv, spec, embedOpt)\n",
       "        .catch(err => showError(`Javascript Error: ${err.message}<br>This usually means there's a typo in your chart specification. See the javascript console for the full traceback.`));\n",
       "    }\n",
       "\n",
       "    if(typeof define === \"function\" && define.amd) {\n",
       "      requirejs.config({paths});\n",
       "      let deps = [\"vega-embed\"];\n",
       "      require(deps, displayChart, err => showError(`Error loading script: ${err.message}`));\n",
       "    } else {\n",
       "      maybeLoadScript(\"vega\", \"5\")\n",
       "        .then(() => maybeLoadScript(\"vega-lite\", \"5.20.1\"))\n",
       "        .then(() => maybeLoadScript(\"vega-embed\", \"6\"))\n",
       "        .catch(showError)\n",
       "        .then(() => displayChart(vegaEmbed));\n",
       "    }\n",
       "  })({\"config\": {\"view\": {\"continuousWidth\": 300, \"continuousHeight\": 300}}, \"data\": {\"name\": \"data-660282cf28cc0a30f77a1a6c047ab456\"}, \"mark\": {\"type\": \"line\"}, \"encoding\": {\"color\": {\"field\": \"fonte\", \"scale\": {\"domain\": [\"Fossil Fuels\", \"Nuclear Energy\", \"Renewables\"], \"range\": [\"darkslategrey\", \"coral\", \"mediumseagreen\"]}, \"type\": \"nominal\"}, \"x\": {\"field\": \"ano\", \"type\": \"temporal\"}, \"y\": {\"field\": \"geracao_energ\", \"type\": \"quantitative\"}}, \"$schema\": \"https://vega.github.io/schema/vega-lite/v5.20.1.json\", \"datasets\": {\"data-660282cf28cc0a30f77a1a6c047ab456\": [{\"ano\": \"2001-01-01T00:00:00\", \"fonte\": \"Fossil Fuels\", \"geracao_energ\": 35361}, {\"ano\": \"2002-01-01T00:00:00\", \"fonte\": \"Fossil Fuels\", \"geracao_energ\": 35991}, {\"ano\": \"2003-01-01T00:00:00\", \"fonte\": \"Fossil Fuels\", \"geracao_energ\": 36234}, {\"ano\": \"2004-01-01T00:00:00\", \"fonte\": \"Fossil Fuels\", \"geracao_energ\": 36205}, {\"ano\": \"2005-01-01T00:00:00\", \"fonte\": \"Fossil Fuels\", \"geracao_energ\": 36883}, {\"ano\": \"2006-01-01T00:00:00\", \"fonte\": \"Fossil Fuels\", \"geracao_energ\": 37014}, {\"ano\": \"2007-01-01T00:00:00\", \"fonte\": \"Fossil Fuels\", \"geracao_energ\": 41389}, {\"ano\": \"2008-01-01T00:00:00\", \"fonte\": \"Fossil Fuels\", \"geracao_energ\": 42734}, {\"ano\": \"2009-01-01T00:00:00\", \"fonte\": \"Fossil Fuels\", \"geracao_energ\": 38620}, {\"ano\": \"2010-01-01T00:00:00\", \"fonte\": \"Fossil Fuels\", \"geracao_energ\": 42750}, {\"ano\": \"2011-01-01T00:00:00\", \"fonte\": \"Fossil Fuels\", \"geracao_energ\": 39361}, {\"ano\": \"2012-01-01T00:00:00\", \"fonte\": \"Fossil Fuels\", \"geracao_energ\": 37379}, {\"ano\": \"2013-01-01T00:00:00\", \"fonte\": \"Fossil Fuels\", \"geracao_energ\": 34873}, {\"ano\": \"2014-01-01T00:00:00\", \"fonte\": \"Fossil Fuels\", \"geracao_energ\": 35250}, {\"ano\": \"2015-01-01T00:00:00\", \"fonte\": \"Fossil Fuels\", \"geracao_energ\": 32319}, {\"ano\": \"2016-01-01T00:00:00\", \"fonte\": \"Fossil Fuels\", \"geracao_energ\": 28437}, {\"ano\": \"2017-01-01T00:00:00\", \"fonte\": \"Fossil Fuels\", \"geracao_energ\": 29329}, {\"ano\": \"2001-01-01T00:00:00\", \"fonte\": \"Nuclear Energy\", \"geracao_energ\": 3853}, {\"ano\": \"2002-01-01T00:00:00\", \"fonte\": \"Nuclear Energy\", \"geracao_energ\": 4574}, {\"ano\": \"2003-01-01T00:00:00\", \"fonte\": \"Nuclear Energy\", \"geracao_energ\": 3988}, {\"ano\": \"2004-01-01T00:00:00\", \"fonte\": \"Nuclear Energy\", \"geracao_energ\": 4929}, {\"ano\": \"2005-01-01T00:00:00\", \"fonte\": \"Nuclear Energy\", \"geracao_energ\": 4538}, {\"ano\": \"2006-01-01T00:00:00\", \"fonte\": \"Nuclear Energy\", \"geracao_energ\": 5095}, {\"ano\": \"2007-01-01T00:00:00\", \"fonte\": \"Nuclear Energy\", \"geracao_energ\": 4519}, {\"ano\": \"2008-01-01T00:00:00\", \"fonte\": \"Nuclear Energy\", \"geracao_energ\": 5282}, {\"ano\": \"2009-01-01T00:00:00\", \"fonte\": \"Nuclear Energy\", \"geracao_energ\": 4679}, {\"ano\": \"2010-01-01T00:00:00\", \"fonte\": \"Nuclear Energy\", \"geracao_energ\": 4451}, {\"ano\": \"2011-01-01T00:00:00\", \"fonte\": \"Nuclear Energy\", \"geracao_energ\": 5215}, {\"ano\": \"2012-01-01T00:00:00\", \"fonte\": \"Nuclear Energy\", \"geracao_energ\": 4347}, {\"ano\": \"2013-01-01T00:00:00\", \"fonte\": \"Nuclear Energy\", \"geracao_energ\": 5321}, {\"ano\": \"2014-01-01T00:00:00\", \"fonte\": \"Nuclear Energy\", \"geracao_energ\": 4152}, {\"ano\": \"2015-01-01T00:00:00\", \"fonte\": \"Nuclear Energy\", \"geracao_energ\": 5243}, {\"ano\": \"2016-01-01T00:00:00\", \"fonte\": \"Nuclear Energy\", \"geracao_energ\": 4703}, {\"ano\": \"2017-01-01T00:00:00\", \"fonte\": \"Nuclear Energy\", \"geracao_energ\": 5214}, {\"ano\": \"2001-01-01T00:00:00\", \"fonte\": \"Renewables\", \"geracao_energ\": 1437}, {\"ano\": \"2002-01-01T00:00:00\", \"fonte\": \"Renewables\", \"geracao_energ\": 1963}, {\"ano\": \"2003-01-01T00:00:00\", \"fonte\": \"Renewables\", \"geracao_energ\": 1885}, {\"ano\": \"2004-01-01T00:00:00\", \"fonte\": \"Renewables\", \"geracao_energ\": 2102}, {\"ano\": \"2005-01-01T00:00:00\", \"fonte\": \"Renewables\", \"geracao_energ\": 2724}, {\"ano\": \"2006-01-01T00:00:00\", \"fonte\": \"Renewables\", \"geracao_energ\": 3364}, {\"ano\": \"2007-01-01T00:00:00\", \"fonte\": \"Renewables\", \"geracao_energ\": 3870}, {\"ano\": \"2008-01-01T00:00:00\", \"fonte\": \"Renewables\", \"geracao_energ\": 5070}, {\"ano\": \"2009-01-01T00:00:00\", \"fonte\": \"Renewables\", \"geracao_energ\": 8560}, {\"ano\": \"2010-01-01T00:00:00\", \"fonte\": \"Renewables\", \"geracao_energ\": 10308}, {\"ano\": \"2011-01-01T00:00:00\", \"fonte\": \"Renewables\", \"geracao_energ\": 11795}, {\"ano\": \"2012-01-01T00:00:00\", \"fonte\": \"Renewables\", \"geracao_energ\": 14949}, {\"ano\": \"2013-01-01T00:00:00\", \"fonte\": \"Renewables\", \"geracao_energ\": 16476}, {\"ano\": \"2014-01-01T00:00:00\", \"fonte\": \"Renewables\", \"geracao_energ\": 17452}, {\"ano\": \"2015-01-01T00:00:00\", \"fonte\": \"Renewables\", \"geracao_energ\": 19091}, {\"ano\": \"2016-01-01T00:00:00\", \"fonte\": \"Renewables\", \"geracao_energ\": 21241}, {\"ano\": \"2017-01-01T00:00:00\", \"fonte\": \"Renewables\", \"geracao_energ\": 21933}]}}, {\"mode\": \"vega-lite\"});\n",
       "</script>"
      ],
      "text/plain": [
       "alt.Chart(...)"
      ]
     },
     "execution_count": 19,
     "metadata": {},
     "output_type": "execute_result"
    }
   ],
   "source": [
    "fontes_chart = alt.Chart(df).mark_line().encode(\n",
    "    alt.X('ano:T'),\n",
    "    alt.Y('geracao_energ:Q'),\n",
    "    alt.Color('fonte:N', scale=colors),\n",
    ")\n",
    "\n",
    "fontes_chart"
   ]
  },
  {
   "cell_type": "markdown",
   "metadata": {},
   "source": [
    "Essa visualização fornece informações mais palpáveis de comparação entre as diferentes fontes de energia. Por exemplo, notamos que a geração de energia de fontes renováveis foi crescente a partir de 2008, enquanto a de combustíveis fósseis teve um decréscimo expressivo a partir de 2010."
   ]
  },
  {
   "cell_type": "markdown",
   "metadata": {},
   "source": [
    "Podemos brincar com os dados e outros tipos de visualização. Abaixo criamos um novo *data  frame* com a geração total de energia no ano."
   ]
  },
  {
   "cell_type": "code",
   "execution_count": 23,
   "metadata": {},
   "outputs": [
    {
     "data": {
      "text/html": [
       "<div>\n",
       "<style scoped>\n",
       "    .dataframe tbody tr th:only-of-type {\n",
       "        vertical-align: middle;\n",
       "    }\n",
       "\n",
       "    .dataframe tbody tr th {\n",
       "        vertical-align: top;\n",
       "    }\n",
       "\n",
       "    .dataframe thead th {\n",
       "        text-align: right;\n",
       "    }\n",
       "</style>\n",
       "<table border=\"1\" class=\"dataframe\">\n",
       "  <thead>\n",
       "    <tr style=\"text-align: right;\">\n",
       "      <th></th>\n",
       "      <th>ano</th>\n",
       "      <th>geracao_energ</th>\n",
       "    </tr>\n",
       "  </thead>\n",
       "  <tbody>\n",
       "    <tr>\n",
       "      <th>0</th>\n",
       "      <td>2001-01-01</td>\n",
       "      <td>40651</td>\n",
       "    </tr>\n",
       "    <tr>\n",
       "      <th>1</th>\n",
       "      <td>2002-01-01</td>\n",
       "      <td>42528</td>\n",
       "    </tr>\n",
       "    <tr>\n",
       "      <th>2</th>\n",
       "      <td>2003-01-01</td>\n",
       "      <td>42107</td>\n",
       "    </tr>\n",
       "    <tr>\n",
       "      <th>3</th>\n",
       "      <td>2004-01-01</td>\n",
       "      <td>43236</td>\n",
       "    </tr>\n",
       "    <tr>\n",
       "      <th>4</th>\n",
       "      <td>2005-01-01</td>\n",
       "      <td>44145</td>\n",
       "    </tr>\n",
       "  </tbody>\n",
       "</table>\n",
       "</div>"
      ],
      "text/plain": [
       "         ano  geracao_energ\n",
       "0 2001-01-01          40651\n",
       "1 2002-01-01          42528\n",
       "2 2003-01-01          42107\n",
       "3 2004-01-01          43236\n",
       "4 2005-01-01          44145"
      ]
     },
     "execution_count": 23,
     "metadata": {},
     "output_type": "execute_result"
    }
   ],
   "source": [
    "df_ano = df.groupby('ano')['geracao_energ'].sum().reset_index()\n",
    "df_ano.head()"
   ]
  },
  {
   "cell_type": "markdown",
   "metadata": {},
   "source": [
    "Vamos então plotar um gráfico de barras com a geração total de energia por ano, somando todas as fontes."
   ]
  },
  {
   "cell_type": "code",
   "execution_count": 56,
   "metadata": {},
   "outputs": [
    {
     "data": {
      "text/html": [
       "\n",
       "<style>\n",
       "  #altair-viz-7fb97b3d91cf4724a8dd6cfb5871a801.vega-embed {\n",
       "    width: 100%;\n",
       "    display: flex;\n",
       "  }\n",
       "\n",
       "  #altair-viz-7fb97b3d91cf4724a8dd6cfb5871a801.vega-embed details,\n",
       "  #altair-viz-7fb97b3d91cf4724a8dd6cfb5871a801.vega-embed details summary {\n",
       "    position: relative;\n",
       "  }\n",
       "</style>\n",
       "<div id=\"altair-viz-7fb97b3d91cf4724a8dd6cfb5871a801\"></div>\n",
       "<script type=\"text/javascript\">\n",
       "  var VEGA_DEBUG = (typeof VEGA_DEBUG == \"undefined\") ? {} : VEGA_DEBUG;\n",
       "  (function(spec, embedOpt){\n",
       "    let outputDiv = document.currentScript.previousElementSibling;\n",
       "    if (outputDiv.id !== \"altair-viz-7fb97b3d91cf4724a8dd6cfb5871a801\") {\n",
       "      outputDiv = document.getElementById(\"altair-viz-7fb97b3d91cf4724a8dd6cfb5871a801\");\n",
       "    }\n",
       "\n",
       "    const paths = {\n",
       "      \"vega\": \"https://cdn.jsdelivr.net/npm/vega@5?noext\",\n",
       "      \"vega-lib\": \"https://cdn.jsdelivr.net/npm/vega-lib?noext\",\n",
       "      \"vega-lite\": \"https://cdn.jsdelivr.net/npm/vega-lite@5.20.1?noext\",\n",
       "      \"vega-embed\": \"https://cdn.jsdelivr.net/npm/vega-embed@6?noext\",\n",
       "    };\n",
       "\n",
       "    function maybeLoadScript(lib, version) {\n",
       "      var key = `${lib.replace(\"-\", \"\")}_version`;\n",
       "      return (VEGA_DEBUG[key] == version) ?\n",
       "        Promise.resolve(paths[lib]) :\n",
       "        new Promise(function(resolve, reject) {\n",
       "          var s = document.createElement('script');\n",
       "          document.getElementsByTagName(\"head\")[0].appendChild(s);\n",
       "          s.async = true;\n",
       "          s.onload = () => {\n",
       "            VEGA_DEBUG[key] = version;\n",
       "            return resolve(paths[lib]);\n",
       "          };\n",
       "          s.onerror = () => reject(`Error loading script: ${paths[lib]}`);\n",
       "          s.src = paths[lib];\n",
       "        });\n",
       "    }\n",
       "\n",
       "    function showError(err) {\n",
       "      outputDiv.innerHTML = `<div class=\"error\" style=\"color:red;\">${err}</div>`;\n",
       "      throw err;\n",
       "    }\n",
       "\n",
       "    function displayChart(vegaEmbed) {\n",
       "      vegaEmbed(outputDiv, spec, embedOpt)\n",
       "        .catch(err => showError(`Javascript Error: ${err.message}<br>This usually means there's a typo in your chart specification. See the javascript console for the full traceback.`));\n",
       "    }\n",
       "\n",
       "    if(typeof define === \"function\" && define.amd) {\n",
       "      requirejs.config({paths});\n",
       "      let deps = [\"vega-embed\"];\n",
       "      require(deps, displayChart, err => showError(`Error loading script: ${err.message}`));\n",
       "    } else {\n",
       "      maybeLoadScript(\"vega\", \"5\")\n",
       "        .then(() => maybeLoadScript(\"vega-lite\", \"5.20.1\"))\n",
       "        .then(() => maybeLoadScript(\"vega-embed\", \"6\"))\n",
       "        .catch(showError)\n",
       "        .then(() => displayChart(vegaEmbed));\n",
       "    }\n",
       "  })({\"config\": {\"view\": {\"continuousWidth\": 300, \"continuousHeight\": 300}}, \"data\": {\"name\": \"data-bbd011dc4b7316b5d8deffee6717ba8e\"}, \"mark\": {\"type\": \"bar\"}, \"encoding\": {\"color\": {\"value\": \"lightgray\"}, \"x\": {\"field\": \"ano\", \"timeUnit\": \"year\", \"type\": \"temporal\"}, \"y\": {\"field\": \"geracao_energ\", \"type\": \"quantitative\"}}, \"height\": 100, \"$schema\": \"https://vega.github.io/schema/vega-lite/v5.20.1.json\", \"datasets\": {\"data-bbd011dc4b7316b5d8deffee6717ba8e\": [{\"ano\": \"2001-01-01T00:00:00\", \"geracao_energ\": 40651}, {\"ano\": \"2002-01-01T00:00:00\", \"geracao_energ\": 42528}, {\"ano\": \"2003-01-01T00:00:00\", \"geracao_energ\": 42107}, {\"ano\": \"2004-01-01T00:00:00\", \"geracao_energ\": 43236}, {\"ano\": \"2005-01-01T00:00:00\", \"geracao_energ\": 44145}, {\"ano\": \"2006-01-01T00:00:00\", \"geracao_energ\": 45473}, {\"ano\": \"2007-01-01T00:00:00\", \"geracao_energ\": 49778}, {\"ano\": \"2008-01-01T00:00:00\", \"geracao_energ\": 53086}, {\"ano\": \"2009-01-01T00:00:00\", \"geracao_energ\": 51859}, {\"ano\": \"2010-01-01T00:00:00\", \"geracao_energ\": 57509}, {\"ano\": \"2011-01-01T00:00:00\", \"geracao_energ\": 56371}, {\"ano\": \"2012-01-01T00:00:00\", \"geracao_energ\": 56675}, {\"ano\": \"2013-01-01T00:00:00\", \"geracao_energ\": 56670}, {\"ano\": \"2014-01-01T00:00:00\", \"geracao_energ\": 56854}, {\"ano\": \"2015-01-01T00:00:00\", \"geracao_energ\": 56653}, {\"ano\": \"2016-01-01T00:00:00\", \"geracao_energ\": 54381}, {\"ano\": \"2017-01-01T00:00:00\", \"geracao_energ\": 56476}]}}, {\"mode\": \"vega-lite\"});\n",
       "</script>"
      ],
      "text/plain": [
       "alt.Chart(...)"
      ]
     },
     "execution_count": 56,
     "metadata": {},
     "output_type": "execute_result"
    }
   ],
   "source": [
    "ano_chart = alt.Chart(df_ano).mark_bar().encode(\n",
    "    alt.X('ano', timeUnit='year'),\n",
    "    alt.Y('geracao_energ'),\n",
    "    color=alt.value('lightgray'),\n",
    ").properties(\n",
    "    # width=400, # define a largura do gráfico para 400 pixels\n",
    "    height=100 # define a altura do gráfico para 50 pixels\n",
    ")\n",
    "\n",
    "ano_chart"
   ]
  },
  {
   "cell_type": "markdown",
   "metadata": {},
   "source": [
    "A partir disso, podemos gerar uma visualização com os dois gráficos que criamos. Para obtermos uma perspectiva geral da geração de energia anual total e o comportamento de cada fonte. "
   ]
  },
  {
   "cell_type": "code",
   "execution_count": 54,
   "metadata": {},
   "outputs": [
    {
     "data": {
      "text/html": [
       "\n",
       "<style>\n",
       "  #altair-viz-4fc7255f5f944ca4a8c914d4d2505c94.vega-embed {\n",
       "    width: 100%;\n",
       "    display: flex;\n",
       "  }\n",
       "\n",
       "  #altair-viz-4fc7255f5f944ca4a8c914d4d2505c94.vega-embed details,\n",
       "  #altair-viz-4fc7255f5f944ca4a8c914d4d2505c94.vega-embed details summary {\n",
       "    position: relative;\n",
       "  }\n",
       "</style>\n",
       "<div id=\"altair-viz-4fc7255f5f944ca4a8c914d4d2505c94\"></div>\n",
       "<script type=\"text/javascript\">\n",
       "  var VEGA_DEBUG = (typeof VEGA_DEBUG == \"undefined\") ? {} : VEGA_DEBUG;\n",
       "  (function(spec, embedOpt){\n",
       "    let outputDiv = document.currentScript.previousElementSibling;\n",
       "    if (outputDiv.id !== \"altair-viz-4fc7255f5f944ca4a8c914d4d2505c94\") {\n",
       "      outputDiv = document.getElementById(\"altair-viz-4fc7255f5f944ca4a8c914d4d2505c94\");\n",
       "    }\n",
       "\n",
       "    const paths = {\n",
       "      \"vega\": \"https://cdn.jsdelivr.net/npm/vega@5?noext\",\n",
       "      \"vega-lib\": \"https://cdn.jsdelivr.net/npm/vega-lib?noext\",\n",
       "      \"vega-lite\": \"https://cdn.jsdelivr.net/npm/vega-lite@5.20.1?noext\",\n",
       "      \"vega-embed\": \"https://cdn.jsdelivr.net/npm/vega-embed@6?noext\",\n",
       "    };\n",
       "\n",
       "    function maybeLoadScript(lib, version) {\n",
       "      var key = `${lib.replace(\"-\", \"\")}_version`;\n",
       "      return (VEGA_DEBUG[key] == version) ?\n",
       "        Promise.resolve(paths[lib]) :\n",
       "        new Promise(function(resolve, reject) {\n",
       "          var s = document.createElement('script');\n",
       "          document.getElementsByTagName(\"head\")[0].appendChild(s);\n",
       "          s.async = true;\n",
       "          s.onload = () => {\n",
       "            VEGA_DEBUG[key] = version;\n",
       "            return resolve(paths[lib]);\n",
       "          };\n",
       "          s.onerror = () => reject(`Error loading script: ${paths[lib]}`);\n",
       "          s.src = paths[lib];\n",
       "        });\n",
       "    }\n",
       "\n",
       "    function showError(err) {\n",
       "      outputDiv.innerHTML = `<div class=\"error\" style=\"color:red;\">${err}</div>`;\n",
       "      throw err;\n",
       "    }\n",
       "\n",
       "    function displayChart(vegaEmbed) {\n",
       "      vegaEmbed(outputDiv, spec, embedOpt)\n",
       "        .catch(err => showError(`Javascript Error: ${err.message}<br>This usually means there's a typo in your chart specification. See the javascript console for the full traceback.`));\n",
       "    }\n",
       "\n",
       "    if(typeof define === \"function\" && define.amd) {\n",
       "      requirejs.config({paths});\n",
       "      let deps = [\"vega-embed\"];\n",
       "      require(deps, displayChart, err => showError(`Error loading script: ${err.message}`));\n",
       "    } else {\n",
       "      maybeLoadScript(\"vega\", \"5\")\n",
       "        .then(() => maybeLoadScript(\"vega-lite\", \"5.20.1\"))\n",
       "        .then(() => maybeLoadScript(\"vega-embed\", \"6\"))\n",
       "        .catch(showError)\n",
       "        .then(() => displayChart(vegaEmbed));\n",
       "    }\n",
       "  })({\"config\": {\"view\": {\"continuousWidth\": 300, \"continuousHeight\": 300}}, \"vconcat\": [{\"data\": {\"name\": \"data-bbd011dc4b7316b5d8deffee6717ba8e\"}, \"mark\": {\"type\": \"bar\"}, \"encoding\": {\"color\": {\"value\": \"lightgray\"}, \"x\": {\"field\": \"ano\", \"timeUnit\": \"year\", \"type\": \"temporal\"}, \"y\": {\"field\": \"geracao_energ\", \"type\": \"quantitative\"}}, \"height\": 100}, {\"data\": {\"name\": \"data-660282cf28cc0a30f77a1a6c047ab456\"}, \"mark\": {\"type\": \"line\"}, \"encoding\": {\"color\": {\"field\": \"fonte\", \"scale\": {\"domain\": [\"Fossil Fuels\", \"Nuclear Energy\", \"Renewables\"], \"range\": [\"darkslategrey\", \"coral\", \"mediumseagreen\"]}, \"type\": \"nominal\"}, \"x\": {\"field\": \"ano\", \"type\": \"temporal\"}, \"y\": {\"field\": \"geracao_energ\", \"type\": \"quantitative\"}}}], \"$schema\": \"https://vega.github.io/schema/vega-lite/v5.20.1.json\", \"datasets\": {\"data-bbd011dc4b7316b5d8deffee6717ba8e\": [{\"ano\": \"2001-01-01T00:00:00\", \"geracao_energ\": 40651}, {\"ano\": \"2002-01-01T00:00:00\", \"geracao_energ\": 42528}, {\"ano\": \"2003-01-01T00:00:00\", \"geracao_energ\": 42107}, {\"ano\": \"2004-01-01T00:00:00\", \"geracao_energ\": 43236}, {\"ano\": \"2005-01-01T00:00:00\", \"geracao_energ\": 44145}, {\"ano\": \"2006-01-01T00:00:00\", \"geracao_energ\": 45473}, {\"ano\": \"2007-01-01T00:00:00\", \"geracao_energ\": 49778}, {\"ano\": \"2008-01-01T00:00:00\", \"geracao_energ\": 53086}, {\"ano\": \"2009-01-01T00:00:00\", \"geracao_energ\": 51859}, {\"ano\": \"2010-01-01T00:00:00\", \"geracao_energ\": 57509}, {\"ano\": \"2011-01-01T00:00:00\", \"geracao_energ\": 56371}, {\"ano\": \"2012-01-01T00:00:00\", \"geracao_energ\": 56675}, {\"ano\": \"2013-01-01T00:00:00\", \"geracao_energ\": 56670}, {\"ano\": \"2014-01-01T00:00:00\", \"geracao_energ\": 56854}, {\"ano\": \"2015-01-01T00:00:00\", \"geracao_energ\": 56653}, {\"ano\": \"2016-01-01T00:00:00\", \"geracao_energ\": 54381}, {\"ano\": \"2017-01-01T00:00:00\", \"geracao_energ\": 56476}], \"data-660282cf28cc0a30f77a1a6c047ab456\": [{\"ano\": \"2001-01-01T00:00:00\", \"fonte\": \"Fossil Fuels\", \"geracao_energ\": 35361}, {\"ano\": \"2002-01-01T00:00:00\", \"fonte\": \"Fossil Fuels\", \"geracao_energ\": 35991}, {\"ano\": \"2003-01-01T00:00:00\", \"fonte\": \"Fossil Fuels\", \"geracao_energ\": 36234}, {\"ano\": \"2004-01-01T00:00:00\", \"fonte\": \"Fossil Fuels\", \"geracao_energ\": 36205}, {\"ano\": \"2005-01-01T00:00:00\", \"fonte\": \"Fossil Fuels\", \"geracao_energ\": 36883}, {\"ano\": \"2006-01-01T00:00:00\", \"fonte\": \"Fossil Fuels\", \"geracao_energ\": 37014}, {\"ano\": \"2007-01-01T00:00:00\", \"fonte\": \"Fossil Fuels\", \"geracao_energ\": 41389}, {\"ano\": \"2008-01-01T00:00:00\", \"fonte\": \"Fossil Fuels\", \"geracao_energ\": 42734}, {\"ano\": \"2009-01-01T00:00:00\", \"fonte\": \"Fossil Fuels\", \"geracao_energ\": 38620}, {\"ano\": \"2010-01-01T00:00:00\", \"fonte\": \"Fossil Fuels\", \"geracao_energ\": 42750}, {\"ano\": \"2011-01-01T00:00:00\", \"fonte\": \"Fossil Fuels\", \"geracao_energ\": 39361}, {\"ano\": \"2012-01-01T00:00:00\", \"fonte\": \"Fossil Fuels\", \"geracao_energ\": 37379}, {\"ano\": \"2013-01-01T00:00:00\", \"fonte\": \"Fossil Fuels\", \"geracao_energ\": 34873}, {\"ano\": \"2014-01-01T00:00:00\", \"fonte\": \"Fossil Fuels\", \"geracao_energ\": 35250}, {\"ano\": \"2015-01-01T00:00:00\", \"fonte\": \"Fossil Fuels\", \"geracao_energ\": 32319}, {\"ano\": \"2016-01-01T00:00:00\", \"fonte\": \"Fossil Fuels\", \"geracao_energ\": 28437}, {\"ano\": \"2017-01-01T00:00:00\", \"fonte\": \"Fossil Fuels\", \"geracao_energ\": 29329}, {\"ano\": \"2001-01-01T00:00:00\", \"fonte\": \"Nuclear Energy\", \"geracao_energ\": 3853}, {\"ano\": \"2002-01-01T00:00:00\", \"fonte\": \"Nuclear Energy\", \"geracao_energ\": 4574}, {\"ano\": \"2003-01-01T00:00:00\", \"fonte\": \"Nuclear Energy\", \"geracao_energ\": 3988}, {\"ano\": \"2004-01-01T00:00:00\", \"fonte\": \"Nuclear Energy\", \"geracao_energ\": 4929}, {\"ano\": \"2005-01-01T00:00:00\", \"fonte\": \"Nuclear Energy\", \"geracao_energ\": 4538}, {\"ano\": \"2006-01-01T00:00:00\", \"fonte\": \"Nuclear Energy\", \"geracao_energ\": 5095}, {\"ano\": \"2007-01-01T00:00:00\", \"fonte\": \"Nuclear Energy\", \"geracao_energ\": 4519}, {\"ano\": \"2008-01-01T00:00:00\", \"fonte\": \"Nuclear Energy\", \"geracao_energ\": 5282}, {\"ano\": \"2009-01-01T00:00:00\", \"fonte\": \"Nuclear Energy\", \"geracao_energ\": 4679}, {\"ano\": \"2010-01-01T00:00:00\", \"fonte\": \"Nuclear Energy\", \"geracao_energ\": 4451}, {\"ano\": \"2011-01-01T00:00:00\", \"fonte\": \"Nuclear Energy\", \"geracao_energ\": 5215}, {\"ano\": \"2012-01-01T00:00:00\", \"fonte\": \"Nuclear Energy\", \"geracao_energ\": 4347}, {\"ano\": \"2013-01-01T00:00:00\", \"fonte\": \"Nuclear Energy\", \"geracao_energ\": 5321}, {\"ano\": \"2014-01-01T00:00:00\", \"fonte\": \"Nuclear Energy\", \"geracao_energ\": 4152}, {\"ano\": \"2015-01-01T00:00:00\", \"fonte\": \"Nuclear Energy\", \"geracao_energ\": 5243}, {\"ano\": \"2016-01-01T00:00:00\", \"fonte\": \"Nuclear Energy\", \"geracao_energ\": 4703}, {\"ano\": \"2017-01-01T00:00:00\", \"fonte\": \"Nuclear Energy\", \"geracao_energ\": 5214}, {\"ano\": \"2001-01-01T00:00:00\", \"fonte\": \"Renewables\", \"geracao_energ\": 1437}, {\"ano\": \"2002-01-01T00:00:00\", \"fonte\": \"Renewables\", \"geracao_energ\": 1963}, {\"ano\": \"2003-01-01T00:00:00\", \"fonte\": \"Renewables\", \"geracao_energ\": 1885}, {\"ano\": \"2004-01-01T00:00:00\", \"fonte\": \"Renewables\", \"geracao_energ\": 2102}, {\"ano\": \"2005-01-01T00:00:00\", \"fonte\": \"Renewables\", \"geracao_energ\": 2724}, {\"ano\": \"2006-01-01T00:00:00\", \"fonte\": \"Renewables\", \"geracao_energ\": 3364}, {\"ano\": \"2007-01-01T00:00:00\", \"fonte\": \"Renewables\", \"geracao_energ\": 3870}, {\"ano\": \"2008-01-01T00:00:00\", \"fonte\": \"Renewables\", \"geracao_energ\": 5070}, {\"ano\": \"2009-01-01T00:00:00\", \"fonte\": \"Renewables\", \"geracao_energ\": 8560}, {\"ano\": \"2010-01-01T00:00:00\", \"fonte\": \"Renewables\", \"geracao_energ\": 10308}, {\"ano\": \"2011-01-01T00:00:00\", \"fonte\": \"Renewables\", \"geracao_energ\": 11795}, {\"ano\": \"2012-01-01T00:00:00\", \"fonte\": \"Renewables\", \"geracao_energ\": 14949}, {\"ano\": \"2013-01-01T00:00:00\", \"fonte\": \"Renewables\", \"geracao_energ\": 16476}, {\"ano\": \"2014-01-01T00:00:00\", \"fonte\": \"Renewables\", \"geracao_energ\": 17452}, {\"ano\": \"2015-01-01T00:00:00\", \"fonte\": \"Renewables\", \"geracao_energ\": 19091}, {\"ano\": \"2016-01-01T00:00:00\", \"fonte\": \"Renewables\", \"geracao_energ\": 21241}, {\"ano\": \"2017-01-01T00:00:00\", \"fonte\": \"Renewables\", \"geracao_energ\": 21933}]}}, {\"mode\": \"vega-lite\"});\n",
       "</script>"
      ],
      "text/plain": [
       "alt.VConcatChart(...)"
      ]
     },
     "execution_count": 54,
     "metadata": {},
     "output_type": "execute_result"
    }
   ],
   "source": [
    "ano_chart & fontes_chart"
   ]
  }
 ],
 "metadata": {
  "kernelspec": {
   "display_name": "Python 3",
   "language": "python",
   "name": "python3"
  },
  "language_info": {
   "codemirror_mode": {
    "name": "ipython",
    "version": 3
   },
   "file_extension": ".py",
   "mimetype": "text/x-python",
   "name": "python",
   "nbconvert_exporter": "python",
   "pygments_lexer": "ipython3",
   "version": "3.13.1"
  }
 },
 "nbformat": 4,
 "nbformat_minor": 2
}
