{
 "cells": [
  {
   "cell_type": "code",
   "execution_count": 2,
   "metadata": {},
   "outputs": [],
   "source": [
    "import pandas as pd\n",
    "import altair as alt \n",
    "from vega_datasets import data, local_data"
   ]
  },
  {
   "cell_type": "markdown",
   "metadata": {},
   "source": [
    "## Aplicando connhecimento e diferentes funcionalidades\n",
    "\n",
    "Nessa seção, nosso objetivo foi apresentar exemplos aplicando os aprendizados do capítulo juntamente com outras ferramentas das bibliotecas Altair e Pandas. Tais gráficos visam a ampliar o repertório do nosso leitor, otimizar seu aprendizado e instigar sua curiosidade. Os exemplos abaixo foram construídos a partir de diferentes *datasets* do repositório [vega_datasets](https://github.com/vega/vega-datasets)."
   ]
  },
  {
   "cell_type": "markdown",
   "metadata": {},
   "source": [
    "### Trabalhando com *datasets* da coleção vega_datasets\n",
    "\n",
    "Antes de escolher o *dataset* que iremos trabalhar, iremos ressaltar algumas propriedades interessantes do pacote vega_datasets.\n",
    "\n",
    "Para listar todos os *datasets* disponíveis, use o método `list_datasets`:"
   ]
  },
  {
   "cell_type": "code",
   "execution_count": 3,
   "metadata": {},
   "outputs": [
    {
     "data": {
      "text/plain": [
       "['airports',\n",
       " 'anscombe',\n",
       " 'barley',\n",
       " 'burtin',\n",
       " 'cars',\n",
       " 'crimea',\n",
       " 'driving',\n",
       " 'iowa-electricity',\n",
       " 'iris',\n",
       " 'la-riots',\n",
       " 'ohlc',\n",
       " 'seattle-temps',\n",
       " 'seattle-weather',\n",
       " 'sf-temps',\n",
       " 'stocks',\n",
       " 'us-employment',\n",
       " 'wheat']"
      ]
     },
     "execution_count": 3,
     "metadata": {},
     "output_type": "execute_result"
    }
   ],
   "source": [
    "from vega_datasets import local_data\n",
    "local_data.list_datasets()"
   ]
  },
  {
   "cell_type": "markdown",
   "metadata": {},
   "source": [
    "Se quiser obter mais informações sobre qualquer *dataset*, você pode usar a propriedade `description`:"
   ]
  },
  {
   "cell_type": "code",
   "execution_count": 4,
   "metadata": {},
   "outputs": [
    {
     "data": {
      "text/plain": [
       "'Acceleration, horsepower, fuel efficiency, weight, and other characteristics of different makes and models of cars. This dataset was originally published by Donoho et al (1982) [1]_, and was made public at http://lib.stat.cmu.edu/datasets/'"
      ]
     },
     "execution_count": 4,
     "metadata": {},
     "output_type": "execute_result"
    }
   ],
   "source": [
    "data.cars.description"
   ]
  },
  {
   "cell_type": "markdown",
   "metadata": {},
   "source": [
    "### O *Dataset* Iris"
   ]
  },
  {
   "cell_type": "markdown",
   "metadata": {},
   "source": [
    "Para esse exemplo usaremos o *dataset* `iris` do repositório vega_datasets. Começaremos olhando a descrição desse *dataset*:"
   ]
  },
  {
   "cell_type": "code",
   "execution_count": 5,
   "metadata": {},
   "outputs": [
    {
     "data": {
      "text/plain": [
       "'This classic dataset contains lengths and widths of petals and sepals for 150 iris flowers, drawn from three species. It was introduced by R.A. Fisher in 1936 [1]_.'"
      ]
     },
     "execution_count": 5,
     "metadata": {},
     "output_type": "execute_result"
    }
   ],
   "source": [
    "data.iris.description"
   ]
  },
  {
   "cell_type": "markdown",
   "metadata": {},
   "source": [
    "\"Esse conjunto de dados clássico contém comprimentos e larguras de pétalas e sépalas de 150 flores de íris, provenientes de três espécies. Ele foi introduzido por R.A. Fisher em 1936 [1]_.\"\n",
    "\n",
    "Essa descrição nos permite ter uma noção melhor de quais variáveis temos disponíveis, quais os tipos de dados que podemos trabalhar, o tamanho do *data frame*, etc. Vamos então importar esse *dataset* para comerçarmos a análise:"
   ]
  },
  {
   "cell_type": "code",
   "execution_count": 6,
   "metadata": {},
   "outputs": [
    {
     "data": {
      "text/html": [
       "<div>\n",
       "<style scoped>\n",
       "    .dataframe tbody tr th:only-of-type {\n",
       "        vertical-align: middle;\n",
       "    }\n",
       "\n",
       "    .dataframe tbody tr th {\n",
       "        vertical-align: top;\n",
       "    }\n",
       "\n",
       "    .dataframe thead th {\n",
       "        text-align: right;\n",
       "    }\n",
       "</style>\n",
       "<table border=\"1\" class=\"dataframe\">\n",
       "  <thead>\n",
       "    <tr style=\"text-align: right;\">\n",
       "      <th></th>\n",
       "      <th>sepalLength</th>\n",
       "      <th>sepalWidth</th>\n",
       "      <th>petalLength</th>\n",
       "      <th>petalWidth</th>\n",
       "      <th>species</th>\n",
       "    </tr>\n",
       "  </thead>\n",
       "  <tbody>\n",
       "    <tr>\n",
       "      <th>0</th>\n",
       "      <td>5.1</td>\n",
       "      <td>3.5</td>\n",
       "      <td>1.4</td>\n",
       "      <td>0.2</td>\n",
       "      <td>setosa</td>\n",
       "    </tr>\n",
       "    <tr>\n",
       "      <th>1</th>\n",
       "      <td>4.9</td>\n",
       "      <td>3.0</td>\n",
       "      <td>1.4</td>\n",
       "      <td>0.2</td>\n",
       "      <td>setosa</td>\n",
       "    </tr>\n",
       "    <tr>\n",
       "      <th>2</th>\n",
       "      <td>4.7</td>\n",
       "      <td>3.2</td>\n",
       "      <td>1.3</td>\n",
       "      <td>0.2</td>\n",
       "      <td>setosa</td>\n",
       "    </tr>\n",
       "    <tr>\n",
       "      <th>3</th>\n",
       "      <td>4.6</td>\n",
       "      <td>3.1</td>\n",
       "      <td>1.5</td>\n",
       "      <td>0.2</td>\n",
       "      <td>setosa</td>\n",
       "    </tr>\n",
       "    <tr>\n",
       "      <th>4</th>\n",
       "      <td>5.0</td>\n",
       "      <td>3.6</td>\n",
       "      <td>1.4</td>\n",
       "      <td>0.2</td>\n",
       "      <td>setosa</td>\n",
       "    </tr>\n",
       "  </tbody>\n",
       "</table>\n",
       "</div>"
      ],
      "text/plain": [
       "   sepalLength  sepalWidth  petalLength  petalWidth species\n",
       "0          5.1         3.5          1.4         0.2  setosa\n",
       "1          4.9         3.0          1.4         0.2  setosa\n",
       "2          4.7         3.2          1.3         0.2  setosa\n",
       "3          4.6         3.1          1.5         0.2  setosa\n",
       "4          5.0         3.6          1.4         0.2  setosa"
      ]
     },
     "execution_count": 6,
     "metadata": {},
     "output_type": "execute_result"
    }
   ],
   "source": [
    "iris = data.iris()\n",
    "iris.head()"
   ]
  },
  {
   "cell_type": "markdown",
   "metadata": {},
   "source": [
    "Assim, como mostrado no notebook anterior, podemos renomear as colunas para melhor entendimento, usando `rename(columns={})`."
   ]
  },
  {
   "cell_type": "code",
   "execution_count": 7,
   "metadata": {},
   "outputs": [
    {
     "data": {
      "text/html": [
       "<div>\n",
       "<style scoped>\n",
       "    .dataframe tbody tr th:only-of-type {\n",
       "        vertical-align: middle;\n",
       "    }\n",
       "\n",
       "    .dataframe tbody tr th {\n",
       "        vertical-align: top;\n",
       "    }\n",
       "\n",
       "    .dataframe thead th {\n",
       "        text-align: right;\n",
       "    }\n",
       "</style>\n",
       "<table border=\"1\" class=\"dataframe\">\n",
       "  <thead>\n",
       "    <tr style=\"text-align: right;\">\n",
       "      <th></th>\n",
       "      <th>Comprimento da Sépala</th>\n",
       "      <th>Largura da Sépala</th>\n",
       "      <th>Comprimento da Pétala</th>\n",
       "      <th>Largura da Pétala</th>\n",
       "      <th>Espécie</th>\n",
       "    </tr>\n",
       "  </thead>\n",
       "  <tbody>\n",
       "    <tr>\n",
       "      <th>0</th>\n",
       "      <td>5.1</td>\n",
       "      <td>3.5</td>\n",
       "      <td>1.4</td>\n",
       "      <td>0.2</td>\n",
       "      <td>setosa</td>\n",
       "    </tr>\n",
       "    <tr>\n",
       "      <th>1</th>\n",
       "      <td>4.9</td>\n",
       "      <td>3.0</td>\n",
       "      <td>1.4</td>\n",
       "      <td>0.2</td>\n",
       "      <td>setosa</td>\n",
       "    </tr>\n",
       "    <tr>\n",
       "      <th>2</th>\n",
       "      <td>4.7</td>\n",
       "      <td>3.2</td>\n",
       "      <td>1.3</td>\n",
       "      <td>0.2</td>\n",
       "      <td>setosa</td>\n",
       "    </tr>\n",
       "    <tr>\n",
       "      <th>3</th>\n",
       "      <td>4.6</td>\n",
       "      <td>3.1</td>\n",
       "      <td>1.5</td>\n",
       "      <td>0.2</td>\n",
       "      <td>setosa</td>\n",
       "    </tr>\n",
       "    <tr>\n",
       "      <th>4</th>\n",
       "      <td>5.0</td>\n",
       "      <td>3.6</td>\n",
       "      <td>1.4</td>\n",
       "      <td>0.2</td>\n",
       "      <td>setosa</td>\n",
       "    </tr>\n",
       "  </tbody>\n",
       "</table>\n",
       "</div>"
      ],
      "text/plain": [
       "   Comprimento da Sépala  Largura da Sépala  Comprimento da Pétala  \\\n",
       "0                    5.1                3.5                    1.4   \n",
       "1                    4.9                3.0                    1.4   \n",
       "2                    4.7                3.2                    1.3   \n",
       "3                    4.6                3.1                    1.5   \n",
       "4                    5.0                3.6                    1.4   \n",
       "\n",
       "   Largura da Pétala Espécie  \n",
       "0                0.2  setosa  \n",
       "1                0.2  setosa  \n",
       "2                0.2  setosa  \n",
       "3                0.2  setosa  \n",
       "4                0.2  setosa  "
      ]
     },
     "execution_count": 7,
     "metadata": {},
     "output_type": "execute_result"
    }
   ],
   "source": [
    "iris = iris.rename(columns={\n",
    "    'sepalLength': 'Comprimento da Sépala',\n",
    "    'sepalWidth': 'Largura da Sépala',\n",
    "    'petalLength': 'Comprimento da Pétala',\n",
    "    'petalWidth': 'Largura da Pétala',\n",
    "    'species': 'Espécie'\n",
    "})\n",
    "iris.head()"
   ]
  },
  {
   "cell_type": "markdown",
   "metadata": {},
   "source": [
    "Sobre os tipos de dados, temos dados quantitivos de largura e comprimento, tanto da pétala quando da sépala, e dados nominais da espécie.\n",
    "\n",
    "Podemos também definir um esquema de cores específico para os gráficos, para combinar melhor com o tema e contexto. Lembrando que as cores para os gráficos que optamos por fazer abaixo, não devem formar gradiente ou expressar noção de hierarquia, uma vez que essa relação não existe, e não é explorada, entre as espécies trabalhadas. Para saber melhor como é feito, consulte o notebook anterior."
   ]
  },
  {
   "cell_type": "code",
   "execution_count": 8,
   "metadata": {},
   "outputs": [],
   "source": [
    "color_map = alt.Scale(\n",
    "    domain = ['setosa', 'versicolor', 'virginica'],\n",
    "    range = ['#8FBED6', '#93C572', '#8A2BE2']\n",
    ")"
   ]
  },
  {
   "cell_type": "markdown",
   "metadata": {},
   "source": [
    "Vamos começar fazendo gráficos de dispersão relacionando as diferentes variáveis."
   ]
  },
  {
   "cell_type": "code",
   "execution_count": 10,
   "metadata": {},
   "outputs": [
    {
     "name": "stderr",
     "output_type": "stream",
     "text": [
      "c:\\Users\\bianc\\AppData\\Local\\Microsoft\\WindowsApps\\Lib\\site-packages\\altair\\utils\\core.py:395: FutureWarning: the convert_dtype parameter is deprecated and will be removed in a future version.  Do ``ser.astype(object).apply()`` instead if you want ``convert_dtype=False``.\n",
      "  col = df[col_name].apply(to_list_if_array, convert_dtype=False)\n"
     ]
    },
    {
     "data": {
      "text/html": [
       "\n",
       "<style>\n",
       "  #altair-viz-073a6938873048e8bea545ea3352d3ae.vega-embed {\n",
       "    width: 100%;\n",
       "    display: flex;\n",
       "  }\n",
       "\n",
       "  #altair-viz-073a6938873048e8bea545ea3352d3ae.vega-embed details,\n",
       "  #altair-viz-073a6938873048e8bea545ea3352d3ae.vega-embed details summary {\n",
       "    position: relative;\n",
       "  }\n",
       "</style>\n",
       "<div id=\"altair-viz-073a6938873048e8bea545ea3352d3ae\"></div>\n",
       "<script type=\"text/javascript\">\n",
       "  var VEGA_DEBUG = (typeof VEGA_DEBUG == \"undefined\") ? {} : VEGA_DEBUG;\n",
       "  (function(spec, embedOpt){\n",
       "    let outputDiv = document.currentScript.previousElementSibling;\n",
       "    if (outputDiv.id !== \"altair-viz-073a6938873048e8bea545ea3352d3ae\") {\n",
       "      outputDiv = document.getElementById(\"altair-viz-073a6938873048e8bea545ea3352d3ae\");\n",
       "    }\n",
       "    const paths = {\n",
       "      \"vega\": \"https://cdn.jsdelivr.net/npm/vega@5?noext\",\n",
       "      \"vega-lib\": \"https://cdn.jsdelivr.net/npm/vega-lib?noext\",\n",
       "      \"vega-lite\": \"https://cdn.jsdelivr.net/npm/vega-lite@5.8.0?noext\",\n",
       "      \"vega-embed\": \"https://cdn.jsdelivr.net/npm/vega-embed@6?noext\",\n",
       "    };\n",
       "\n",
       "    function maybeLoadScript(lib, version) {\n",
       "      var key = `${lib.replace(\"-\", \"\")}_version`;\n",
       "      return (VEGA_DEBUG[key] == version) ?\n",
       "        Promise.resolve(paths[lib]) :\n",
       "        new Promise(function(resolve, reject) {\n",
       "          var s = document.createElement('script');\n",
       "          document.getElementsByTagName(\"head\")[0].appendChild(s);\n",
       "          s.async = true;\n",
       "          s.onload = () => {\n",
       "            VEGA_DEBUG[key] = version;\n",
       "            return resolve(paths[lib]);\n",
       "          };\n",
       "          s.onerror = () => reject(`Error loading script: ${paths[lib]}`);\n",
       "          s.src = paths[lib];\n",
       "        });\n",
       "    }\n",
       "\n",
       "    function showError(err) {\n",
       "      outputDiv.innerHTML = `<div class=\"error\" style=\"color:red;\">${err}</div>`;\n",
       "      throw err;\n",
       "    }\n",
       "\n",
       "    function displayChart(vegaEmbed) {\n",
       "      vegaEmbed(outputDiv, spec, embedOpt)\n",
       "        .catch(err => showError(`Javascript Error: ${err.message}<br>This usually means there's a typo in your chart specification. See the javascript console for the full traceback.`));\n",
       "    }\n",
       "\n",
       "    if(typeof define === \"function\" && define.amd) {\n",
       "      requirejs.config({paths});\n",
       "      require([\"vega-embed\"], displayChart, err => showError(`Error loading script: ${err.message}`));\n",
       "    } else {\n",
       "      maybeLoadScript(\"vega\", \"5\")\n",
       "        .then(() => maybeLoadScript(\"vega-lite\", \"5.8.0\"))\n",
       "        .then(() => maybeLoadScript(\"vega-embed\", \"6\"))\n",
       "        .catch(showError)\n",
       "        .then(() => displayChart(vegaEmbed));\n",
       "    }\n",
       "  })({\"config\": {\"view\": {\"continuousWidth\": 300, \"continuousHeight\": 300}}, \"hconcat\": [{\"mark\": {\"type\": \"point\", \"filled\": true}, \"encoding\": {\"color\": {\"field\": \"Esp\\u00e9cie\", \"scale\": {\"domain\": [\"setosa\", \"versicolor\", \"virginica\"], \"range\": [\"#8FBED6\", \"#93C572\", \"#8A2BE2\"]}, \"type\": \"nominal\"}, \"x\": {\"field\": \"Comprimento da P\\u00e9tala\", \"type\": \"quantitative\"}, \"y\": {\"field\": \"Comprimento da S\\u00e9pala\", \"type\": \"quantitative\"}}, \"height\": 200, \"width\": 200}, {\"mark\": {\"type\": \"point\", \"filled\": true}, \"encoding\": {\"color\": {\"field\": \"Esp\\u00e9cie\", \"scale\": {\"domain\": [\"setosa\", \"versicolor\", \"virginica\"], \"range\": [\"#8FBED6\", \"#93C572\", \"#8A2BE2\"]}, \"type\": \"nominal\"}, \"x\": {\"field\": \"Largura da P\\u00e9tala\", \"type\": \"quantitative\"}, \"y\": {\"field\": \"Largura da S\\u00e9pala\", \"type\": \"quantitative\"}}, \"height\": 200, \"width\": 200}, {\"mark\": {\"type\": \"point\", \"filled\": true}, \"encoding\": {\"color\": {\"field\": \"Esp\\u00e9cie\", \"scale\": {\"domain\": [\"setosa\", \"versicolor\", \"virginica\"], \"range\": [\"#8FBED6\", \"#93C572\", \"#8A2BE2\"]}, \"type\": \"nominal\"}, \"x\": {\"field\": \"Comprimento da P\\u00e9tala\", \"type\": \"quantitative\"}, \"y\": {\"field\": \"Largura da P\\u00e9tala\", \"type\": \"quantitative\"}}, \"height\": 200, \"width\": 200}, {\"mark\": {\"type\": \"point\", \"filled\": true}, \"encoding\": {\"color\": {\"field\": \"Esp\\u00e9cie\", \"scale\": {\"domain\": [\"setosa\", \"versicolor\", \"virginica\"], \"range\": [\"#8FBED6\", \"#93C572\", \"#8A2BE2\"]}, \"type\": \"nominal\"}, \"x\": {\"field\": \"Comprimento da S\\u00e9pala\", \"type\": \"quantitative\"}, \"y\": {\"field\": \"Largura da S\\u00e9pala\", \"type\": \"quantitative\"}}, \"height\": 200, \"width\": 200}], \"data\": {\"name\": \"data-b067a6a7cf9786b30a58e36de4e11680\"}, \"$schema\": \"https://vega.github.io/schema/vega-lite/v5.8.0.json\", \"datasets\": {\"data-b067a6a7cf9786b30a58e36de4e11680\": [{\"Comprimento da S\\u00e9pala\": 5.1, \"Largura da S\\u00e9pala\": 3.5, \"Comprimento da P\\u00e9tala\": 1.4, \"Largura da P\\u00e9tala\": 0.2, \"Esp\\u00e9cie\": \"setosa\"}, {\"Comprimento da S\\u00e9pala\": 4.9, \"Largura da S\\u00e9pala\": 3.0, \"Comprimento da P\\u00e9tala\": 1.4, \"Largura da P\\u00e9tala\": 0.2, \"Esp\\u00e9cie\": \"setosa\"}, {\"Comprimento da S\\u00e9pala\": 4.7, \"Largura da S\\u00e9pala\": 3.2, \"Comprimento da P\\u00e9tala\": 1.3, \"Largura da P\\u00e9tala\": 0.2, \"Esp\\u00e9cie\": \"setosa\"}, {\"Comprimento da S\\u00e9pala\": 4.6, \"Largura da S\\u00e9pala\": 3.1, \"Comprimento da P\\u00e9tala\": 1.5, \"Largura da P\\u00e9tala\": 0.2, \"Esp\\u00e9cie\": \"setosa\"}, {\"Comprimento da S\\u00e9pala\": 5.0, \"Largura da S\\u00e9pala\": 3.6, \"Comprimento da P\\u00e9tala\": 1.4, \"Largura da P\\u00e9tala\": 0.2, \"Esp\\u00e9cie\": \"setosa\"}, {\"Comprimento da S\\u00e9pala\": 5.4, \"Largura da S\\u00e9pala\": 3.9, \"Comprimento da P\\u00e9tala\": 1.7000000000000002, \"Largura da P\\u00e9tala\": 0.4, \"Esp\\u00e9cie\": \"setosa\"}, {\"Comprimento da S\\u00e9pala\": 4.6, \"Largura da S\\u00e9pala\": 3.4, \"Comprimento da P\\u00e9tala\": 1.4, \"Largura da P\\u00e9tala\": 0.30000000000000004, \"Esp\\u00e9cie\": \"setosa\"}, {\"Comprimento da S\\u00e9pala\": 5.0, \"Largura da S\\u00e9pala\": 3.4, \"Comprimento da P\\u00e9tala\": 1.5, \"Largura da P\\u00e9tala\": 0.2, \"Esp\\u00e9cie\": \"setosa\"}, {\"Comprimento da S\\u00e9pala\": 4.4, \"Largura da S\\u00e9pala\": 2.9, \"Comprimento da P\\u00e9tala\": 1.4, \"Largura da P\\u00e9tala\": 0.2, \"Esp\\u00e9cie\": \"setosa\"}, {\"Comprimento da S\\u00e9pala\": 4.9, \"Largura da S\\u00e9pala\": 3.1, \"Comprimento da P\\u00e9tala\": 1.5, \"Largura da P\\u00e9tala\": 0.1, \"Esp\\u00e9cie\": \"setosa\"}, {\"Comprimento da S\\u00e9pala\": 5.4, \"Largura da S\\u00e9pala\": 3.7, \"Comprimento da P\\u00e9tala\": 1.5, \"Largura da P\\u00e9tala\": 0.2, \"Esp\\u00e9cie\": \"setosa\"}, {\"Comprimento da S\\u00e9pala\": 4.8, \"Largura da S\\u00e9pala\": 3.4, \"Comprimento da P\\u00e9tala\": 1.6, \"Largura da P\\u00e9tala\": 0.2, \"Esp\\u00e9cie\": \"setosa\"}, {\"Comprimento da S\\u00e9pala\": 4.8, \"Largura da S\\u00e9pala\": 3.0, \"Comprimento da P\\u00e9tala\": 1.4, \"Largura da P\\u00e9tala\": 0.1, \"Esp\\u00e9cie\": \"setosa\"}, {\"Comprimento da S\\u00e9pala\": 4.3, \"Largura da S\\u00e9pala\": 3.0, \"Comprimento da P\\u00e9tala\": 1.1, \"Largura da P\\u00e9tala\": 0.1, \"Esp\\u00e9cie\": \"setosa\"}, {\"Comprimento da S\\u00e9pala\": 5.8, \"Largura da S\\u00e9pala\": 4.0, \"Comprimento da P\\u00e9tala\": 1.2, \"Largura da P\\u00e9tala\": 0.2, \"Esp\\u00e9cie\": \"setosa\"}, {\"Comprimento da S\\u00e9pala\": 5.7, \"Largura da S\\u00e9pala\": 4.4, \"Comprimento da P\\u00e9tala\": 1.5, \"Largura da P\\u00e9tala\": 0.4, \"Esp\\u00e9cie\": \"setosa\"}, {\"Comprimento da S\\u00e9pala\": 5.4, \"Largura da S\\u00e9pala\": 3.9, \"Comprimento da P\\u00e9tala\": 1.3, \"Largura da P\\u00e9tala\": 0.4, \"Esp\\u00e9cie\": \"setosa\"}, {\"Comprimento da S\\u00e9pala\": 5.1, \"Largura da S\\u00e9pala\": 3.5, \"Comprimento da P\\u00e9tala\": 1.4, \"Largura da P\\u00e9tala\": 0.30000000000000004, \"Esp\\u00e9cie\": \"setosa\"}, {\"Comprimento da S\\u00e9pala\": 5.7, \"Largura da S\\u00e9pala\": 3.8, \"Comprimento da P\\u00e9tala\": 1.7000000000000002, \"Largura da P\\u00e9tala\": 0.30000000000000004, \"Esp\\u00e9cie\": \"setosa\"}, {\"Comprimento da S\\u00e9pala\": 5.1, \"Largura da S\\u00e9pala\": 3.8, \"Comprimento da P\\u00e9tala\": 1.5, \"Largura da P\\u00e9tala\": 0.30000000000000004, \"Esp\\u00e9cie\": \"setosa\"}, {\"Comprimento da S\\u00e9pala\": 5.4, \"Largura da S\\u00e9pala\": 3.4, \"Comprimento da P\\u00e9tala\": 1.7000000000000002, \"Largura da P\\u00e9tala\": 0.2, \"Esp\\u00e9cie\": \"setosa\"}, {\"Comprimento da S\\u00e9pala\": 5.1, \"Largura da S\\u00e9pala\": 3.7, \"Comprimento da P\\u00e9tala\": 1.5, \"Largura da P\\u00e9tala\": 0.4, \"Esp\\u00e9cie\": \"setosa\"}, {\"Comprimento da S\\u00e9pala\": 4.6, \"Largura da S\\u00e9pala\": 3.6, \"Comprimento da P\\u00e9tala\": 1.0, \"Largura da P\\u00e9tala\": 0.2, \"Esp\\u00e9cie\": \"setosa\"}, {\"Comprimento da S\\u00e9pala\": 5.1, \"Largura da S\\u00e9pala\": 3.3, \"Comprimento da P\\u00e9tala\": 1.7000000000000002, \"Largura da P\\u00e9tala\": 0.5, \"Esp\\u00e9cie\": \"setosa\"}, {\"Comprimento da S\\u00e9pala\": 4.8, \"Largura da S\\u00e9pala\": 3.4, \"Comprimento da P\\u00e9tala\": 1.9, \"Largura da P\\u00e9tala\": 0.2, \"Esp\\u00e9cie\": \"setosa\"}, {\"Comprimento da S\\u00e9pala\": 5.0, \"Largura da S\\u00e9pala\": 3.0, \"Comprimento da P\\u00e9tala\": 1.6, \"Largura da P\\u00e9tala\": 0.2, \"Esp\\u00e9cie\": \"setosa\"}, {\"Comprimento da S\\u00e9pala\": 5.0, \"Largura da S\\u00e9pala\": 3.4, \"Comprimento da P\\u00e9tala\": 1.6, \"Largura da P\\u00e9tala\": 0.4, \"Esp\\u00e9cie\": \"setosa\"}, {\"Comprimento da S\\u00e9pala\": 5.2, \"Largura da S\\u00e9pala\": 3.5, \"Comprimento da P\\u00e9tala\": 1.5, \"Largura da P\\u00e9tala\": 0.2, \"Esp\\u00e9cie\": \"setosa\"}, {\"Comprimento da S\\u00e9pala\": 5.2, \"Largura da S\\u00e9pala\": 3.4, \"Comprimento da P\\u00e9tala\": 1.4, \"Largura da P\\u00e9tala\": 0.2, \"Esp\\u00e9cie\": \"setosa\"}, {\"Comprimento da S\\u00e9pala\": 4.7, \"Largura da S\\u00e9pala\": 3.2, \"Comprimento da P\\u00e9tala\": 1.6, \"Largura da P\\u00e9tala\": 0.2, \"Esp\\u00e9cie\": \"setosa\"}, {\"Comprimento da S\\u00e9pala\": 4.8, \"Largura da S\\u00e9pala\": 3.1, \"Comprimento da P\\u00e9tala\": 1.6, \"Largura da P\\u00e9tala\": 0.2, \"Esp\\u00e9cie\": \"setosa\"}, {\"Comprimento da S\\u00e9pala\": 5.4, \"Largura da S\\u00e9pala\": 3.4, \"Comprimento da P\\u00e9tala\": 1.5, \"Largura da P\\u00e9tala\": 0.4, \"Esp\\u00e9cie\": \"setosa\"}, {\"Comprimento da S\\u00e9pala\": 5.2, \"Largura da S\\u00e9pala\": 4.1, \"Comprimento da P\\u00e9tala\": 1.5, \"Largura da P\\u00e9tala\": 0.1, \"Esp\\u00e9cie\": \"setosa\"}, {\"Comprimento da S\\u00e9pala\": 5.5, \"Largura da S\\u00e9pala\": 4.2, \"Comprimento da P\\u00e9tala\": 1.4, \"Largura da P\\u00e9tala\": 0.2, \"Esp\\u00e9cie\": \"setosa\"}, {\"Comprimento da S\\u00e9pala\": 4.9, \"Largura da S\\u00e9pala\": 3.1, \"Comprimento da P\\u00e9tala\": 1.5, \"Largura da P\\u00e9tala\": 0.2, \"Esp\\u00e9cie\": \"setosa\"}, {\"Comprimento da S\\u00e9pala\": 5.0, \"Largura da S\\u00e9pala\": 3.2, \"Comprimento da P\\u00e9tala\": 1.2, \"Largura da P\\u00e9tala\": 0.2, \"Esp\\u00e9cie\": \"setosa\"}, {\"Comprimento da S\\u00e9pala\": 5.5, \"Largura da S\\u00e9pala\": 3.5, \"Comprimento da P\\u00e9tala\": 1.3, \"Largura da P\\u00e9tala\": 0.2, \"Esp\\u00e9cie\": \"setosa\"}, {\"Comprimento da S\\u00e9pala\": 4.9, \"Largura da S\\u00e9pala\": 3.6, \"Comprimento da P\\u00e9tala\": 1.4, \"Largura da P\\u00e9tala\": 0.1, \"Esp\\u00e9cie\": \"setosa\"}, {\"Comprimento da S\\u00e9pala\": 4.4, \"Largura da S\\u00e9pala\": 3.0, \"Comprimento da P\\u00e9tala\": 1.3, \"Largura da P\\u00e9tala\": 0.2, \"Esp\\u00e9cie\": \"setosa\"}, {\"Comprimento da S\\u00e9pala\": 5.1, \"Largura da S\\u00e9pala\": 3.4, \"Comprimento da P\\u00e9tala\": 1.5, \"Largura da P\\u00e9tala\": 0.2, \"Esp\\u00e9cie\": \"setosa\"}, {\"Comprimento da S\\u00e9pala\": 5.0, \"Largura da S\\u00e9pala\": 3.5, \"Comprimento da P\\u00e9tala\": 1.3, \"Largura da P\\u00e9tala\": 0.30000000000000004, \"Esp\\u00e9cie\": \"setosa\"}, {\"Comprimento da S\\u00e9pala\": 4.5, \"Largura da S\\u00e9pala\": 2.3, \"Comprimento da P\\u00e9tala\": 1.3, \"Largura da P\\u00e9tala\": 0.30000000000000004, \"Esp\\u00e9cie\": \"setosa\"}, {\"Comprimento da S\\u00e9pala\": 4.4, \"Largura da S\\u00e9pala\": 3.2, \"Comprimento da P\\u00e9tala\": 1.3, \"Largura da P\\u00e9tala\": 0.2, \"Esp\\u00e9cie\": \"setosa\"}, {\"Comprimento da S\\u00e9pala\": 5.0, \"Largura da S\\u00e9pala\": 3.5, \"Comprimento da P\\u00e9tala\": 1.6, \"Largura da P\\u00e9tala\": 0.6000000000000001, \"Esp\\u00e9cie\": \"setosa\"}, {\"Comprimento da S\\u00e9pala\": 5.1, \"Largura da S\\u00e9pala\": 3.8, \"Comprimento da P\\u00e9tala\": 1.9, \"Largura da P\\u00e9tala\": 0.4, \"Esp\\u00e9cie\": \"setosa\"}, {\"Comprimento da S\\u00e9pala\": 4.8, \"Largura da S\\u00e9pala\": 3.0, \"Comprimento da P\\u00e9tala\": 1.4, \"Largura da P\\u00e9tala\": 0.30000000000000004, \"Esp\\u00e9cie\": \"setosa\"}, {\"Comprimento da S\\u00e9pala\": 5.1, \"Largura da S\\u00e9pala\": 3.8, \"Comprimento da P\\u00e9tala\": 1.6, \"Largura da P\\u00e9tala\": 0.2, \"Esp\\u00e9cie\": \"setosa\"}, {\"Comprimento da S\\u00e9pala\": 4.6, \"Largura da S\\u00e9pala\": 3.2, \"Comprimento da P\\u00e9tala\": 1.4, \"Largura da P\\u00e9tala\": 0.2, \"Esp\\u00e9cie\": \"setosa\"}, {\"Comprimento da S\\u00e9pala\": 5.3, \"Largura da S\\u00e9pala\": 3.7, \"Comprimento da P\\u00e9tala\": 1.5, \"Largura da P\\u00e9tala\": 0.2, \"Esp\\u00e9cie\": \"setosa\"}, {\"Comprimento da S\\u00e9pala\": 5.0, \"Largura da S\\u00e9pala\": 3.3, \"Comprimento da P\\u00e9tala\": 1.4, \"Largura da P\\u00e9tala\": 0.2, \"Esp\\u00e9cie\": \"setosa\"}, {\"Comprimento da S\\u00e9pala\": 7.0, \"Largura da S\\u00e9pala\": 3.2, \"Comprimento da P\\u00e9tala\": 4.7, \"Largura da P\\u00e9tala\": 1.4, \"Esp\\u00e9cie\": \"versicolor\"}, {\"Comprimento da S\\u00e9pala\": 6.4, \"Largura da S\\u00e9pala\": 3.2, \"Comprimento da P\\u00e9tala\": 4.5, \"Largura da P\\u00e9tala\": 1.5, \"Esp\\u00e9cie\": \"versicolor\"}, {\"Comprimento da S\\u00e9pala\": 6.9, \"Largura da S\\u00e9pala\": 3.1, \"Comprimento da P\\u00e9tala\": 4.9, \"Largura da P\\u00e9tala\": 1.5, \"Esp\\u00e9cie\": \"versicolor\"}, {\"Comprimento da S\\u00e9pala\": 5.5, \"Largura da S\\u00e9pala\": 2.3, \"Comprimento da P\\u00e9tala\": 4.0, \"Largura da P\\u00e9tala\": 1.3, \"Esp\\u00e9cie\": \"versicolor\"}, {\"Comprimento da S\\u00e9pala\": 6.5, \"Largura da S\\u00e9pala\": 2.8, \"Comprimento da P\\u00e9tala\": 4.6, \"Largura da P\\u00e9tala\": 1.5, \"Esp\\u00e9cie\": \"versicolor\"}, {\"Comprimento da S\\u00e9pala\": 5.7, \"Largura da S\\u00e9pala\": 2.8, \"Comprimento da P\\u00e9tala\": 4.5, \"Largura da P\\u00e9tala\": 1.3, \"Esp\\u00e9cie\": \"versicolor\"}, {\"Comprimento da S\\u00e9pala\": 6.3, \"Largura da S\\u00e9pala\": 3.3, \"Comprimento da P\\u00e9tala\": 4.7, \"Largura da P\\u00e9tala\": 1.6, \"Esp\\u00e9cie\": \"versicolor\"}, {\"Comprimento da S\\u00e9pala\": 4.9, \"Largura da S\\u00e9pala\": 2.4, \"Comprimento da P\\u00e9tala\": 3.3, \"Largura da P\\u00e9tala\": 1.0, \"Esp\\u00e9cie\": \"versicolor\"}, {\"Comprimento da S\\u00e9pala\": 6.6, \"Largura da S\\u00e9pala\": 2.9, \"Comprimento da P\\u00e9tala\": 4.6, \"Largura da P\\u00e9tala\": 1.3, \"Esp\\u00e9cie\": \"versicolor\"}, {\"Comprimento da S\\u00e9pala\": 5.2, \"Largura da S\\u00e9pala\": 2.7, \"Comprimento da P\\u00e9tala\": 3.9, \"Largura da P\\u00e9tala\": 1.4, \"Esp\\u00e9cie\": \"versicolor\"}, {\"Comprimento da S\\u00e9pala\": 5.0, \"Largura da S\\u00e9pala\": 2.0, \"Comprimento da P\\u00e9tala\": 3.5, \"Largura da P\\u00e9tala\": 1.0, \"Esp\\u00e9cie\": \"versicolor\"}, {\"Comprimento da S\\u00e9pala\": 5.9, \"Largura da S\\u00e9pala\": 3.0, \"Comprimento da P\\u00e9tala\": 4.2, \"Largura da P\\u00e9tala\": 1.5, \"Esp\\u00e9cie\": \"versicolor\"}, {\"Comprimento da S\\u00e9pala\": 6.0, \"Largura da S\\u00e9pala\": 2.2, \"Comprimento da P\\u00e9tala\": 4.0, \"Largura da P\\u00e9tala\": 1.0, \"Esp\\u00e9cie\": \"versicolor\"}, {\"Comprimento da S\\u00e9pala\": 6.1, \"Largura da S\\u00e9pala\": 2.9, \"Comprimento da P\\u00e9tala\": 4.7, \"Largura da P\\u00e9tala\": 1.4, \"Esp\\u00e9cie\": \"versicolor\"}, {\"Comprimento da S\\u00e9pala\": 5.6, \"Largura da S\\u00e9pala\": 2.9, \"Comprimento da P\\u00e9tala\": 3.6, \"Largura da P\\u00e9tala\": 1.3, \"Esp\\u00e9cie\": \"versicolor\"}, {\"Comprimento da S\\u00e9pala\": 6.7, \"Largura da S\\u00e9pala\": 3.1, \"Comprimento da P\\u00e9tala\": 4.4, \"Largura da P\\u00e9tala\": 1.4, \"Esp\\u00e9cie\": \"versicolor\"}, {\"Comprimento da S\\u00e9pala\": 5.6, \"Largura da S\\u00e9pala\": 3.0, \"Comprimento da P\\u00e9tala\": 4.5, \"Largura da P\\u00e9tala\": 1.5, \"Esp\\u00e9cie\": \"versicolor\"}, {\"Comprimento da S\\u00e9pala\": 5.8, \"Largura da S\\u00e9pala\": 2.7, \"Comprimento da P\\u00e9tala\": 4.1, \"Largura da P\\u00e9tala\": 1.0, \"Esp\\u00e9cie\": \"versicolor\"}, {\"Comprimento da S\\u00e9pala\": 6.2, \"Largura da S\\u00e9pala\": 2.2, \"Comprimento da P\\u00e9tala\": 4.5, \"Largura da P\\u00e9tala\": 1.5, \"Esp\\u00e9cie\": \"versicolor\"}, {\"Comprimento da S\\u00e9pala\": 5.6, \"Largura da S\\u00e9pala\": 2.5, \"Comprimento da P\\u00e9tala\": 3.9, \"Largura da P\\u00e9tala\": 1.1, \"Esp\\u00e9cie\": \"versicolor\"}, {\"Comprimento da S\\u00e9pala\": 5.9, \"Largura da S\\u00e9pala\": 3.2, \"Comprimento da P\\u00e9tala\": 4.8, \"Largura da P\\u00e9tala\": 1.8, \"Esp\\u00e9cie\": \"versicolor\"}, {\"Comprimento da S\\u00e9pala\": 6.1, \"Largura da S\\u00e9pala\": 2.8, \"Comprimento da P\\u00e9tala\": 4.0, \"Largura da P\\u00e9tala\": 1.3, \"Esp\\u00e9cie\": \"versicolor\"}, {\"Comprimento da S\\u00e9pala\": 6.3, \"Largura da S\\u00e9pala\": 2.5, \"Comprimento da P\\u00e9tala\": 4.9, \"Largura da P\\u00e9tala\": 1.5, \"Esp\\u00e9cie\": \"versicolor\"}, {\"Comprimento da S\\u00e9pala\": 6.1, \"Largura da S\\u00e9pala\": 2.8, \"Comprimento da P\\u00e9tala\": 4.7, \"Largura da P\\u00e9tala\": 1.2, \"Esp\\u00e9cie\": \"versicolor\"}, {\"Comprimento da S\\u00e9pala\": 6.4, \"Largura da S\\u00e9pala\": 2.9, \"Comprimento da P\\u00e9tala\": 4.3, \"Largura da P\\u00e9tala\": 1.3, \"Esp\\u00e9cie\": \"versicolor\"}, {\"Comprimento da S\\u00e9pala\": 6.6, \"Largura da S\\u00e9pala\": 3.0, \"Comprimento da P\\u00e9tala\": 4.4, \"Largura da P\\u00e9tala\": 1.4, \"Esp\\u00e9cie\": \"versicolor\"}, {\"Comprimento da S\\u00e9pala\": 6.8, \"Largura da S\\u00e9pala\": 2.8, \"Comprimento da P\\u00e9tala\": 4.8, \"Largura da P\\u00e9tala\": 1.4, \"Esp\\u00e9cie\": \"versicolor\"}, {\"Comprimento da S\\u00e9pala\": 6.7, \"Largura da S\\u00e9pala\": 3.0, \"Comprimento da P\\u00e9tala\": 5.0, \"Largura da P\\u00e9tala\": 1.7000000000000002, \"Esp\\u00e9cie\": \"versicolor\"}, {\"Comprimento da S\\u00e9pala\": 6.0, \"Largura da S\\u00e9pala\": 2.9, \"Comprimento da P\\u00e9tala\": 4.5, \"Largura da P\\u00e9tala\": 1.5, \"Esp\\u00e9cie\": \"versicolor\"}, {\"Comprimento da S\\u00e9pala\": 5.7, \"Largura da S\\u00e9pala\": 2.6, \"Comprimento da P\\u00e9tala\": 3.5, \"Largura da P\\u00e9tala\": 1.0, \"Esp\\u00e9cie\": \"versicolor\"}, {\"Comprimento da S\\u00e9pala\": 5.5, \"Largura da S\\u00e9pala\": 2.4, \"Comprimento da P\\u00e9tala\": 3.8, \"Largura da P\\u00e9tala\": 1.1, \"Esp\\u00e9cie\": \"versicolor\"}, {\"Comprimento da S\\u00e9pala\": 5.5, \"Largura da S\\u00e9pala\": 2.4, \"Comprimento da P\\u00e9tala\": 3.7, \"Largura da P\\u00e9tala\": 1.0, \"Esp\\u00e9cie\": \"versicolor\"}, {\"Comprimento da S\\u00e9pala\": 5.8, \"Largura da S\\u00e9pala\": 2.7, \"Comprimento da P\\u00e9tala\": 3.9, \"Largura da P\\u00e9tala\": 1.2, \"Esp\\u00e9cie\": \"versicolor\"}, {\"Comprimento da S\\u00e9pala\": 6.0, \"Largura da S\\u00e9pala\": 2.7, \"Comprimento da P\\u00e9tala\": 5.1, \"Largura da P\\u00e9tala\": 1.6, \"Esp\\u00e9cie\": \"versicolor\"}, {\"Comprimento da S\\u00e9pala\": 5.4, \"Largura da S\\u00e9pala\": 3.0, \"Comprimento da P\\u00e9tala\": 4.5, \"Largura da P\\u00e9tala\": 1.5, \"Esp\\u00e9cie\": \"versicolor\"}, {\"Comprimento da S\\u00e9pala\": 6.0, \"Largura da S\\u00e9pala\": 3.4, \"Comprimento da P\\u00e9tala\": 4.5, \"Largura da P\\u00e9tala\": 1.6, \"Esp\\u00e9cie\": \"versicolor\"}, {\"Comprimento da S\\u00e9pala\": 6.7, \"Largura da S\\u00e9pala\": 3.1, \"Comprimento da P\\u00e9tala\": 4.7, \"Largura da P\\u00e9tala\": 1.5, \"Esp\\u00e9cie\": \"versicolor\"}, {\"Comprimento da S\\u00e9pala\": 6.3, \"Largura da S\\u00e9pala\": 2.3, \"Comprimento da P\\u00e9tala\": 4.4, \"Largura da P\\u00e9tala\": 1.3, \"Esp\\u00e9cie\": \"versicolor\"}, {\"Comprimento da S\\u00e9pala\": 5.6, \"Largura da S\\u00e9pala\": 3.0, \"Comprimento da P\\u00e9tala\": 4.1, \"Largura da P\\u00e9tala\": 1.3, \"Esp\\u00e9cie\": \"versicolor\"}, {\"Comprimento da S\\u00e9pala\": 5.5, \"Largura da S\\u00e9pala\": 2.5, \"Comprimento da P\\u00e9tala\": 4.0, \"Largura da P\\u00e9tala\": 1.3, \"Esp\\u00e9cie\": \"versicolor\"}, {\"Comprimento da S\\u00e9pala\": 5.5, \"Largura da S\\u00e9pala\": 2.6, \"Comprimento da P\\u00e9tala\": 4.4, \"Largura da P\\u00e9tala\": 1.2, \"Esp\\u00e9cie\": \"versicolor\"}, {\"Comprimento da S\\u00e9pala\": 6.1, \"Largura da S\\u00e9pala\": 3.0, \"Comprimento da P\\u00e9tala\": 4.6, \"Largura da P\\u00e9tala\": 1.4, \"Esp\\u00e9cie\": \"versicolor\"}, {\"Comprimento da S\\u00e9pala\": 5.8, \"Largura da S\\u00e9pala\": 2.6, \"Comprimento da P\\u00e9tala\": 4.0, \"Largura da P\\u00e9tala\": 1.2, \"Esp\\u00e9cie\": \"versicolor\"}, {\"Comprimento da S\\u00e9pala\": 5.0, \"Largura da S\\u00e9pala\": 2.3, \"Comprimento da P\\u00e9tala\": 3.3, \"Largura da P\\u00e9tala\": 1.0, \"Esp\\u00e9cie\": \"versicolor\"}, {\"Comprimento da S\\u00e9pala\": 5.6, \"Largura da S\\u00e9pala\": 2.7, \"Comprimento da P\\u00e9tala\": 4.2, \"Largura da P\\u00e9tala\": 1.3, \"Esp\\u00e9cie\": \"versicolor\"}, {\"Comprimento da S\\u00e9pala\": 5.7, \"Largura da S\\u00e9pala\": 3.0, \"Comprimento da P\\u00e9tala\": 4.2, \"Largura da P\\u00e9tala\": 1.2, \"Esp\\u00e9cie\": \"versicolor\"}, {\"Comprimento da S\\u00e9pala\": 5.7, \"Largura da S\\u00e9pala\": 2.9, \"Comprimento da P\\u00e9tala\": 4.2, \"Largura da P\\u00e9tala\": 1.3, \"Esp\\u00e9cie\": \"versicolor\"}, {\"Comprimento da S\\u00e9pala\": 6.2, \"Largura da S\\u00e9pala\": 2.9, \"Comprimento da P\\u00e9tala\": 4.3, \"Largura da P\\u00e9tala\": 1.3, \"Esp\\u00e9cie\": \"versicolor\"}, {\"Comprimento da S\\u00e9pala\": 5.1, \"Largura da S\\u00e9pala\": 2.5, \"Comprimento da P\\u00e9tala\": 3.0, \"Largura da P\\u00e9tala\": 1.1, \"Esp\\u00e9cie\": \"versicolor\"}, {\"Comprimento da S\\u00e9pala\": 5.7, \"Largura da S\\u00e9pala\": 2.8, \"Comprimento da P\\u00e9tala\": 4.1, \"Largura da P\\u00e9tala\": 1.3, \"Esp\\u00e9cie\": \"versicolor\"}, {\"Comprimento da S\\u00e9pala\": 6.3, \"Largura da S\\u00e9pala\": 3.3, \"Comprimento da P\\u00e9tala\": 6.0, \"Largura da P\\u00e9tala\": 2.5, \"Esp\\u00e9cie\": \"virginica\"}, {\"Comprimento da S\\u00e9pala\": 5.8, \"Largura da S\\u00e9pala\": 2.7, \"Comprimento da P\\u00e9tala\": 5.1, \"Largura da P\\u00e9tala\": 1.9, \"Esp\\u00e9cie\": \"virginica\"}, {\"Comprimento da S\\u00e9pala\": 7.1, \"Largura da S\\u00e9pala\": 3.0, \"Comprimento da P\\u00e9tala\": 5.9, \"Largura da P\\u00e9tala\": 2.1, \"Esp\\u00e9cie\": \"virginica\"}, {\"Comprimento da S\\u00e9pala\": 6.3, \"Largura da S\\u00e9pala\": 2.9, \"Comprimento da P\\u00e9tala\": 5.6, \"Largura da P\\u00e9tala\": 1.8, \"Esp\\u00e9cie\": \"virginica\"}, {\"Comprimento da S\\u00e9pala\": 6.5, \"Largura da S\\u00e9pala\": 3.0, \"Comprimento da P\\u00e9tala\": 5.8, \"Largura da P\\u00e9tala\": 2.2, \"Esp\\u00e9cie\": \"virginica\"}, {\"Comprimento da S\\u00e9pala\": 7.6, \"Largura da S\\u00e9pala\": 3.0, \"Comprimento da P\\u00e9tala\": 6.6, \"Largura da P\\u00e9tala\": 2.1, \"Esp\\u00e9cie\": \"virginica\"}, {\"Comprimento da S\\u00e9pala\": 4.9, \"Largura da S\\u00e9pala\": 2.5, \"Comprimento da P\\u00e9tala\": 4.5, \"Largura da P\\u00e9tala\": 1.7000000000000002, \"Esp\\u00e9cie\": \"virginica\"}, {\"Comprimento da S\\u00e9pala\": 7.3, \"Largura da S\\u00e9pala\": 2.9, \"Comprimento da P\\u00e9tala\": 6.3, \"Largura da P\\u00e9tala\": 1.8, \"Esp\\u00e9cie\": \"virginica\"}, {\"Comprimento da S\\u00e9pala\": 6.7, \"Largura da S\\u00e9pala\": 2.5, \"Comprimento da P\\u00e9tala\": 5.8, \"Largura da P\\u00e9tala\": 1.8, \"Esp\\u00e9cie\": \"virginica\"}, {\"Comprimento da S\\u00e9pala\": 7.2, \"Largura da S\\u00e9pala\": 3.6, \"Comprimento da P\\u00e9tala\": 6.1, \"Largura da P\\u00e9tala\": 2.5, \"Esp\\u00e9cie\": \"virginica\"}, {\"Comprimento da S\\u00e9pala\": 6.5, \"Largura da S\\u00e9pala\": 3.2, \"Comprimento da P\\u00e9tala\": 5.1, \"Largura da P\\u00e9tala\": 2.0, \"Esp\\u00e9cie\": \"virginica\"}, {\"Comprimento da S\\u00e9pala\": 6.4, \"Largura da S\\u00e9pala\": 2.7, \"Comprimento da P\\u00e9tala\": 5.3, \"Largura da P\\u00e9tala\": 1.9, \"Esp\\u00e9cie\": \"virginica\"}, {\"Comprimento da S\\u00e9pala\": 6.8, \"Largura da S\\u00e9pala\": 3.0, \"Comprimento da P\\u00e9tala\": 5.5, \"Largura da P\\u00e9tala\": 2.1, \"Esp\\u00e9cie\": \"virginica\"}, {\"Comprimento da S\\u00e9pala\": 5.7, \"Largura da S\\u00e9pala\": 2.5, \"Comprimento da P\\u00e9tala\": 5.0, \"Largura da P\\u00e9tala\": 2.0, \"Esp\\u00e9cie\": \"virginica\"}, {\"Comprimento da S\\u00e9pala\": 5.8, \"Largura da S\\u00e9pala\": 2.8, \"Comprimento da P\\u00e9tala\": 5.1, \"Largura da P\\u00e9tala\": 2.4, \"Esp\\u00e9cie\": \"virginica\"}, {\"Comprimento da S\\u00e9pala\": 6.4, \"Largura da S\\u00e9pala\": 3.2, \"Comprimento da P\\u00e9tala\": 5.3, \"Largura da P\\u00e9tala\": 2.3, \"Esp\\u00e9cie\": \"virginica\"}, {\"Comprimento da S\\u00e9pala\": 6.5, \"Largura da S\\u00e9pala\": 3.0, \"Comprimento da P\\u00e9tala\": 5.5, \"Largura da P\\u00e9tala\": 1.8, \"Esp\\u00e9cie\": \"virginica\"}, {\"Comprimento da S\\u00e9pala\": 7.7, \"Largura da S\\u00e9pala\": 3.8, \"Comprimento da P\\u00e9tala\": 6.7, \"Largura da P\\u00e9tala\": 2.2, \"Esp\\u00e9cie\": \"virginica\"}, {\"Comprimento da S\\u00e9pala\": 7.7, \"Largura da S\\u00e9pala\": 2.6, \"Comprimento da P\\u00e9tala\": 6.9, \"Largura da P\\u00e9tala\": 2.3, \"Esp\\u00e9cie\": \"virginica\"}, {\"Comprimento da S\\u00e9pala\": 6.0, \"Largura da S\\u00e9pala\": 2.2, \"Comprimento da P\\u00e9tala\": 5.0, \"Largura da P\\u00e9tala\": 1.5, \"Esp\\u00e9cie\": \"virginica\"}, {\"Comprimento da S\\u00e9pala\": 6.9, \"Largura da S\\u00e9pala\": 3.2, \"Comprimento da P\\u00e9tala\": 5.7, \"Largura da P\\u00e9tala\": 2.3, \"Esp\\u00e9cie\": \"virginica\"}, {\"Comprimento da S\\u00e9pala\": 5.6, \"Largura da S\\u00e9pala\": 2.8, \"Comprimento da P\\u00e9tala\": 4.9, \"Largura da P\\u00e9tala\": 2.0, \"Esp\\u00e9cie\": \"virginica\"}, {\"Comprimento da S\\u00e9pala\": 7.7, \"Largura da S\\u00e9pala\": 2.8, \"Comprimento da P\\u00e9tala\": 6.7, \"Largura da P\\u00e9tala\": 2.0, \"Esp\\u00e9cie\": \"virginica\"}, {\"Comprimento da S\\u00e9pala\": 6.3, \"Largura da S\\u00e9pala\": 2.7, \"Comprimento da P\\u00e9tala\": 4.9, \"Largura da P\\u00e9tala\": 1.8, \"Esp\\u00e9cie\": \"virginica\"}, {\"Comprimento da S\\u00e9pala\": 6.7, \"Largura da S\\u00e9pala\": 3.3, \"Comprimento da P\\u00e9tala\": 5.7, \"Largura da P\\u00e9tala\": 2.1, \"Esp\\u00e9cie\": \"virginica\"}, {\"Comprimento da S\\u00e9pala\": 7.2, \"Largura da S\\u00e9pala\": 3.2, \"Comprimento da P\\u00e9tala\": 6.0, \"Largura da P\\u00e9tala\": 1.8, \"Esp\\u00e9cie\": \"virginica\"}, {\"Comprimento da S\\u00e9pala\": 6.2, \"Largura da S\\u00e9pala\": 2.8, \"Comprimento da P\\u00e9tala\": 4.8, \"Largura da P\\u00e9tala\": 1.8, \"Esp\\u00e9cie\": \"virginica\"}, {\"Comprimento da S\\u00e9pala\": 6.1, \"Largura da S\\u00e9pala\": 3.0, \"Comprimento da P\\u00e9tala\": 4.9, \"Largura da P\\u00e9tala\": 1.8, \"Esp\\u00e9cie\": \"virginica\"}, {\"Comprimento da S\\u00e9pala\": 6.4, \"Largura da S\\u00e9pala\": 2.8, \"Comprimento da P\\u00e9tala\": 5.6, \"Largura da P\\u00e9tala\": 2.1, \"Esp\\u00e9cie\": \"virginica\"}, {\"Comprimento da S\\u00e9pala\": 7.2, \"Largura da S\\u00e9pala\": 3.0, \"Comprimento da P\\u00e9tala\": 5.8, \"Largura da P\\u00e9tala\": 1.6, \"Esp\\u00e9cie\": \"virginica\"}, {\"Comprimento da S\\u00e9pala\": 7.4, \"Largura da S\\u00e9pala\": 2.8, \"Comprimento da P\\u00e9tala\": 6.1, \"Largura da P\\u00e9tala\": 1.9, \"Esp\\u00e9cie\": \"virginica\"}, {\"Comprimento da S\\u00e9pala\": 7.9, \"Largura da S\\u00e9pala\": 3.8, \"Comprimento da P\\u00e9tala\": 6.4, \"Largura da P\\u00e9tala\": 2.0, \"Esp\\u00e9cie\": \"virginica\"}, {\"Comprimento da S\\u00e9pala\": 6.4, \"Largura da S\\u00e9pala\": 2.8, \"Comprimento da P\\u00e9tala\": 5.6, \"Largura da P\\u00e9tala\": 2.2, \"Esp\\u00e9cie\": \"virginica\"}, {\"Comprimento da S\\u00e9pala\": 6.3, \"Largura da S\\u00e9pala\": 2.8, \"Comprimento da P\\u00e9tala\": 5.1, \"Largura da P\\u00e9tala\": 1.5, \"Esp\\u00e9cie\": \"virginica\"}, {\"Comprimento da S\\u00e9pala\": 6.1, \"Largura da S\\u00e9pala\": 2.6, \"Comprimento da P\\u00e9tala\": 5.6, \"Largura da P\\u00e9tala\": 1.4, \"Esp\\u00e9cie\": \"virginica\"}, {\"Comprimento da S\\u00e9pala\": 7.7, \"Largura da S\\u00e9pala\": 3.0, \"Comprimento da P\\u00e9tala\": 6.1, \"Largura da P\\u00e9tala\": 2.3, \"Esp\\u00e9cie\": \"virginica\"}, {\"Comprimento da S\\u00e9pala\": 6.3, \"Largura da S\\u00e9pala\": 3.4, \"Comprimento da P\\u00e9tala\": 5.6, \"Largura da P\\u00e9tala\": 2.4, \"Esp\\u00e9cie\": \"virginica\"}, {\"Comprimento da S\\u00e9pala\": 6.4, \"Largura da S\\u00e9pala\": 3.1, \"Comprimento da P\\u00e9tala\": 5.5, \"Largura da P\\u00e9tala\": 1.8, \"Esp\\u00e9cie\": \"virginica\"}, {\"Comprimento da S\\u00e9pala\": 6.0, \"Largura da S\\u00e9pala\": 3.0, \"Comprimento da P\\u00e9tala\": 4.8, \"Largura da P\\u00e9tala\": 1.8, \"Esp\\u00e9cie\": \"virginica\"}, {\"Comprimento da S\\u00e9pala\": 6.9, \"Largura da S\\u00e9pala\": 3.1, \"Comprimento da P\\u00e9tala\": 5.4, \"Largura da P\\u00e9tala\": 2.1, \"Esp\\u00e9cie\": \"virginica\"}, {\"Comprimento da S\\u00e9pala\": 6.7, \"Largura da S\\u00e9pala\": 3.1, \"Comprimento da P\\u00e9tala\": 5.6, \"Largura da P\\u00e9tala\": 2.4, \"Esp\\u00e9cie\": \"virginica\"}, {\"Comprimento da S\\u00e9pala\": 6.9, \"Largura da S\\u00e9pala\": 3.1, \"Comprimento da P\\u00e9tala\": 5.1, \"Largura da P\\u00e9tala\": 2.3, \"Esp\\u00e9cie\": \"virginica\"}, {\"Comprimento da S\\u00e9pala\": 5.8, \"Largura da S\\u00e9pala\": 2.7, \"Comprimento da P\\u00e9tala\": 5.1, \"Largura da P\\u00e9tala\": 1.9, \"Esp\\u00e9cie\": \"virginica\"}, {\"Comprimento da S\\u00e9pala\": 6.8, \"Largura da S\\u00e9pala\": 3.2, \"Comprimento da P\\u00e9tala\": 5.9, \"Largura da P\\u00e9tala\": 2.3, \"Esp\\u00e9cie\": \"virginica\"}, {\"Comprimento da S\\u00e9pala\": 6.7, \"Largura da S\\u00e9pala\": 3.3, \"Comprimento da P\\u00e9tala\": 5.7, \"Largura da P\\u00e9tala\": 2.5, \"Esp\\u00e9cie\": \"virginica\"}, {\"Comprimento da S\\u00e9pala\": 6.7, \"Largura da S\\u00e9pala\": 3.0, \"Comprimento da P\\u00e9tala\": 5.2, \"Largura da P\\u00e9tala\": 2.3, \"Esp\\u00e9cie\": \"virginica\"}, {\"Comprimento da S\\u00e9pala\": 6.3, \"Largura da S\\u00e9pala\": 2.5, \"Comprimento da P\\u00e9tala\": 5.0, \"Largura da P\\u00e9tala\": 1.9, \"Esp\\u00e9cie\": \"virginica\"}, {\"Comprimento da S\\u00e9pala\": 6.5, \"Largura da S\\u00e9pala\": 3.0, \"Comprimento da P\\u00e9tala\": 5.2, \"Largura da P\\u00e9tala\": 2.0, \"Esp\\u00e9cie\": \"virginica\"}, {\"Comprimento da S\\u00e9pala\": 6.2, \"Largura da S\\u00e9pala\": 3.4, \"Comprimento da P\\u00e9tala\": 5.4, \"Largura da P\\u00e9tala\": 2.3, \"Esp\\u00e9cie\": \"virginica\"}, {\"Comprimento da S\\u00e9pala\": 5.9, \"Largura da S\\u00e9pala\": 3.0, \"Comprimento da P\\u00e9tala\": 5.1, \"Largura da P\\u00e9tala\": 1.8, \"Esp\\u00e9cie\": \"virginica\"}]}}, {\"mode\": \"vega-lite\"});\n",
       "</script>"
      ],
      "text/plain": [
       "alt.HConcatChart(...)"
      ]
     },
     "execution_count": 10,
     "metadata": {},
     "output_type": "execute_result"
    }
   ],
   "source": [
    "disp1 = alt.Chart(iris).mark_point(filled=True).encode(\n",
    "    alt.X('Comprimento da Pétala',),\n",
    "    alt.Y('Comprimento da Sépala'),\n",
    "    alt.Color('Espécie:N', scale=color_map)\n",
    ").properties(\n",
    "    width=200,\n",
    "    height=200\n",
    ")\n",
    "\n",
    "disp2 = alt.Chart(iris).mark_point(filled=True).encode(\n",
    "    alt.X('Largura da Pétala'),\n",
    "    alt.Y('Largura da Sépala'),\n",
    "    alt.Color('Espécie:N', scale=color_map)\n",
    ").properties(\n",
    "    width=200,\n",
    "    height=200\n",
    ")\n",
    "\n",
    "disp3 = alt.Chart(iris).mark_point(filled=True).encode(\n",
    "    alt.X('Comprimento da Pétala'),\n",
    "    alt.Y('Largura da Pétala'),\n",
    "    alt.Color('Espécie:N', scale=color_map)\n",
    ").properties(\n",
    "    width=200,\n",
    "    height=200\n",
    ")\n",
    "\n",
    "disp4 = alt.Chart(iris).mark_point(filled=True).encode(\n",
    "    alt.X('Comprimento da Sépala'),\n",
    "    alt.Y('Largura da Sépala'),\n",
    "    alt.Color('Espécie:N', scale=color_map)\n",
    ").properties(\n",
    "    width=200,\n",
    "    height=200\n",
    ")\n",
    "\n",
    "alt.hconcat(disp1, disp2, disp3, disp4)"
   ]
  },
  {
   "cell_type": "markdown",
   "metadata": {},
   "source": [
    "Podemos observar que nos três primeiros gráficos, as espécies *versicolor* e *virginica* se encontram próxima e em partes sobrepostas na distrubuição. Já a espécie *setosa*, se comporta como um cluster a parte. \n",
    "\n",
    "Podemos analisar a distribução com um gráfico de estimativa de densidade."
   ]
  },
  {
   "cell_type": "code",
   "execution_count": 11,
   "metadata": {},
   "outputs": [
    {
     "name": "stderr",
     "output_type": "stream",
     "text": [
      "c:\\Users\\bianc\\AppData\\Local\\Microsoft\\WindowsApps\\Lib\\site-packages\\altair\\utils\\core.py:395: FutureWarning: the convert_dtype parameter is deprecated and will be removed in a future version.  Do ``ser.astype(object).apply()`` instead if you want ``convert_dtype=False``.\n",
      "  col = df[col_name].apply(to_list_if_array, convert_dtype=False)\n"
     ]
    },
    {
     "data": {
      "text/html": [
       "\n",
       "<style>\n",
       "  #altair-viz-09dfd0a0dc2a48b18f2f232de7ac0b68.vega-embed {\n",
       "    width: 100%;\n",
       "    display: flex;\n",
       "  }\n",
       "\n",
       "  #altair-viz-09dfd0a0dc2a48b18f2f232de7ac0b68.vega-embed details,\n",
       "  #altair-viz-09dfd0a0dc2a48b18f2f232de7ac0b68.vega-embed details summary {\n",
       "    position: relative;\n",
       "  }\n",
       "</style>\n",
       "<div id=\"altair-viz-09dfd0a0dc2a48b18f2f232de7ac0b68\"></div>\n",
       "<script type=\"text/javascript\">\n",
       "  var VEGA_DEBUG = (typeof VEGA_DEBUG == \"undefined\") ? {} : VEGA_DEBUG;\n",
       "  (function(spec, embedOpt){\n",
       "    let outputDiv = document.currentScript.previousElementSibling;\n",
       "    if (outputDiv.id !== \"altair-viz-09dfd0a0dc2a48b18f2f232de7ac0b68\") {\n",
       "      outputDiv = document.getElementById(\"altair-viz-09dfd0a0dc2a48b18f2f232de7ac0b68\");\n",
       "    }\n",
       "    const paths = {\n",
       "      \"vega\": \"https://cdn.jsdelivr.net/npm/vega@5?noext\",\n",
       "      \"vega-lib\": \"https://cdn.jsdelivr.net/npm/vega-lib?noext\",\n",
       "      \"vega-lite\": \"https://cdn.jsdelivr.net/npm/vega-lite@5.8.0?noext\",\n",
       "      \"vega-embed\": \"https://cdn.jsdelivr.net/npm/vega-embed@6?noext\",\n",
       "    };\n",
       "\n",
       "    function maybeLoadScript(lib, version) {\n",
       "      var key = `${lib.replace(\"-\", \"\")}_version`;\n",
       "      return (VEGA_DEBUG[key] == version) ?\n",
       "        Promise.resolve(paths[lib]) :\n",
       "        new Promise(function(resolve, reject) {\n",
       "          var s = document.createElement('script');\n",
       "          document.getElementsByTagName(\"head\")[0].appendChild(s);\n",
       "          s.async = true;\n",
       "          s.onload = () => {\n",
       "            VEGA_DEBUG[key] = version;\n",
       "            return resolve(paths[lib]);\n",
       "          };\n",
       "          s.onerror = () => reject(`Error loading script: ${paths[lib]}`);\n",
       "          s.src = paths[lib];\n",
       "        });\n",
       "    }\n",
       "\n",
       "    function showError(err) {\n",
       "      outputDiv.innerHTML = `<div class=\"error\" style=\"color:red;\">${err}</div>`;\n",
       "      throw err;\n",
       "    }\n",
       "\n",
       "    function displayChart(vegaEmbed) {\n",
       "      vegaEmbed(outputDiv, spec, embedOpt)\n",
       "        .catch(err => showError(`Javascript Error: ${err.message}<br>This usually means there's a typo in your chart specification. See the javascript console for the full traceback.`));\n",
       "    }\n",
       "\n",
       "    if(typeof define === \"function\" && define.amd) {\n",
       "      requirejs.config({paths});\n",
       "      require([\"vega-embed\"], displayChart, err => showError(`Error loading script: ${err.message}`));\n",
       "    } else {\n",
       "      maybeLoadScript(\"vega\", \"5\")\n",
       "        .then(() => maybeLoadScript(\"vega-lite\", \"5.8.0\"))\n",
       "        .then(() => maybeLoadScript(\"vega-embed\", \"6\"))\n",
       "        .catch(showError)\n",
       "        .then(() => displayChart(vegaEmbed));\n",
       "    }\n",
       "  })({\"config\": {\"view\": {\"continuousWidth\": 300, \"continuousHeight\": 300}}, \"data\": {\"name\": \"data-b067a6a7cf9786b30a58e36de4e11680\"}, \"mark\": {\"type\": \"area\", \"color\": \"#8A2BE2\"}, \"encoding\": {\"row\": {\"field\": \"Tipo de Medida\", \"type\": \"nominal\"}, \"x\": {\"field\": \"value\", \"title\": \"Valor\", \"type\": \"quantitative\"}, \"y\": {\"field\": \"density\", \"title\": \"Densidade\", \"type\": \"quantitative\"}}, \"height\": 100, \"transform\": [{\"fold\": [\"Largura da P\\u00e9tala\", \"Comprimento da P\\u00e9tala\", \"Largura da S\\u00e9pala\", \"Comprimento da S\\u00e9pala\"], \"as\": [\"Tipo de Medida\", \"value\"]}, {\"density\": \"value\", \"bandwidth\": 0.3, \"extent\": [0, 8], \"groupby\": [\"Tipo de Medida\"]}], \"width\": 300, \"$schema\": \"https://vega.github.io/schema/vega-lite/v5.8.0.json\", \"datasets\": {\"data-b067a6a7cf9786b30a58e36de4e11680\": [{\"Comprimento da S\\u00e9pala\": 5.1, \"Largura da S\\u00e9pala\": 3.5, \"Comprimento da P\\u00e9tala\": 1.4, \"Largura da P\\u00e9tala\": 0.2, \"Esp\\u00e9cie\": \"setosa\"}, {\"Comprimento da S\\u00e9pala\": 4.9, \"Largura da S\\u00e9pala\": 3.0, \"Comprimento da P\\u00e9tala\": 1.4, \"Largura da P\\u00e9tala\": 0.2, \"Esp\\u00e9cie\": \"setosa\"}, {\"Comprimento da S\\u00e9pala\": 4.7, \"Largura da S\\u00e9pala\": 3.2, \"Comprimento da P\\u00e9tala\": 1.3, \"Largura da P\\u00e9tala\": 0.2, \"Esp\\u00e9cie\": \"setosa\"}, {\"Comprimento da S\\u00e9pala\": 4.6, \"Largura da S\\u00e9pala\": 3.1, \"Comprimento da P\\u00e9tala\": 1.5, \"Largura da P\\u00e9tala\": 0.2, \"Esp\\u00e9cie\": \"setosa\"}, {\"Comprimento da S\\u00e9pala\": 5.0, \"Largura da S\\u00e9pala\": 3.6, \"Comprimento da P\\u00e9tala\": 1.4, \"Largura da P\\u00e9tala\": 0.2, \"Esp\\u00e9cie\": \"setosa\"}, {\"Comprimento da S\\u00e9pala\": 5.4, \"Largura da S\\u00e9pala\": 3.9, \"Comprimento da P\\u00e9tala\": 1.7000000000000002, \"Largura da P\\u00e9tala\": 0.4, \"Esp\\u00e9cie\": \"setosa\"}, {\"Comprimento da S\\u00e9pala\": 4.6, \"Largura da S\\u00e9pala\": 3.4, \"Comprimento da P\\u00e9tala\": 1.4, \"Largura da P\\u00e9tala\": 0.30000000000000004, \"Esp\\u00e9cie\": \"setosa\"}, {\"Comprimento da S\\u00e9pala\": 5.0, \"Largura da S\\u00e9pala\": 3.4, \"Comprimento da P\\u00e9tala\": 1.5, \"Largura da P\\u00e9tala\": 0.2, \"Esp\\u00e9cie\": \"setosa\"}, {\"Comprimento da S\\u00e9pala\": 4.4, \"Largura da S\\u00e9pala\": 2.9, \"Comprimento da P\\u00e9tala\": 1.4, \"Largura da P\\u00e9tala\": 0.2, \"Esp\\u00e9cie\": \"setosa\"}, {\"Comprimento da S\\u00e9pala\": 4.9, \"Largura da S\\u00e9pala\": 3.1, \"Comprimento da P\\u00e9tala\": 1.5, \"Largura da P\\u00e9tala\": 0.1, \"Esp\\u00e9cie\": \"setosa\"}, {\"Comprimento da S\\u00e9pala\": 5.4, \"Largura da S\\u00e9pala\": 3.7, \"Comprimento da P\\u00e9tala\": 1.5, \"Largura da P\\u00e9tala\": 0.2, \"Esp\\u00e9cie\": \"setosa\"}, {\"Comprimento da S\\u00e9pala\": 4.8, \"Largura da S\\u00e9pala\": 3.4, \"Comprimento da P\\u00e9tala\": 1.6, \"Largura da P\\u00e9tala\": 0.2, \"Esp\\u00e9cie\": \"setosa\"}, {\"Comprimento da S\\u00e9pala\": 4.8, \"Largura da S\\u00e9pala\": 3.0, \"Comprimento da P\\u00e9tala\": 1.4, \"Largura da P\\u00e9tala\": 0.1, \"Esp\\u00e9cie\": \"setosa\"}, {\"Comprimento da S\\u00e9pala\": 4.3, \"Largura da S\\u00e9pala\": 3.0, \"Comprimento da P\\u00e9tala\": 1.1, \"Largura da P\\u00e9tala\": 0.1, \"Esp\\u00e9cie\": \"setosa\"}, {\"Comprimento da S\\u00e9pala\": 5.8, \"Largura da S\\u00e9pala\": 4.0, \"Comprimento da P\\u00e9tala\": 1.2, \"Largura da P\\u00e9tala\": 0.2, \"Esp\\u00e9cie\": \"setosa\"}, {\"Comprimento da S\\u00e9pala\": 5.7, \"Largura da S\\u00e9pala\": 4.4, \"Comprimento da P\\u00e9tala\": 1.5, \"Largura da P\\u00e9tala\": 0.4, \"Esp\\u00e9cie\": \"setosa\"}, {\"Comprimento da S\\u00e9pala\": 5.4, \"Largura da S\\u00e9pala\": 3.9, \"Comprimento da P\\u00e9tala\": 1.3, \"Largura da P\\u00e9tala\": 0.4, \"Esp\\u00e9cie\": \"setosa\"}, {\"Comprimento da S\\u00e9pala\": 5.1, \"Largura da S\\u00e9pala\": 3.5, \"Comprimento da P\\u00e9tala\": 1.4, \"Largura da P\\u00e9tala\": 0.30000000000000004, \"Esp\\u00e9cie\": \"setosa\"}, {\"Comprimento da S\\u00e9pala\": 5.7, \"Largura da S\\u00e9pala\": 3.8, \"Comprimento da P\\u00e9tala\": 1.7000000000000002, \"Largura da P\\u00e9tala\": 0.30000000000000004, \"Esp\\u00e9cie\": \"setosa\"}, {\"Comprimento da S\\u00e9pala\": 5.1, \"Largura da S\\u00e9pala\": 3.8, \"Comprimento da P\\u00e9tala\": 1.5, \"Largura da P\\u00e9tala\": 0.30000000000000004, \"Esp\\u00e9cie\": \"setosa\"}, {\"Comprimento da S\\u00e9pala\": 5.4, \"Largura da S\\u00e9pala\": 3.4, \"Comprimento da P\\u00e9tala\": 1.7000000000000002, \"Largura da P\\u00e9tala\": 0.2, \"Esp\\u00e9cie\": \"setosa\"}, {\"Comprimento da S\\u00e9pala\": 5.1, \"Largura da S\\u00e9pala\": 3.7, \"Comprimento da P\\u00e9tala\": 1.5, \"Largura da P\\u00e9tala\": 0.4, \"Esp\\u00e9cie\": \"setosa\"}, {\"Comprimento da S\\u00e9pala\": 4.6, \"Largura da S\\u00e9pala\": 3.6, \"Comprimento da P\\u00e9tala\": 1.0, \"Largura da P\\u00e9tala\": 0.2, \"Esp\\u00e9cie\": \"setosa\"}, {\"Comprimento da S\\u00e9pala\": 5.1, \"Largura da S\\u00e9pala\": 3.3, \"Comprimento da P\\u00e9tala\": 1.7000000000000002, \"Largura da P\\u00e9tala\": 0.5, \"Esp\\u00e9cie\": \"setosa\"}, {\"Comprimento da S\\u00e9pala\": 4.8, \"Largura da S\\u00e9pala\": 3.4, \"Comprimento da P\\u00e9tala\": 1.9, \"Largura da P\\u00e9tala\": 0.2, \"Esp\\u00e9cie\": \"setosa\"}, {\"Comprimento da S\\u00e9pala\": 5.0, \"Largura da S\\u00e9pala\": 3.0, \"Comprimento da P\\u00e9tala\": 1.6, \"Largura da P\\u00e9tala\": 0.2, \"Esp\\u00e9cie\": \"setosa\"}, {\"Comprimento da S\\u00e9pala\": 5.0, \"Largura da S\\u00e9pala\": 3.4, \"Comprimento da P\\u00e9tala\": 1.6, \"Largura da P\\u00e9tala\": 0.4, \"Esp\\u00e9cie\": \"setosa\"}, {\"Comprimento da S\\u00e9pala\": 5.2, \"Largura da S\\u00e9pala\": 3.5, \"Comprimento da P\\u00e9tala\": 1.5, \"Largura da P\\u00e9tala\": 0.2, \"Esp\\u00e9cie\": \"setosa\"}, {\"Comprimento da S\\u00e9pala\": 5.2, \"Largura da S\\u00e9pala\": 3.4, \"Comprimento da P\\u00e9tala\": 1.4, \"Largura da P\\u00e9tala\": 0.2, \"Esp\\u00e9cie\": \"setosa\"}, {\"Comprimento da S\\u00e9pala\": 4.7, \"Largura da S\\u00e9pala\": 3.2, \"Comprimento da P\\u00e9tala\": 1.6, \"Largura da P\\u00e9tala\": 0.2, \"Esp\\u00e9cie\": \"setosa\"}, {\"Comprimento da S\\u00e9pala\": 4.8, \"Largura da S\\u00e9pala\": 3.1, \"Comprimento da P\\u00e9tala\": 1.6, \"Largura da P\\u00e9tala\": 0.2, \"Esp\\u00e9cie\": \"setosa\"}, {\"Comprimento da S\\u00e9pala\": 5.4, \"Largura da S\\u00e9pala\": 3.4, \"Comprimento da P\\u00e9tala\": 1.5, \"Largura da P\\u00e9tala\": 0.4, \"Esp\\u00e9cie\": \"setosa\"}, {\"Comprimento da S\\u00e9pala\": 5.2, \"Largura da S\\u00e9pala\": 4.1, \"Comprimento da P\\u00e9tala\": 1.5, \"Largura da P\\u00e9tala\": 0.1, \"Esp\\u00e9cie\": \"setosa\"}, {\"Comprimento da S\\u00e9pala\": 5.5, \"Largura da S\\u00e9pala\": 4.2, \"Comprimento da P\\u00e9tala\": 1.4, \"Largura da P\\u00e9tala\": 0.2, \"Esp\\u00e9cie\": \"setosa\"}, {\"Comprimento da S\\u00e9pala\": 4.9, \"Largura da S\\u00e9pala\": 3.1, \"Comprimento da P\\u00e9tala\": 1.5, \"Largura da P\\u00e9tala\": 0.2, \"Esp\\u00e9cie\": \"setosa\"}, {\"Comprimento da S\\u00e9pala\": 5.0, \"Largura da S\\u00e9pala\": 3.2, \"Comprimento da P\\u00e9tala\": 1.2, \"Largura da P\\u00e9tala\": 0.2, \"Esp\\u00e9cie\": \"setosa\"}, {\"Comprimento da S\\u00e9pala\": 5.5, \"Largura da S\\u00e9pala\": 3.5, \"Comprimento da P\\u00e9tala\": 1.3, \"Largura da P\\u00e9tala\": 0.2, \"Esp\\u00e9cie\": \"setosa\"}, {\"Comprimento da S\\u00e9pala\": 4.9, \"Largura da S\\u00e9pala\": 3.6, \"Comprimento da P\\u00e9tala\": 1.4, \"Largura da P\\u00e9tala\": 0.1, \"Esp\\u00e9cie\": \"setosa\"}, {\"Comprimento da S\\u00e9pala\": 4.4, \"Largura da S\\u00e9pala\": 3.0, \"Comprimento da P\\u00e9tala\": 1.3, \"Largura da P\\u00e9tala\": 0.2, \"Esp\\u00e9cie\": \"setosa\"}, {\"Comprimento da S\\u00e9pala\": 5.1, \"Largura da S\\u00e9pala\": 3.4, \"Comprimento da P\\u00e9tala\": 1.5, \"Largura da P\\u00e9tala\": 0.2, \"Esp\\u00e9cie\": \"setosa\"}, {\"Comprimento da S\\u00e9pala\": 5.0, \"Largura da S\\u00e9pala\": 3.5, \"Comprimento da P\\u00e9tala\": 1.3, \"Largura da P\\u00e9tala\": 0.30000000000000004, \"Esp\\u00e9cie\": \"setosa\"}, {\"Comprimento da S\\u00e9pala\": 4.5, \"Largura da S\\u00e9pala\": 2.3, \"Comprimento da P\\u00e9tala\": 1.3, \"Largura da P\\u00e9tala\": 0.30000000000000004, \"Esp\\u00e9cie\": \"setosa\"}, {\"Comprimento da S\\u00e9pala\": 4.4, \"Largura da S\\u00e9pala\": 3.2, \"Comprimento da P\\u00e9tala\": 1.3, \"Largura da P\\u00e9tala\": 0.2, \"Esp\\u00e9cie\": \"setosa\"}, {\"Comprimento da S\\u00e9pala\": 5.0, \"Largura da S\\u00e9pala\": 3.5, \"Comprimento da P\\u00e9tala\": 1.6, \"Largura da P\\u00e9tala\": 0.6000000000000001, \"Esp\\u00e9cie\": \"setosa\"}, {\"Comprimento da S\\u00e9pala\": 5.1, \"Largura da S\\u00e9pala\": 3.8, \"Comprimento da P\\u00e9tala\": 1.9, \"Largura da P\\u00e9tala\": 0.4, \"Esp\\u00e9cie\": \"setosa\"}, {\"Comprimento da S\\u00e9pala\": 4.8, \"Largura da S\\u00e9pala\": 3.0, \"Comprimento da P\\u00e9tala\": 1.4, \"Largura da P\\u00e9tala\": 0.30000000000000004, \"Esp\\u00e9cie\": \"setosa\"}, {\"Comprimento da S\\u00e9pala\": 5.1, \"Largura da S\\u00e9pala\": 3.8, \"Comprimento da P\\u00e9tala\": 1.6, \"Largura da P\\u00e9tala\": 0.2, \"Esp\\u00e9cie\": \"setosa\"}, {\"Comprimento da S\\u00e9pala\": 4.6, \"Largura da S\\u00e9pala\": 3.2, \"Comprimento da P\\u00e9tala\": 1.4, \"Largura da P\\u00e9tala\": 0.2, \"Esp\\u00e9cie\": \"setosa\"}, {\"Comprimento da S\\u00e9pala\": 5.3, \"Largura da S\\u00e9pala\": 3.7, \"Comprimento da P\\u00e9tala\": 1.5, \"Largura da P\\u00e9tala\": 0.2, \"Esp\\u00e9cie\": \"setosa\"}, {\"Comprimento da S\\u00e9pala\": 5.0, \"Largura da S\\u00e9pala\": 3.3, \"Comprimento da P\\u00e9tala\": 1.4, \"Largura da P\\u00e9tala\": 0.2, \"Esp\\u00e9cie\": \"setosa\"}, {\"Comprimento da S\\u00e9pala\": 7.0, \"Largura da S\\u00e9pala\": 3.2, \"Comprimento da P\\u00e9tala\": 4.7, \"Largura da P\\u00e9tala\": 1.4, \"Esp\\u00e9cie\": \"versicolor\"}, {\"Comprimento da S\\u00e9pala\": 6.4, \"Largura da S\\u00e9pala\": 3.2, \"Comprimento da P\\u00e9tala\": 4.5, \"Largura da P\\u00e9tala\": 1.5, \"Esp\\u00e9cie\": \"versicolor\"}, {\"Comprimento da S\\u00e9pala\": 6.9, \"Largura da S\\u00e9pala\": 3.1, \"Comprimento da P\\u00e9tala\": 4.9, \"Largura da P\\u00e9tala\": 1.5, \"Esp\\u00e9cie\": \"versicolor\"}, {\"Comprimento da S\\u00e9pala\": 5.5, \"Largura da S\\u00e9pala\": 2.3, \"Comprimento da P\\u00e9tala\": 4.0, \"Largura da P\\u00e9tala\": 1.3, \"Esp\\u00e9cie\": \"versicolor\"}, {\"Comprimento da S\\u00e9pala\": 6.5, \"Largura da S\\u00e9pala\": 2.8, \"Comprimento da P\\u00e9tala\": 4.6, \"Largura da P\\u00e9tala\": 1.5, \"Esp\\u00e9cie\": \"versicolor\"}, {\"Comprimento da S\\u00e9pala\": 5.7, \"Largura da S\\u00e9pala\": 2.8, \"Comprimento da P\\u00e9tala\": 4.5, \"Largura da P\\u00e9tala\": 1.3, \"Esp\\u00e9cie\": \"versicolor\"}, {\"Comprimento da S\\u00e9pala\": 6.3, \"Largura da S\\u00e9pala\": 3.3, \"Comprimento da P\\u00e9tala\": 4.7, \"Largura da P\\u00e9tala\": 1.6, \"Esp\\u00e9cie\": \"versicolor\"}, {\"Comprimento da S\\u00e9pala\": 4.9, \"Largura da S\\u00e9pala\": 2.4, \"Comprimento da P\\u00e9tala\": 3.3, \"Largura da P\\u00e9tala\": 1.0, \"Esp\\u00e9cie\": \"versicolor\"}, {\"Comprimento da S\\u00e9pala\": 6.6, \"Largura da S\\u00e9pala\": 2.9, \"Comprimento da P\\u00e9tala\": 4.6, \"Largura da P\\u00e9tala\": 1.3, \"Esp\\u00e9cie\": \"versicolor\"}, {\"Comprimento da S\\u00e9pala\": 5.2, \"Largura da S\\u00e9pala\": 2.7, \"Comprimento da P\\u00e9tala\": 3.9, \"Largura da P\\u00e9tala\": 1.4, \"Esp\\u00e9cie\": \"versicolor\"}, {\"Comprimento da S\\u00e9pala\": 5.0, \"Largura da S\\u00e9pala\": 2.0, \"Comprimento da P\\u00e9tala\": 3.5, \"Largura da P\\u00e9tala\": 1.0, \"Esp\\u00e9cie\": \"versicolor\"}, {\"Comprimento da S\\u00e9pala\": 5.9, \"Largura da S\\u00e9pala\": 3.0, \"Comprimento da P\\u00e9tala\": 4.2, \"Largura da P\\u00e9tala\": 1.5, \"Esp\\u00e9cie\": \"versicolor\"}, {\"Comprimento da S\\u00e9pala\": 6.0, \"Largura da S\\u00e9pala\": 2.2, \"Comprimento da P\\u00e9tala\": 4.0, \"Largura da P\\u00e9tala\": 1.0, \"Esp\\u00e9cie\": \"versicolor\"}, {\"Comprimento da S\\u00e9pala\": 6.1, \"Largura da S\\u00e9pala\": 2.9, \"Comprimento da P\\u00e9tala\": 4.7, \"Largura da P\\u00e9tala\": 1.4, \"Esp\\u00e9cie\": \"versicolor\"}, {\"Comprimento da S\\u00e9pala\": 5.6, \"Largura da S\\u00e9pala\": 2.9, \"Comprimento da P\\u00e9tala\": 3.6, \"Largura da P\\u00e9tala\": 1.3, \"Esp\\u00e9cie\": \"versicolor\"}, {\"Comprimento da S\\u00e9pala\": 6.7, \"Largura da S\\u00e9pala\": 3.1, \"Comprimento da P\\u00e9tala\": 4.4, \"Largura da P\\u00e9tala\": 1.4, \"Esp\\u00e9cie\": \"versicolor\"}, {\"Comprimento da S\\u00e9pala\": 5.6, \"Largura da S\\u00e9pala\": 3.0, \"Comprimento da P\\u00e9tala\": 4.5, \"Largura da P\\u00e9tala\": 1.5, \"Esp\\u00e9cie\": \"versicolor\"}, {\"Comprimento da S\\u00e9pala\": 5.8, \"Largura da S\\u00e9pala\": 2.7, \"Comprimento da P\\u00e9tala\": 4.1, \"Largura da P\\u00e9tala\": 1.0, \"Esp\\u00e9cie\": \"versicolor\"}, {\"Comprimento da S\\u00e9pala\": 6.2, \"Largura da S\\u00e9pala\": 2.2, \"Comprimento da P\\u00e9tala\": 4.5, \"Largura da P\\u00e9tala\": 1.5, \"Esp\\u00e9cie\": \"versicolor\"}, {\"Comprimento da S\\u00e9pala\": 5.6, \"Largura da S\\u00e9pala\": 2.5, \"Comprimento da P\\u00e9tala\": 3.9, \"Largura da P\\u00e9tala\": 1.1, \"Esp\\u00e9cie\": \"versicolor\"}, {\"Comprimento da S\\u00e9pala\": 5.9, \"Largura da S\\u00e9pala\": 3.2, \"Comprimento da P\\u00e9tala\": 4.8, \"Largura da P\\u00e9tala\": 1.8, \"Esp\\u00e9cie\": \"versicolor\"}, {\"Comprimento da S\\u00e9pala\": 6.1, \"Largura da S\\u00e9pala\": 2.8, \"Comprimento da P\\u00e9tala\": 4.0, \"Largura da P\\u00e9tala\": 1.3, \"Esp\\u00e9cie\": \"versicolor\"}, {\"Comprimento da S\\u00e9pala\": 6.3, \"Largura da S\\u00e9pala\": 2.5, \"Comprimento da P\\u00e9tala\": 4.9, \"Largura da P\\u00e9tala\": 1.5, \"Esp\\u00e9cie\": \"versicolor\"}, {\"Comprimento da S\\u00e9pala\": 6.1, \"Largura da S\\u00e9pala\": 2.8, \"Comprimento da P\\u00e9tala\": 4.7, \"Largura da P\\u00e9tala\": 1.2, \"Esp\\u00e9cie\": \"versicolor\"}, {\"Comprimento da S\\u00e9pala\": 6.4, \"Largura da S\\u00e9pala\": 2.9, \"Comprimento da P\\u00e9tala\": 4.3, \"Largura da P\\u00e9tala\": 1.3, \"Esp\\u00e9cie\": \"versicolor\"}, {\"Comprimento da S\\u00e9pala\": 6.6, \"Largura da S\\u00e9pala\": 3.0, \"Comprimento da P\\u00e9tala\": 4.4, \"Largura da P\\u00e9tala\": 1.4, \"Esp\\u00e9cie\": \"versicolor\"}, {\"Comprimento da S\\u00e9pala\": 6.8, \"Largura da S\\u00e9pala\": 2.8, \"Comprimento da P\\u00e9tala\": 4.8, \"Largura da P\\u00e9tala\": 1.4, \"Esp\\u00e9cie\": \"versicolor\"}, {\"Comprimento da S\\u00e9pala\": 6.7, \"Largura da S\\u00e9pala\": 3.0, \"Comprimento da P\\u00e9tala\": 5.0, \"Largura da P\\u00e9tala\": 1.7000000000000002, \"Esp\\u00e9cie\": \"versicolor\"}, {\"Comprimento da S\\u00e9pala\": 6.0, \"Largura da S\\u00e9pala\": 2.9, \"Comprimento da P\\u00e9tala\": 4.5, \"Largura da P\\u00e9tala\": 1.5, \"Esp\\u00e9cie\": \"versicolor\"}, {\"Comprimento da S\\u00e9pala\": 5.7, \"Largura da S\\u00e9pala\": 2.6, \"Comprimento da P\\u00e9tala\": 3.5, \"Largura da P\\u00e9tala\": 1.0, \"Esp\\u00e9cie\": \"versicolor\"}, {\"Comprimento da S\\u00e9pala\": 5.5, \"Largura da S\\u00e9pala\": 2.4, \"Comprimento da P\\u00e9tala\": 3.8, \"Largura da P\\u00e9tala\": 1.1, \"Esp\\u00e9cie\": \"versicolor\"}, {\"Comprimento da S\\u00e9pala\": 5.5, \"Largura da S\\u00e9pala\": 2.4, \"Comprimento da P\\u00e9tala\": 3.7, \"Largura da P\\u00e9tala\": 1.0, \"Esp\\u00e9cie\": \"versicolor\"}, {\"Comprimento da S\\u00e9pala\": 5.8, \"Largura da S\\u00e9pala\": 2.7, \"Comprimento da P\\u00e9tala\": 3.9, \"Largura da P\\u00e9tala\": 1.2, \"Esp\\u00e9cie\": \"versicolor\"}, {\"Comprimento da S\\u00e9pala\": 6.0, \"Largura da S\\u00e9pala\": 2.7, \"Comprimento da P\\u00e9tala\": 5.1, \"Largura da P\\u00e9tala\": 1.6, \"Esp\\u00e9cie\": \"versicolor\"}, {\"Comprimento da S\\u00e9pala\": 5.4, \"Largura da S\\u00e9pala\": 3.0, \"Comprimento da P\\u00e9tala\": 4.5, \"Largura da P\\u00e9tala\": 1.5, \"Esp\\u00e9cie\": \"versicolor\"}, {\"Comprimento da S\\u00e9pala\": 6.0, \"Largura da S\\u00e9pala\": 3.4, \"Comprimento da P\\u00e9tala\": 4.5, \"Largura da P\\u00e9tala\": 1.6, \"Esp\\u00e9cie\": \"versicolor\"}, {\"Comprimento da S\\u00e9pala\": 6.7, \"Largura da S\\u00e9pala\": 3.1, \"Comprimento da P\\u00e9tala\": 4.7, \"Largura da P\\u00e9tala\": 1.5, \"Esp\\u00e9cie\": \"versicolor\"}, {\"Comprimento da S\\u00e9pala\": 6.3, \"Largura da S\\u00e9pala\": 2.3, \"Comprimento da P\\u00e9tala\": 4.4, \"Largura da P\\u00e9tala\": 1.3, \"Esp\\u00e9cie\": \"versicolor\"}, {\"Comprimento da S\\u00e9pala\": 5.6, \"Largura da S\\u00e9pala\": 3.0, \"Comprimento da P\\u00e9tala\": 4.1, \"Largura da P\\u00e9tala\": 1.3, \"Esp\\u00e9cie\": \"versicolor\"}, {\"Comprimento da S\\u00e9pala\": 5.5, \"Largura da S\\u00e9pala\": 2.5, \"Comprimento da P\\u00e9tala\": 4.0, \"Largura da P\\u00e9tala\": 1.3, \"Esp\\u00e9cie\": \"versicolor\"}, {\"Comprimento da S\\u00e9pala\": 5.5, \"Largura da S\\u00e9pala\": 2.6, \"Comprimento da P\\u00e9tala\": 4.4, \"Largura da P\\u00e9tala\": 1.2, \"Esp\\u00e9cie\": \"versicolor\"}, {\"Comprimento da S\\u00e9pala\": 6.1, \"Largura da S\\u00e9pala\": 3.0, \"Comprimento da P\\u00e9tala\": 4.6, \"Largura da P\\u00e9tala\": 1.4, \"Esp\\u00e9cie\": \"versicolor\"}, {\"Comprimento da S\\u00e9pala\": 5.8, \"Largura da S\\u00e9pala\": 2.6, \"Comprimento da P\\u00e9tala\": 4.0, \"Largura da P\\u00e9tala\": 1.2, \"Esp\\u00e9cie\": \"versicolor\"}, {\"Comprimento da S\\u00e9pala\": 5.0, \"Largura da S\\u00e9pala\": 2.3, \"Comprimento da P\\u00e9tala\": 3.3, \"Largura da P\\u00e9tala\": 1.0, \"Esp\\u00e9cie\": \"versicolor\"}, {\"Comprimento da S\\u00e9pala\": 5.6, \"Largura da S\\u00e9pala\": 2.7, \"Comprimento da P\\u00e9tala\": 4.2, \"Largura da P\\u00e9tala\": 1.3, \"Esp\\u00e9cie\": \"versicolor\"}, {\"Comprimento da S\\u00e9pala\": 5.7, \"Largura da S\\u00e9pala\": 3.0, \"Comprimento da P\\u00e9tala\": 4.2, \"Largura da P\\u00e9tala\": 1.2, \"Esp\\u00e9cie\": \"versicolor\"}, {\"Comprimento da S\\u00e9pala\": 5.7, \"Largura da S\\u00e9pala\": 2.9, \"Comprimento da P\\u00e9tala\": 4.2, \"Largura da P\\u00e9tala\": 1.3, \"Esp\\u00e9cie\": \"versicolor\"}, {\"Comprimento da S\\u00e9pala\": 6.2, \"Largura da S\\u00e9pala\": 2.9, \"Comprimento da P\\u00e9tala\": 4.3, \"Largura da P\\u00e9tala\": 1.3, \"Esp\\u00e9cie\": \"versicolor\"}, {\"Comprimento da S\\u00e9pala\": 5.1, \"Largura da S\\u00e9pala\": 2.5, \"Comprimento da P\\u00e9tala\": 3.0, \"Largura da P\\u00e9tala\": 1.1, \"Esp\\u00e9cie\": \"versicolor\"}, {\"Comprimento da S\\u00e9pala\": 5.7, \"Largura da S\\u00e9pala\": 2.8, \"Comprimento da P\\u00e9tala\": 4.1, \"Largura da P\\u00e9tala\": 1.3, \"Esp\\u00e9cie\": \"versicolor\"}, {\"Comprimento da S\\u00e9pala\": 6.3, \"Largura da S\\u00e9pala\": 3.3, \"Comprimento da P\\u00e9tala\": 6.0, \"Largura da P\\u00e9tala\": 2.5, \"Esp\\u00e9cie\": \"virginica\"}, {\"Comprimento da S\\u00e9pala\": 5.8, \"Largura da S\\u00e9pala\": 2.7, \"Comprimento da P\\u00e9tala\": 5.1, \"Largura da P\\u00e9tala\": 1.9, \"Esp\\u00e9cie\": \"virginica\"}, {\"Comprimento da S\\u00e9pala\": 7.1, \"Largura da S\\u00e9pala\": 3.0, \"Comprimento da P\\u00e9tala\": 5.9, \"Largura da P\\u00e9tala\": 2.1, \"Esp\\u00e9cie\": \"virginica\"}, {\"Comprimento da S\\u00e9pala\": 6.3, \"Largura da S\\u00e9pala\": 2.9, \"Comprimento da P\\u00e9tala\": 5.6, \"Largura da P\\u00e9tala\": 1.8, \"Esp\\u00e9cie\": \"virginica\"}, {\"Comprimento da S\\u00e9pala\": 6.5, \"Largura da S\\u00e9pala\": 3.0, \"Comprimento da P\\u00e9tala\": 5.8, \"Largura da P\\u00e9tala\": 2.2, \"Esp\\u00e9cie\": \"virginica\"}, {\"Comprimento da S\\u00e9pala\": 7.6, \"Largura da S\\u00e9pala\": 3.0, \"Comprimento da P\\u00e9tala\": 6.6, \"Largura da P\\u00e9tala\": 2.1, \"Esp\\u00e9cie\": \"virginica\"}, {\"Comprimento da S\\u00e9pala\": 4.9, \"Largura da S\\u00e9pala\": 2.5, \"Comprimento da P\\u00e9tala\": 4.5, \"Largura da P\\u00e9tala\": 1.7000000000000002, \"Esp\\u00e9cie\": \"virginica\"}, {\"Comprimento da S\\u00e9pala\": 7.3, \"Largura da S\\u00e9pala\": 2.9, \"Comprimento da P\\u00e9tala\": 6.3, \"Largura da P\\u00e9tala\": 1.8, \"Esp\\u00e9cie\": \"virginica\"}, {\"Comprimento da S\\u00e9pala\": 6.7, \"Largura da S\\u00e9pala\": 2.5, \"Comprimento da P\\u00e9tala\": 5.8, \"Largura da P\\u00e9tala\": 1.8, \"Esp\\u00e9cie\": \"virginica\"}, {\"Comprimento da S\\u00e9pala\": 7.2, \"Largura da S\\u00e9pala\": 3.6, \"Comprimento da P\\u00e9tala\": 6.1, \"Largura da P\\u00e9tala\": 2.5, \"Esp\\u00e9cie\": \"virginica\"}, {\"Comprimento da S\\u00e9pala\": 6.5, \"Largura da S\\u00e9pala\": 3.2, \"Comprimento da P\\u00e9tala\": 5.1, \"Largura da P\\u00e9tala\": 2.0, \"Esp\\u00e9cie\": \"virginica\"}, {\"Comprimento da S\\u00e9pala\": 6.4, \"Largura da S\\u00e9pala\": 2.7, \"Comprimento da P\\u00e9tala\": 5.3, \"Largura da P\\u00e9tala\": 1.9, \"Esp\\u00e9cie\": \"virginica\"}, {\"Comprimento da S\\u00e9pala\": 6.8, \"Largura da S\\u00e9pala\": 3.0, \"Comprimento da P\\u00e9tala\": 5.5, \"Largura da P\\u00e9tala\": 2.1, \"Esp\\u00e9cie\": \"virginica\"}, {\"Comprimento da S\\u00e9pala\": 5.7, \"Largura da S\\u00e9pala\": 2.5, \"Comprimento da P\\u00e9tala\": 5.0, \"Largura da P\\u00e9tala\": 2.0, \"Esp\\u00e9cie\": \"virginica\"}, {\"Comprimento da S\\u00e9pala\": 5.8, \"Largura da S\\u00e9pala\": 2.8, \"Comprimento da P\\u00e9tala\": 5.1, \"Largura da P\\u00e9tala\": 2.4, \"Esp\\u00e9cie\": \"virginica\"}, {\"Comprimento da S\\u00e9pala\": 6.4, \"Largura da S\\u00e9pala\": 3.2, \"Comprimento da P\\u00e9tala\": 5.3, \"Largura da P\\u00e9tala\": 2.3, \"Esp\\u00e9cie\": \"virginica\"}, {\"Comprimento da S\\u00e9pala\": 6.5, \"Largura da S\\u00e9pala\": 3.0, \"Comprimento da P\\u00e9tala\": 5.5, \"Largura da P\\u00e9tala\": 1.8, \"Esp\\u00e9cie\": \"virginica\"}, {\"Comprimento da S\\u00e9pala\": 7.7, \"Largura da S\\u00e9pala\": 3.8, \"Comprimento da P\\u00e9tala\": 6.7, \"Largura da P\\u00e9tala\": 2.2, \"Esp\\u00e9cie\": \"virginica\"}, {\"Comprimento da S\\u00e9pala\": 7.7, \"Largura da S\\u00e9pala\": 2.6, \"Comprimento da P\\u00e9tala\": 6.9, \"Largura da P\\u00e9tala\": 2.3, \"Esp\\u00e9cie\": \"virginica\"}, {\"Comprimento da S\\u00e9pala\": 6.0, \"Largura da S\\u00e9pala\": 2.2, \"Comprimento da P\\u00e9tala\": 5.0, \"Largura da P\\u00e9tala\": 1.5, \"Esp\\u00e9cie\": \"virginica\"}, {\"Comprimento da S\\u00e9pala\": 6.9, \"Largura da S\\u00e9pala\": 3.2, \"Comprimento da P\\u00e9tala\": 5.7, \"Largura da P\\u00e9tala\": 2.3, \"Esp\\u00e9cie\": \"virginica\"}, {\"Comprimento da S\\u00e9pala\": 5.6, \"Largura da S\\u00e9pala\": 2.8, \"Comprimento da P\\u00e9tala\": 4.9, \"Largura da P\\u00e9tala\": 2.0, \"Esp\\u00e9cie\": \"virginica\"}, {\"Comprimento da S\\u00e9pala\": 7.7, \"Largura da S\\u00e9pala\": 2.8, \"Comprimento da P\\u00e9tala\": 6.7, \"Largura da P\\u00e9tala\": 2.0, \"Esp\\u00e9cie\": \"virginica\"}, {\"Comprimento da S\\u00e9pala\": 6.3, \"Largura da S\\u00e9pala\": 2.7, \"Comprimento da P\\u00e9tala\": 4.9, \"Largura da P\\u00e9tala\": 1.8, \"Esp\\u00e9cie\": \"virginica\"}, {\"Comprimento da S\\u00e9pala\": 6.7, \"Largura da S\\u00e9pala\": 3.3, \"Comprimento da P\\u00e9tala\": 5.7, \"Largura da P\\u00e9tala\": 2.1, \"Esp\\u00e9cie\": \"virginica\"}, {\"Comprimento da S\\u00e9pala\": 7.2, \"Largura da S\\u00e9pala\": 3.2, \"Comprimento da P\\u00e9tala\": 6.0, \"Largura da P\\u00e9tala\": 1.8, \"Esp\\u00e9cie\": \"virginica\"}, {\"Comprimento da S\\u00e9pala\": 6.2, \"Largura da S\\u00e9pala\": 2.8, \"Comprimento da P\\u00e9tala\": 4.8, \"Largura da P\\u00e9tala\": 1.8, \"Esp\\u00e9cie\": \"virginica\"}, {\"Comprimento da S\\u00e9pala\": 6.1, \"Largura da S\\u00e9pala\": 3.0, \"Comprimento da P\\u00e9tala\": 4.9, \"Largura da P\\u00e9tala\": 1.8, \"Esp\\u00e9cie\": \"virginica\"}, {\"Comprimento da S\\u00e9pala\": 6.4, \"Largura da S\\u00e9pala\": 2.8, \"Comprimento da P\\u00e9tala\": 5.6, \"Largura da P\\u00e9tala\": 2.1, \"Esp\\u00e9cie\": \"virginica\"}, {\"Comprimento da S\\u00e9pala\": 7.2, \"Largura da S\\u00e9pala\": 3.0, \"Comprimento da P\\u00e9tala\": 5.8, \"Largura da P\\u00e9tala\": 1.6, \"Esp\\u00e9cie\": \"virginica\"}, {\"Comprimento da S\\u00e9pala\": 7.4, \"Largura da S\\u00e9pala\": 2.8, \"Comprimento da P\\u00e9tala\": 6.1, \"Largura da P\\u00e9tala\": 1.9, \"Esp\\u00e9cie\": \"virginica\"}, {\"Comprimento da S\\u00e9pala\": 7.9, \"Largura da S\\u00e9pala\": 3.8, \"Comprimento da P\\u00e9tala\": 6.4, \"Largura da P\\u00e9tala\": 2.0, \"Esp\\u00e9cie\": \"virginica\"}, {\"Comprimento da S\\u00e9pala\": 6.4, \"Largura da S\\u00e9pala\": 2.8, \"Comprimento da P\\u00e9tala\": 5.6, \"Largura da P\\u00e9tala\": 2.2, \"Esp\\u00e9cie\": \"virginica\"}, {\"Comprimento da S\\u00e9pala\": 6.3, \"Largura da S\\u00e9pala\": 2.8, \"Comprimento da P\\u00e9tala\": 5.1, \"Largura da P\\u00e9tala\": 1.5, \"Esp\\u00e9cie\": \"virginica\"}, {\"Comprimento da S\\u00e9pala\": 6.1, \"Largura da S\\u00e9pala\": 2.6, \"Comprimento da P\\u00e9tala\": 5.6, \"Largura da P\\u00e9tala\": 1.4, \"Esp\\u00e9cie\": \"virginica\"}, {\"Comprimento da S\\u00e9pala\": 7.7, \"Largura da S\\u00e9pala\": 3.0, \"Comprimento da P\\u00e9tala\": 6.1, \"Largura da P\\u00e9tala\": 2.3, \"Esp\\u00e9cie\": \"virginica\"}, {\"Comprimento da S\\u00e9pala\": 6.3, \"Largura da S\\u00e9pala\": 3.4, \"Comprimento da P\\u00e9tala\": 5.6, \"Largura da P\\u00e9tala\": 2.4, \"Esp\\u00e9cie\": \"virginica\"}, {\"Comprimento da S\\u00e9pala\": 6.4, \"Largura da S\\u00e9pala\": 3.1, \"Comprimento da P\\u00e9tala\": 5.5, \"Largura da P\\u00e9tala\": 1.8, \"Esp\\u00e9cie\": \"virginica\"}, {\"Comprimento da S\\u00e9pala\": 6.0, \"Largura da S\\u00e9pala\": 3.0, \"Comprimento da P\\u00e9tala\": 4.8, \"Largura da P\\u00e9tala\": 1.8, \"Esp\\u00e9cie\": \"virginica\"}, {\"Comprimento da S\\u00e9pala\": 6.9, \"Largura da S\\u00e9pala\": 3.1, \"Comprimento da P\\u00e9tala\": 5.4, \"Largura da P\\u00e9tala\": 2.1, \"Esp\\u00e9cie\": \"virginica\"}, {\"Comprimento da S\\u00e9pala\": 6.7, \"Largura da S\\u00e9pala\": 3.1, \"Comprimento da P\\u00e9tala\": 5.6, \"Largura da P\\u00e9tala\": 2.4, \"Esp\\u00e9cie\": \"virginica\"}, {\"Comprimento da S\\u00e9pala\": 6.9, \"Largura da S\\u00e9pala\": 3.1, \"Comprimento da P\\u00e9tala\": 5.1, \"Largura da P\\u00e9tala\": 2.3, \"Esp\\u00e9cie\": \"virginica\"}, {\"Comprimento da S\\u00e9pala\": 5.8, \"Largura da S\\u00e9pala\": 2.7, \"Comprimento da P\\u00e9tala\": 5.1, \"Largura da P\\u00e9tala\": 1.9, \"Esp\\u00e9cie\": \"virginica\"}, {\"Comprimento da S\\u00e9pala\": 6.8, \"Largura da S\\u00e9pala\": 3.2, \"Comprimento da P\\u00e9tala\": 5.9, \"Largura da P\\u00e9tala\": 2.3, \"Esp\\u00e9cie\": \"virginica\"}, {\"Comprimento da S\\u00e9pala\": 6.7, \"Largura da S\\u00e9pala\": 3.3, \"Comprimento da P\\u00e9tala\": 5.7, \"Largura da P\\u00e9tala\": 2.5, \"Esp\\u00e9cie\": \"virginica\"}, {\"Comprimento da S\\u00e9pala\": 6.7, \"Largura da S\\u00e9pala\": 3.0, \"Comprimento da P\\u00e9tala\": 5.2, \"Largura da P\\u00e9tala\": 2.3, \"Esp\\u00e9cie\": \"virginica\"}, {\"Comprimento da S\\u00e9pala\": 6.3, \"Largura da S\\u00e9pala\": 2.5, \"Comprimento da P\\u00e9tala\": 5.0, \"Largura da P\\u00e9tala\": 1.9, \"Esp\\u00e9cie\": \"virginica\"}, {\"Comprimento da S\\u00e9pala\": 6.5, \"Largura da S\\u00e9pala\": 3.0, \"Comprimento da P\\u00e9tala\": 5.2, \"Largura da P\\u00e9tala\": 2.0, \"Esp\\u00e9cie\": \"virginica\"}, {\"Comprimento da S\\u00e9pala\": 6.2, \"Largura da S\\u00e9pala\": 3.4, \"Comprimento da P\\u00e9tala\": 5.4, \"Largura da P\\u00e9tala\": 2.3, \"Esp\\u00e9cie\": \"virginica\"}, {\"Comprimento da S\\u00e9pala\": 5.9, \"Largura da S\\u00e9pala\": 3.0, \"Comprimento da P\\u00e9tala\": 5.1, \"Largura da P\\u00e9tala\": 1.8, \"Esp\\u00e9cie\": \"virginica\"}]}}, {\"mode\": \"vega-lite\"});\n",
       "</script>"
      ],
      "text/plain": [
       "alt.Chart(...)"
      ]
     },
     "execution_count": 11,
     "metadata": {},
     "output_type": "execute_result"
    }
   ],
   "source": [
    "alt.Chart(iris, height=100).transform_fold(\n",
    "    [\n",
    "        \"Largura da Pétala\",\n",
    "        \"Comprimento da Pétala\",\n",
    "        \"Largura da Sépala\",\n",
    "        \"Comprimento da Sépala\",\n",
    "    ],\n",
    "    as_=[\"Tipo de Medida\", \"value\"],\n",
    ").transform_density(\n",
    "    density=\"value\",\n",
    "    bandwidth=0.3,\n",
    "    groupby=[\"Tipo de Medida\"],\n",
    "    extent=[0, 8],\n",
    ").mark_area(color='#8A2BE2').encode(\n",
    "    alt.X(\"value:Q\", title=\"Valor\"),\n",
    "    alt.Y(\"density:Q\", title='Densidade'),\n",
    "    alt.Row(\"Tipo de Medida:N\"),\n",
    ").properties(\n",
    "    width=300\n",
    ")"
   ]
  },
  {
   "cell_type": "markdown",
   "metadata": {},
   "source": [
    "Unindo as informações do gráfico de dispersão, para as características da Pétala e da Sépala, e o gráfico de distribuição de densidade, podemos concluir que para as característica da Pétala, temos uma densidade divida em dois picos e em dois clusters. Podemos analisar isso mais a fundo com outros tipos de gráficos, como a seguir."
   ]
  },
  {
   "cell_type": "markdown",
   "metadata": {},
   "source": [
    "Se tratando de tipos de dados quantitatiivos, como temos nesse *dataset*, uma visualização interssante seria o *boxplot*. Ainda, se estivermos interessados na distribuição de probabilidade junto aos outros dados que o *boxplot* nos fornece, como mediana, limites superior e inferior, outliers, etc., podemos usar o gráfico de violino para obter uma combinação dessas informações."
   ]
  },
  {
   "cell_type": "code",
   "execution_count": 12,
   "metadata": {},
   "outputs": [
    {
     "name": "stderr",
     "output_type": "stream",
     "text": [
      "c:\\Users\\bianc\\AppData\\Local\\Microsoft\\WindowsApps\\Lib\\site-packages\\altair\\utils\\core.py:395: FutureWarning: the convert_dtype parameter is deprecated and will be removed in a future version.  Do ``ser.astype(object).apply()`` instead if you want ``convert_dtype=False``.\n",
      "  col = df[col_name].apply(to_list_if_array, convert_dtype=False)\n"
     ]
    },
    {
     "data": {
      "text/html": [
       "\n",
       "<style>\n",
       "  #altair-viz-2a31dd165f9547048cd8a8b034a23a38.vega-embed {\n",
       "    width: 100%;\n",
       "    display: flex;\n",
       "  }\n",
       "\n",
       "  #altair-viz-2a31dd165f9547048cd8a8b034a23a38.vega-embed details,\n",
       "  #altair-viz-2a31dd165f9547048cd8a8b034a23a38.vega-embed details summary {\n",
       "    position: relative;\n",
       "  }\n",
       "</style>\n",
       "<div id=\"altair-viz-2a31dd165f9547048cd8a8b034a23a38\"></div>\n",
       "<script type=\"text/javascript\">\n",
       "  var VEGA_DEBUG = (typeof VEGA_DEBUG == \"undefined\") ? {} : VEGA_DEBUG;\n",
       "  (function(spec, embedOpt){\n",
       "    let outputDiv = document.currentScript.previousElementSibling;\n",
       "    if (outputDiv.id !== \"altair-viz-2a31dd165f9547048cd8a8b034a23a38\") {\n",
       "      outputDiv = document.getElementById(\"altair-viz-2a31dd165f9547048cd8a8b034a23a38\");\n",
       "    }\n",
       "    const paths = {\n",
       "      \"vega\": \"https://cdn.jsdelivr.net/npm/vega@5?noext\",\n",
       "      \"vega-lib\": \"https://cdn.jsdelivr.net/npm/vega-lib?noext\",\n",
       "      \"vega-lite\": \"https://cdn.jsdelivr.net/npm/vega-lite@5.8.0?noext\",\n",
       "      \"vega-embed\": \"https://cdn.jsdelivr.net/npm/vega-embed@6?noext\",\n",
       "    };\n",
       "\n",
       "    function maybeLoadScript(lib, version) {\n",
       "      var key = `${lib.replace(\"-\", \"\")}_version`;\n",
       "      return (VEGA_DEBUG[key] == version) ?\n",
       "        Promise.resolve(paths[lib]) :\n",
       "        new Promise(function(resolve, reject) {\n",
       "          var s = document.createElement('script');\n",
       "          document.getElementsByTagName(\"head\")[0].appendChild(s);\n",
       "          s.async = true;\n",
       "          s.onload = () => {\n",
       "            VEGA_DEBUG[key] = version;\n",
       "            return resolve(paths[lib]);\n",
       "          };\n",
       "          s.onerror = () => reject(`Error loading script: ${paths[lib]}`);\n",
       "          s.src = paths[lib];\n",
       "        });\n",
       "    }\n",
       "\n",
       "    function showError(err) {\n",
       "      outputDiv.innerHTML = `<div class=\"error\" style=\"color:red;\">${err}</div>`;\n",
       "      throw err;\n",
       "    }\n",
       "\n",
       "    function displayChart(vegaEmbed) {\n",
       "      vegaEmbed(outputDiv, spec, embedOpt)\n",
       "        .catch(err => showError(`Javascript Error: ${err.message}<br>This usually means there's a typo in your chart specification. See the javascript console for the full traceback.`));\n",
       "    }\n",
       "\n",
       "    if(typeof define === \"function\" && define.amd) {\n",
       "      requirejs.config({paths});\n",
       "      require([\"vega-embed\"], displayChart, err => showError(`Error loading script: ${err.message}`));\n",
       "    } else {\n",
       "      maybeLoadScript(\"vega\", \"5\")\n",
       "        .then(() => maybeLoadScript(\"vega-lite\", \"5.8.0\"))\n",
       "        .then(() => maybeLoadScript(\"vega-embed\", \"6\"))\n",
       "        .catch(showError)\n",
       "        .then(() => displayChart(vegaEmbed));\n",
       "    }\n",
       "  })({\"config\": {\"view\": {\"continuousWidth\": 300, \"continuousHeight\": 300, \"stroke\": null}}, \"hconcat\": [{\"mark\": {\"type\": \"area\", \"orient\": \"horizontal\"}, \"encoding\": {\"color\": {\"field\": \"Esp\\u00e9cie\", \"scale\": {\"domain\": [\"setosa\", \"versicolor\", \"virginica\"], \"range\": [\"#8FBED6\", \"#93C572\", \"#8A2BE2\"]}, \"type\": \"nominal\"}, \"column\": {\"field\": \"Esp\\u00e9cie\", \"header\": {\"titleOrient\": \"bottom\", \"labelOrient\": \"bottom\", \"labelPadding\": 0}, \"spacing\": 0, \"type\": \"nominal\"}, \"x\": {\"axis\": {\"labels\": false, \"values\": [0], \"grid\": false, \"ticks\": true}, \"field\": \"density\", \"impute\": null, \"stack\": \"center\", \"title\": null, \"type\": \"quantitative\"}, \"y\": {\"field\": \"Comprimento da S\\u00e9pala\", \"type\": \"quantitative\"}}, \"height\": 200, \"transform\": [{\"density\": \"Comprimento da S\\u00e9pala\", \"extent\": [0, 9], \"groupby\": [\"Esp\\u00e9cie\"], \"as\": [\"Comprimento da S\\u00e9pala\", \"density\"]}], \"width\": 70}, {\"mark\": {\"type\": \"area\", \"orient\": \"horizontal\"}, \"encoding\": {\"color\": {\"field\": \"Esp\\u00e9cie\", \"scale\": {\"domain\": [\"setosa\", \"versicolor\", \"virginica\"], \"range\": [\"#8FBED6\", \"#93C572\", \"#8A2BE2\"]}, \"type\": \"nominal\"}, \"column\": {\"field\": \"Esp\\u00e9cie\", \"header\": {\"titleOrient\": \"bottom\", \"labelOrient\": \"bottom\", \"labelPadding\": 0}, \"spacing\": 0, \"type\": \"nominal\"}, \"x\": {\"axis\": {\"labels\": false, \"values\": [0], \"grid\": false, \"ticks\": true}, \"field\": \"density\", \"impute\": null, \"stack\": \"center\", \"title\": null, \"type\": \"quantitative\"}, \"y\": {\"field\": \"Largura da S\\u00e9pala\", \"type\": \"quantitative\"}}, \"height\": 200, \"transform\": [{\"density\": \"Largura da S\\u00e9pala\", \"extent\": [0, 9], \"groupby\": [\"Esp\\u00e9cie\"], \"as\": [\"Largura da S\\u00e9pala\", \"density\"]}], \"width\": 70}, {\"mark\": {\"type\": \"area\", \"orient\": \"horizontal\"}, \"encoding\": {\"color\": {\"field\": \"Esp\\u00e9cie\", \"scale\": {\"domain\": [\"setosa\", \"versicolor\", \"virginica\"], \"range\": [\"#8FBED6\", \"#93C572\", \"#8A2BE2\"]}, \"type\": \"nominal\"}, \"column\": {\"field\": \"Esp\\u00e9cie\", \"header\": {\"titleOrient\": \"bottom\", \"labelOrient\": \"bottom\", \"labelPadding\": 0}, \"spacing\": 0, \"type\": \"nominal\"}, \"x\": {\"axis\": {\"labels\": false, \"values\": [0], \"grid\": false, \"ticks\": true}, \"field\": \"density\", \"impute\": null, \"stack\": \"center\", \"title\": null, \"type\": \"quantitative\"}, \"y\": {\"field\": \"Comprimento da P\\u00e9tala\", \"type\": \"quantitative\"}}, \"height\": 200, \"transform\": [{\"density\": \"Comprimento da P\\u00e9tala\", \"extent\": [0, 9], \"groupby\": [\"Esp\\u00e9cie\"], \"as\": [\"Comprimento da P\\u00e9tala\", \"density\"]}], \"width\": 70}, {\"mark\": {\"type\": \"area\", \"orient\": \"horizontal\"}, \"encoding\": {\"color\": {\"field\": \"Esp\\u00e9cie\", \"scale\": {\"domain\": [\"setosa\", \"versicolor\", \"virginica\"], \"range\": [\"#8FBED6\", \"#93C572\", \"#8A2BE2\"]}, \"type\": \"nominal\"}, \"column\": {\"field\": \"Esp\\u00e9cie\", \"header\": {\"titleOrient\": \"bottom\", \"labelOrient\": \"bottom\", \"labelPadding\": 0}, \"spacing\": 0, \"type\": \"nominal\"}, \"x\": {\"axis\": {\"labels\": false, \"values\": [0], \"grid\": false, \"ticks\": true}, \"field\": \"density\", \"impute\": null, \"stack\": \"center\", \"title\": null, \"type\": \"quantitative\"}, \"y\": {\"field\": \"Largura da P\\u00e9tala\", \"type\": \"quantitative\"}}, \"height\": 200, \"transform\": [{\"density\": \"Largura da P\\u00e9tala\", \"extent\": [0, 9], \"groupby\": [\"Esp\\u00e9cie\"], \"as\": [\"Largura da P\\u00e9tala\", \"density\"]}], \"width\": 70}], \"data\": {\"name\": \"data-b067a6a7cf9786b30a58e36de4e11680\"}, \"$schema\": \"https://vega.github.io/schema/vega-lite/v5.8.0.json\", \"datasets\": {\"data-b067a6a7cf9786b30a58e36de4e11680\": [{\"Comprimento da S\\u00e9pala\": 5.1, \"Largura da S\\u00e9pala\": 3.5, \"Comprimento da P\\u00e9tala\": 1.4, \"Largura da P\\u00e9tala\": 0.2, \"Esp\\u00e9cie\": \"setosa\"}, {\"Comprimento da S\\u00e9pala\": 4.9, \"Largura da S\\u00e9pala\": 3.0, \"Comprimento da P\\u00e9tala\": 1.4, \"Largura da P\\u00e9tala\": 0.2, \"Esp\\u00e9cie\": \"setosa\"}, {\"Comprimento da S\\u00e9pala\": 4.7, \"Largura da S\\u00e9pala\": 3.2, \"Comprimento da P\\u00e9tala\": 1.3, \"Largura da P\\u00e9tala\": 0.2, \"Esp\\u00e9cie\": \"setosa\"}, {\"Comprimento da S\\u00e9pala\": 4.6, \"Largura da S\\u00e9pala\": 3.1, \"Comprimento da P\\u00e9tala\": 1.5, \"Largura da P\\u00e9tala\": 0.2, \"Esp\\u00e9cie\": \"setosa\"}, {\"Comprimento da S\\u00e9pala\": 5.0, \"Largura da S\\u00e9pala\": 3.6, \"Comprimento da P\\u00e9tala\": 1.4, \"Largura da P\\u00e9tala\": 0.2, \"Esp\\u00e9cie\": \"setosa\"}, {\"Comprimento da S\\u00e9pala\": 5.4, \"Largura da S\\u00e9pala\": 3.9, \"Comprimento da P\\u00e9tala\": 1.7000000000000002, \"Largura da P\\u00e9tala\": 0.4, \"Esp\\u00e9cie\": \"setosa\"}, {\"Comprimento da S\\u00e9pala\": 4.6, \"Largura da S\\u00e9pala\": 3.4, \"Comprimento da P\\u00e9tala\": 1.4, \"Largura da P\\u00e9tala\": 0.30000000000000004, \"Esp\\u00e9cie\": \"setosa\"}, {\"Comprimento da S\\u00e9pala\": 5.0, \"Largura da S\\u00e9pala\": 3.4, \"Comprimento da P\\u00e9tala\": 1.5, \"Largura da P\\u00e9tala\": 0.2, \"Esp\\u00e9cie\": \"setosa\"}, {\"Comprimento da S\\u00e9pala\": 4.4, \"Largura da S\\u00e9pala\": 2.9, \"Comprimento da P\\u00e9tala\": 1.4, \"Largura da P\\u00e9tala\": 0.2, \"Esp\\u00e9cie\": \"setosa\"}, {\"Comprimento da S\\u00e9pala\": 4.9, \"Largura da S\\u00e9pala\": 3.1, \"Comprimento da P\\u00e9tala\": 1.5, \"Largura da P\\u00e9tala\": 0.1, \"Esp\\u00e9cie\": \"setosa\"}, {\"Comprimento da S\\u00e9pala\": 5.4, \"Largura da S\\u00e9pala\": 3.7, \"Comprimento da P\\u00e9tala\": 1.5, \"Largura da P\\u00e9tala\": 0.2, \"Esp\\u00e9cie\": \"setosa\"}, {\"Comprimento da S\\u00e9pala\": 4.8, \"Largura da S\\u00e9pala\": 3.4, \"Comprimento da P\\u00e9tala\": 1.6, \"Largura da P\\u00e9tala\": 0.2, \"Esp\\u00e9cie\": \"setosa\"}, {\"Comprimento da S\\u00e9pala\": 4.8, \"Largura da S\\u00e9pala\": 3.0, \"Comprimento da P\\u00e9tala\": 1.4, \"Largura da P\\u00e9tala\": 0.1, \"Esp\\u00e9cie\": \"setosa\"}, {\"Comprimento da S\\u00e9pala\": 4.3, \"Largura da S\\u00e9pala\": 3.0, \"Comprimento da P\\u00e9tala\": 1.1, \"Largura da P\\u00e9tala\": 0.1, \"Esp\\u00e9cie\": \"setosa\"}, {\"Comprimento da S\\u00e9pala\": 5.8, \"Largura da S\\u00e9pala\": 4.0, \"Comprimento da P\\u00e9tala\": 1.2, \"Largura da P\\u00e9tala\": 0.2, \"Esp\\u00e9cie\": \"setosa\"}, {\"Comprimento da S\\u00e9pala\": 5.7, \"Largura da S\\u00e9pala\": 4.4, \"Comprimento da P\\u00e9tala\": 1.5, \"Largura da P\\u00e9tala\": 0.4, \"Esp\\u00e9cie\": \"setosa\"}, {\"Comprimento da S\\u00e9pala\": 5.4, \"Largura da S\\u00e9pala\": 3.9, \"Comprimento da P\\u00e9tala\": 1.3, \"Largura da P\\u00e9tala\": 0.4, \"Esp\\u00e9cie\": \"setosa\"}, {\"Comprimento da S\\u00e9pala\": 5.1, \"Largura da S\\u00e9pala\": 3.5, \"Comprimento da P\\u00e9tala\": 1.4, \"Largura da P\\u00e9tala\": 0.30000000000000004, \"Esp\\u00e9cie\": \"setosa\"}, {\"Comprimento da S\\u00e9pala\": 5.7, \"Largura da S\\u00e9pala\": 3.8, \"Comprimento da P\\u00e9tala\": 1.7000000000000002, \"Largura da P\\u00e9tala\": 0.30000000000000004, \"Esp\\u00e9cie\": \"setosa\"}, {\"Comprimento da S\\u00e9pala\": 5.1, \"Largura da S\\u00e9pala\": 3.8, \"Comprimento da P\\u00e9tala\": 1.5, \"Largura da P\\u00e9tala\": 0.30000000000000004, \"Esp\\u00e9cie\": \"setosa\"}, {\"Comprimento da S\\u00e9pala\": 5.4, \"Largura da S\\u00e9pala\": 3.4, \"Comprimento da P\\u00e9tala\": 1.7000000000000002, \"Largura da P\\u00e9tala\": 0.2, \"Esp\\u00e9cie\": \"setosa\"}, {\"Comprimento da S\\u00e9pala\": 5.1, \"Largura da S\\u00e9pala\": 3.7, \"Comprimento da P\\u00e9tala\": 1.5, \"Largura da P\\u00e9tala\": 0.4, \"Esp\\u00e9cie\": \"setosa\"}, {\"Comprimento da S\\u00e9pala\": 4.6, \"Largura da S\\u00e9pala\": 3.6, \"Comprimento da P\\u00e9tala\": 1.0, \"Largura da P\\u00e9tala\": 0.2, \"Esp\\u00e9cie\": \"setosa\"}, {\"Comprimento da S\\u00e9pala\": 5.1, \"Largura da S\\u00e9pala\": 3.3, \"Comprimento da P\\u00e9tala\": 1.7000000000000002, \"Largura da P\\u00e9tala\": 0.5, \"Esp\\u00e9cie\": \"setosa\"}, {\"Comprimento da S\\u00e9pala\": 4.8, \"Largura da S\\u00e9pala\": 3.4, \"Comprimento da P\\u00e9tala\": 1.9, \"Largura da P\\u00e9tala\": 0.2, \"Esp\\u00e9cie\": \"setosa\"}, {\"Comprimento da S\\u00e9pala\": 5.0, \"Largura da S\\u00e9pala\": 3.0, \"Comprimento da P\\u00e9tala\": 1.6, \"Largura da P\\u00e9tala\": 0.2, \"Esp\\u00e9cie\": \"setosa\"}, {\"Comprimento da S\\u00e9pala\": 5.0, \"Largura da S\\u00e9pala\": 3.4, \"Comprimento da P\\u00e9tala\": 1.6, \"Largura da P\\u00e9tala\": 0.4, \"Esp\\u00e9cie\": \"setosa\"}, {\"Comprimento da S\\u00e9pala\": 5.2, \"Largura da S\\u00e9pala\": 3.5, \"Comprimento da P\\u00e9tala\": 1.5, \"Largura da P\\u00e9tala\": 0.2, \"Esp\\u00e9cie\": \"setosa\"}, {\"Comprimento da S\\u00e9pala\": 5.2, \"Largura da S\\u00e9pala\": 3.4, \"Comprimento da P\\u00e9tala\": 1.4, \"Largura da P\\u00e9tala\": 0.2, \"Esp\\u00e9cie\": \"setosa\"}, {\"Comprimento da S\\u00e9pala\": 4.7, \"Largura da S\\u00e9pala\": 3.2, \"Comprimento da P\\u00e9tala\": 1.6, \"Largura da P\\u00e9tala\": 0.2, \"Esp\\u00e9cie\": \"setosa\"}, {\"Comprimento da S\\u00e9pala\": 4.8, \"Largura da S\\u00e9pala\": 3.1, \"Comprimento da P\\u00e9tala\": 1.6, \"Largura da P\\u00e9tala\": 0.2, \"Esp\\u00e9cie\": \"setosa\"}, {\"Comprimento da S\\u00e9pala\": 5.4, \"Largura da S\\u00e9pala\": 3.4, \"Comprimento da P\\u00e9tala\": 1.5, \"Largura da P\\u00e9tala\": 0.4, \"Esp\\u00e9cie\": \"setosa\"}, {\"Comprimento da S\\u00e9pala\": 5.2, \"Largura da S\\u00e9pala\": 4.1, \"Comprimento da P\\u00e9tala\": 1.5, \"Largura da P\\u00e9tala\": 0.1, \"Esp\\u00e9cie\": \"setosa\"}, {\"Comprimento da S\\u00e9pala\": 5.5, \"Largura da S\\u00e9pala\": 4.2, \"Comprimento da P\\u00e9tala\": 1.4, \"Largura da P\\u00e9tala\": 0.2, \"Esp\\u00e9cie\": \"setosa\"}, {\"Comprimento da S\\u00e9pala\": 4.9, \"Largura da S\\u00e9pala\": 3.1, \"Comprimento da P\\u00e9tala\": 1.5, \"Largura da P\\u00e9tala\": 0.2, \"Esp\\u00e9cie\": \"setosa\"}, {\"Comprimento da S\\u00e9pala\": 5.0, \"Largura da S\\u00e9pala\": 3.2, \"Comprimento da P\\u00e9tala\": 1.2, \"Largura da P\\u00e9tala\": 0.2, \"Esp\\u00e9cie\": \"setosa\"}, {\"Comprimento da S\\u00e9pala\": 5.5, \"Largura da S\\u00e9pala\": 3.5, \"Comprimento da P\\u00e9tala\": 1.3, \"Largura da P\\u00e9tala\": 0.2, \"Esp\\u00e9cie\": \"setosa\"}, {\"Comprimento da S\\u00e9pala\": 4.9, \"Largura da S\\u00e9pala\": 3.6, \"Comprimento da P\\u00e9tala\": 1.4, \"Largura da P\\u00e9tala\": 0.1, \"Esp\\u00e9cie\": \"setosa\"}, {\"Comprimento da S\\u00e9pala\": 4.4, \"Largura da S\\u00e9pala\": 3.0, \"Comprimento da P\\u00e9tala\": 1.3, \"Largura da P\\u00e9tala\": 0.2, \"Esp\\u00e9cie\": \"setosa\"}, {\"Comprimento da S\\u00e9pala\": 5.1, \"Largura da S\\u00e9pala\": 3.4, \"Comprimento da P\\u00e9tala\": 1.5, \"Largura da P\\u00e9tala\": 0.2, \"Esp\\u00e9cie\": \"setosa\"}, {\"Comprimento da S\\u00e9pala\": 5.0, \"Largura da S\\u00e9pala\": 3.5, \"Comprimento da P\\u00e9tala\": 1.3, \"Largura da P\\u00e9tala\": 0.30000000000000004, \"Esp\\u00e9cie\": \"setosa\"}, {\"Comprimento da S\\u00e9pala\": 4.5, \"Largura da S\\u00e9pala\": 2.3, \"Comprimento da P\\u00e9tala\": 1.3, \"Largura da P\\u00e9tala\": 0.30000000000000004, \"Esp\\u00e9cie\": \"setosa\"}, {\"Comprimento da S\\u00e9pala\": 4.4, \"Largura da S\\u00e9pala\": 3.2, \"Comprimento da P\\u00e9tala\": 1.3, \"Largura da P\\u00e9tala\": 0.2, \"Esp\\u00e9cie\": \"setosa\"}, {\"Comprimento da S\\u00e9pala\": 5.0, \"Largura da S\\u00e9pala\": 3.5, \"Comprimento da P\\u00e9tala\": 1.6, \"Largura da P\\u00e9tala\": 0.6000000000000001, \"Esp\\u00e9cie\": \"setosa\"}, {\"Comprimento da S\\u00e9pala\": 5.1, \"Largura da S\\u00e9pala\": 3.8, \"Comprimento da P\\u00e9tala\": 1.9, \"Largura da P\\u00e9tala\": 0.4, \"Esp\\u00e9cie\": \"setosa\"}, {\"Comprimento da S\\u00e9pala\": 4.8, \"Largura da S\\u00e9pala\": 3.0, \"Comprimento da P\\u00e9tala\": 1.4, \"Largura da P\\u00e9tala\": 0.30000000000000004, \"Esp\\u00e9cie\": \"setosa\"}, {\"Comprimento da S\\u00e9pala\": 5.1, \"Largura da S\\u00e9pala\": 3.8, \"Comprimento da P\\u00e9tala\": 1.6, \"Largura da P\\u00e9tala\": 0.2, \"Esp\\u00e9cie\": \"setosa\"}, {\"Comprimento da S\\u00e9pala\": 4.6, \"Largura da S\\u00e9pala\": 3.2, \"Comprimento da P\\u00e9tala\": 1.4, \"Largura da P\\u00e9tala\": 0.2, \"Esp\\u00e9cie\": \"setosa\"}, {\"Comprimento da S\\u00e9pala\": 5.3, \"Largura da S\\u00e9pala\": 3.7, \"Comprimento da P\\u00e9tala\": 1.5, \"Largura da P\\u00e9tala\": 0.2, \"Esp\\u00e9cie\": \"setosa\"}, {\"Comprimento da S\\u00e9pala\": 5.0, \"Largura da S\\u00e9pala\": 3.3, \"Comprimento da P\\u00e9tala\": 1.4, \"Largura da P\\u00e9tala\": 0.2, \"Esp\\u00e9cie\": \"setosa\"}, {\"Comprimento da S\\u00e9pala\": 7.0, \"Largura da S\\u00e9pala\": 3.2, \"Comprimento da P\\u00e9tala\": 4.7, \"Largura da P\\u00e9tala\": 1.4, \"Esp\\u00e9cie\": \"versicolor\"}, {\"Comprimento da S\\u00e9pala\": 6.4, \"Largura da S\\u00e9pala\": 3.2, \"Comprimento da P\\u00e9tala\": 4.5, \"Largura da P\\u00e9tala\": 1.5, \"Esp\\u00e9cie\": \"versicolor\"}, {\"Comprimento da S\\u00e9pala\": 6.9, \"Largura da S\\u00e9pala\": 3.1, \"Comprimento da P\\u00e9tala\": 4.9, \"Largura da P\\u00e9tala\": 1.5, \"Esp\\u00e9cie\": \"versicolor\"}, {\"Comprimento da S\\u00e9pala\": 5.5, \"Largura da S\\u00e9pala\": 2.3, \"Comprimento da P\\u00e9tala\": 4.0, \"Largura da P\\u00e9tala\": 1.3, \"Esp\\u00e9cie\": \"versicolor\"}, {\"Comprimento da S\\u00e9pala\": 6.5, \"Largura da S\\u00e9pala\": 2.8, \"Comprimento da P\\u00e9tala\": 4.6, \"Largura da P\\u00e9tala\": 1.5, \"Esp\\u00e9cie\": \"versicolor\"}, {\"Comprimento da S\\u00e9pala\": 5.7, \"Largura da S\\u00e9pala\": 2.8, \"Comprimento da P\\u00e9tala\": 4.5, \"Largura da P\\u00e9tala\": 1.3, \"Esp\\u00e9cie\": \"versicolor\"}, {\"Comprimento da S\\u00e9pala\": 6.3, \"Largura da S\\u00e9pala\": 3.3, \"Comprimento da P\\u00e9tala\": 4.7, \"Largura da P\\u00e9tala\": 1.6, \"Esp\\u00e9cie\": \"versicolor\"}, {\"Comprimento da S\\u00e9pala\": 4.9, \"Largura da S\\u00e9pala\": 2.4, \"Comprimento da P\\u00e9tala\": 3.3, \"Largura da P\\u00e9tala\": 1.0, \"Esp\\u00e9cie\": \"versicolor\"}, {\"Comprimento da S\\u00e9pala\": 6.6, \"Largura da S\\u00e9pala\": 2.9, \"Comprimento da P\\u00e9tala\": 4.6, \"Largura da P\\u00e9tala\": 1.3, \"Esp\\u00e9cie\": \"versicolor\"}, {\"Comprimento da S\\u00e9pala\": 5.2, \"Largura da S\\u00e9pala\": 2.7, \"Comprimento da P\\u00e9tala\": 3.9, \"Largura da P\\u00e9tala\": 1.4, \"Esp\\u00e9cie\": \"versicolor\"}, {\"Comprimento da S\\u00e9pala\": 5.0, \"Largura da S\\u00e9pala\": 2.0, \"Comprimento da P\\u00e9tala\": 3.5, \"Largura da P\\u00e9tala\": 1.0, \"Esp\\u00e9cie\": \"versicolor\"}, {\"Comprimento da S\\u00e9pala\": 5.9, \"Largura da S\\u00e9pala\": 3.0, \"Comprimento da P\\u00e9tala\": 4.2, \"Largura da P\\u00e9tala\": 1.5, \"Esp\\u00e9cie\": \"versicolor\"}, {\"Comprimento da S\\u00e9pala\": 6.0, \"Largura da S\\u00e9pala\": 2.2, \"Comprimento da P\\u00e9tala\": 4.0, \"Largura da P\\u00e9tala\": 1.0, \"Esp\\u00e9cie\": \"versicolor\"}, {\"Comprimento da S\\u00e9pala\": 6.1, \"Largura da S\\u00e9pala\": 2.9, \"Comprimento da P\\u00e9tala\": 4.7, \"Largura da P\\u00e9tala\": 1.4, \"Esp\\u00e9cie\": \"versicolor\"}, {\"Comprimento da S\\u00e9pala\": 5.6, \"Largura da S\\u00e9pala\": 2.9, \"Comprimento da P\\u00e9tala\": 3.6, \"Largura da P\\u00e9tala\": 1.3, \"Esp\\u00e9cie\": \"versicolor\"}, {\"Comprimento da S\\u00e9pala\": 6.7, \"Largura da S\\u00e9pala\": 3.1, \"Comprimento da P\\u00e9tala\": 4.4, \"Largura da P\\u00e9tala\": 1.4, \"Esp\\u00e9cie\": \"versicolor\"}, {\"Comprimento da S\\u00e9pala\": 5.6, \"Largura da S\\u00e9pala\": 3.0, \"Comprimento da P\\u00e9tala\": 4.5, \"Largura da P\\u00e9tala\": 1.5, \"Esp\\u00e9cie\": \"versicolor\"}, {\"Comprimento da S\\u00e9pala\": 5.8, \"Largura da S\\u00e9pala\": 2.7, \"Comprimento da P\\u00e9tala\": 4.1, \"Largura da P\\u00e9tala\": 1.0, \"Esp\\u00e9cie\": \"versicolor\"}, {\"Comprimento da S\\u00e9pala\": 6.2, \"Largura da S\\u00e9pala\": 2.2, \"Comprimento da P\\u00e9tala\": 4.5, \"Largura da P\\u00e9tala\": 1.5, \"Esp\\u00e9cie\": \"versicolor\"}, {\"Comprimento da S\\u00e9pala\": 5.6, \"Largura da S\\u00e9pala\": 2.5, \"Comprimento da P\\u00e9tala\": 3.9, \"Largura da P\\u00e9tala\": 1.1, \"Esp\\u00e9cie\": \"versicolor\"}, {\"Comprimento da S\\u00e9pala\": 5.9, \"Largura da S\\u00e9pala\": 3.2, \"Comprimento da P\\u00e9tala\": 4.8, \"Largura da P\\u00e9tala\": 1.8, \"Esp\\u00e9cie\": \"versicolor\"}, {\"Comprimento da S\\u00e9pala\": 6.1, \"Largura da S\\u00e9pala\": 2.8, \"Comprimento da P\\u00e9tala\": 4.0, \"Largura da P\\u00e9tala\": 1.3, \"Esp\\u00e9cie\": \"versicolor\"}, {\"Comprimento da S\\u00e9pala\": 6.3, \"Largura da S\\u00e9pala\": 2.5, \"Comprimento da P\\u00e9tala\": 4.9, \"Largura da P\\u00e9tala\": 1.5, \"Esp\\u00e9cie\": \"versicolor\"}, {\"Comprimento da S\\u00e9pala\": 6.1, \"Largura da S\\u00e9pala\": 2.8, \"Comprimento da P\\u00e9tala\": 4.7, \"Largura da P\\u00e9tala\": 1.2, \"Esp\\u00e9cie\": \"versicolor\"}, {\"Comprimento da S\\u00e9pala\": 6.4, \"Largura da S\\u00e9pala\": 2.9, \"Comprimento da P\\u00e9tala\": 4.3, \"Largura da P\\u00e9tala\": 1.3, \"Esp\\u00e9cie\": \"versicolor\"}, {\"Comprimento da S\\u00e9pala\": 6.6, \"Largura da S\\u00e9pala\": 3.0, \"Comprimento da P\\u00e9tala\": 4.4, \"Largura da P\\u00e9tala\": 1.4, \"Esp\\u00e9cie\": \"versicolor\"}, {\"Comprimento da S\\u00e9pala\": 6.8, \"Largura da S\\u00e9pala\": 2.8, \"Comprimento da P\\u00e9tala\": 4.8, \"Largura da P\\u00e9tala\": 1.4, \"Esp\\u00e9cie\": \"versicolor\"}, {\"Comprimento da S\\u00e9pala\": 6.7, \"Largura da S\\u00e9pala\": 3.0, \"Comprimento da P\\u00e9tala\": 5.0, \"Largura da P\\u00e9tala\": 1.7000000000000002, \"Esp\\u00e9cie\": \"versicolor\"}, {\"Comprimento da S\\u00e9pala\": 6.0, \"Largura da S\\u00e9pala\": 2.9, \"Comprimento da P\\u00e9tala\": 4.5, \"Largura da P\\u00e9tala\": 1.5, \"Esp\\u00e9cie\": \"versicolor\"}, {\"Comprimento da S\\u00e9pala\": 5.7, \"Largura da S\\u00e9pala\": 2.6, \"Comprimento da P\\u00e9tala\": 3.5, \"Largura da P\\u00e9tala\": 1.0, \"Esp\\u00e9cie\": \"versicolor\"}, {\"Comprimento da S\\u00e9pala\": 5.5, \"Largura da S\\u00e9pala\": 2.4, \"Comprimento da P\\u00e9tala\": 3.8, \"Largura da P\\u00e9tala\": 1.1, \"Esp\\u00e9cie\": \"versicolor\"}, {\"Comprimento da S\\u00e9pala\": 5.5, \"Largura da S\\u00e9pala\": 2.4, \"Comprimento da P\\u00e9tala\": 3.7, \"Largura da P\\u00e9tala\": 1.0, \"Esp\\u00e9cie\": \"versicolor\"}, {\"Comprimento da S\\u00e9pala\": 5.8, \"Largura da S\\u00e9pala\": 2.7, \"Comprimento da P\\u00e9tala\": 3.9, \"Largura da P\\u00e9tala\": 1.2, \"Esp\\u00e9cie\": \"versicolor\"}, {\"Comprimento da S\\u00e9pala\": 6.0, \"Largura da S\\u00e9pala\": 2.7, \"Comprimento da P\\u00e9tala\": 5.1, \"Largura da P\\u00e9tala\": 1.6, \"Esp\\u00e9cie\": \"versicolor\"}, {\"Comprimento da S\\u00e9pala\": 5.4, \"Largura da S\\u00e9pala\": 3.0, \"Comprimento da P\\u00e9tala\": 4.5, \"Largura da P\\u00e9tala\": 1.5, \"Esp\\u00e9cie\": \"versicolor\"}, {\"Comprimento da S\\u00e9pala\": 6.0, \"Largura da S\\u00e9pala\": 3.4, \"Comprimento da P\\u00e9tala\": 4.5, \"Largura da P\\u00e9tala\": 1.6, \"Esp\\u00e9cie\": \"versicolor\"}, {\"Comprimento da S\\u00e9pala\": 6.7, \"Largura da S\\u00e9pala\": 3.1, \"Comprimento da P\\u00e9tala\": 4.7, \"Largura da P\\u00e9tala\": 1.5, \"Esp\\u00e9cie\": \"versicolor\"}, {\"Comprimento da S\\u00e9pala\": 6.3, \"Largura da S\\u00e9pala\": 2.3, \"Comprimento da P\\u00e9tala\": 4.4, \"Largura da P\\u00e9tala\": 1.3, \"Esp\\u00e9cie\": \"versicolor\"}, {\"Comprimento da S\\u00e9pala\": 5.6, \"Largura da S\\u00e9pala\": 3.0, \"Comprimento da P\\u00e9tala\": 4.1, \"Largura da P\\u00e9tala\": 1.3, \"Esp\\u00e9cie\": \"versicolor\"}, {\"Comprimento da S\\u00e9pala\": 5.5, \"Largura da S\\u00e9pala\": 2.5, \"Comprimento da P\\u00e9tala\": 4.0, \"Largura da P\\u00e9tala\": 1.3, \"Esp\\u00e9cie\": \"versicolor\"}, {\"Comprimento da S\\u00e9pala\": 5.5, \"Largura da S\\u00e9pala\": 2.6, \"Comprimento da P\\u00e9tala\": 4.4, \"Largura da P\\u00e9tala\": 1.2, \"Esp\\u00e9cie\": \"versicolor\"}, {\"Comprimento da S\\u00e9pala\": 6.1, \"Largura da S\\u00e9pala\": 3.0, \"Comprimento da P\\u00e9tala\": 4.6, \"Largura da P\\u00e9tala\": 1.4, \"Esp\\u00e9cie\": \"versicolor\"}, {\"Comprimento da S\\u00e9pala\": 5.8, \"Largura da S\\u00e9pala\": 2.6, \"Comprimento da P\\u00e9tala\": 4.0, \"Largura da P\\u00e9tala\": 1.2, \"Esp\\u00e9cie\": \"versicolor\"}, {\"Comprimento da S\\u00e9pala\": 5.0, \"Largura da S\\u00e9pala\": 2.3, \"Comprimento da P\\u00e9tala\": 3.3, \"Largura da P\\u00e9tala\": 1.0, \"Esp\\u00e9cie\": \"versicolor\"}, {\"Comprimento da S\\u00e9pala\": 5.6, \"Largura da S\\u00e9pala\": 2.7, \"Comprimento da P\\u00e9tala\": 4.2, \"Largura da P\\u00e9tala\": 1.3, \"Esp\\u00e9cie\": \"versicolor\"}, {\"Comprimento da S\\u00e9pala\": 5.7, \"Largura da S\\u00e9pala\": 3.0, \"Comprimento da P\\u00e9tala\": 4.2, \"Largura da P\\u00e9tala\": 1.2, \"Esp\\u00e9cie\": \"versicolor\"}, {\"Comprimento da S\\u00e9pala\": 5.7, \"Largura da S\\u00e9pala\": 2.9, \"Comprimento da P\\u00e9tala\": 4.2, \"Largura da P\\u00e9tala\": 1.3, \"Esp\\u00e9cie\": \"versicolor\"}, {\"Comprimento da S\\u00e9pala\": 6.2, \"Largura da S\\u00e9pala\": 2.9, \"Comprimento da P\\u00e9tala\": 4.3, \"Largura da P\\u00e9tala\": 1.3, \"Esp\\u00e9cie\": \"versicolor\"}, {\"Comprimento da S\\u00e9pala\": 5.1, \"Largura da S\\u00e9pala\": 2.5, \"Comprimento da P\\u00e9tala\": 3.0, \"Largura da P\\u00e9tala\": 1.1, \"Esp\\u00e9cie\": \"versicolor\"}, {\"Comprimento da S\\u00e9pala\": 5.7, \"Largura da S\\u00e9pala\": 2.8, \"Comprimento da P\\u00e9tala\": 4.1, \"Largura da P\\u00e9tala\": 1.3, \"Esp\\u00e9cie\": \"versicolor\"}, {\"Comprimento da S\\u00e9pala\": 6.3, \"Largura da S\\u00e9pala\": 3.3, \"Comprimento da P\\u00e9tala\": 6.0, \"Largura da P\\u00e9tala\": 2.5, \"Esp\\u00e9cie\": \"virginica\"}, {\"Comprimento da S\\u00e9pala\": 5.8, \"Largura da S\\u00e9pala\": 2.7, \"Comprimento da P\\u00e9tala\": 5.1, \"Largura da P\\u00e9tala\": 1.9, \"Esp\\u00e9cie\": \"virginica\"}, {\"Comprimento da S\\u00e9pala\": 7.1, \"Largura da S\\u00e9pala\": 3.0, \"Comprimento da P\\u00e9tala\": 5.9, \"Largura da P\\u00e9tala\": 2.1, \"Esp\\u00e9cie\": \"virginica\"}, {\"Comprimento da S\\u00e9pala\": 6.3, \"Largura da S\\u00e9pala\": 2.9, \"Comprimento da P\\u00e9tala\": 5.6, \"Largura da P\\u00e9tala\": 1.8, \"Esp\\u00e9cie\": \"virginica\"}, {\"Comprimento da S\\u00e9pala\": 6.5, \"Largura da S\\u00e9pala\": 3.0, \"Comprimento da P\\u00e9tala\": 5.8, \"Largura da P\\u00e9tala\": 2.2, \"Esp\\u00e9cie\": \"virginica\"}, {\"Comprimento da S\\u00e9pala\": 7.6, \"Largura da S\\u00e9pala\": 3.0, \"Comprimento da P\\u00e9tala\": 6.6, \"Largura da P\\u00e9tala\": 2.1, \"Esp\\u00e9cie\": \"virginica\"}, {\"Comprimento da S\\u00e9pala\": 4.9, \"Largura da S\\u00e9pala\": 2.5, \"Comprimento da P\\u00e9tala\": 4.5, \"Largura da P\\u00e9tala\": 1.7000000000000002, \"Esp\\u00e9cie\": \"virginica\"}, {\"Comprimento da S\\u00e9pala\": 7.3, \"Largura da S\\u00e9pala\": 2.9, \"Comprimento da P\\u00e9tala\": 6.3, \"Largura da P\\u00e9tala\": 1.8, \"Esp\\u00e9cie\": \"virginica\"}, {\"Comprimento da S\\u00e9pala\": 6.7, \"Largura da S\\u00e9pala\": 2.5, \"Comprimento da P\\u00e9tala\": 5.8, \"Largura da P\\u00e9tala\": 1.8, \"Esp\\u00e9cie\": \"virginica\"}, {\"Comprimento da S\\u00e9pala\": 7.2, \"Largura da S\\u00e9pala\": 3.6, \"Comprimento da P\\u00e9tala\": 6.1, \"Largura da P\\u00e9tala\": 2.5, \"Esp\\u00e9cie\": \"virginica\"}, {\"Comprimento da S\\u00e9pala\": 6.5, \"Largura da S\\u00e9pala\": 3.2, \"Comprimento da P\\u00e9tala\": 5.1, \"Largura da P\\u00e9tala\": 2.0, \"Esp\\u00e9cie\": \"virginica\"}, {\"Comprimento da S\\u00e9pala\": 6.4, \"Largura da S\\u00e9pala\": 2.7, \"Comprimento da P\\u00e9tala\": 5.3, \"Largura da P\\u00e9tala\": 1.9, \"Esp\\u00e9cie\": \"virginica\"}, {\"Comprimento da S\\u00e9pala\": 6.8, \"Largura da S\\u00e9pala\": 3.0, \"Comprimento da P\\u00e9tala\": 5.5, \"Largura da P\\u00e9tala\": 2.1, \"Esp\\u00e9cie\": \"virginica\"}, {\"Comprimento da S\\u00e9pala\": 5.7, \"Largura da S\\u00e9pala\": 2.5, \"Comprimento da P\\u00e9tala\": 5.0, \"Largura da P\\u00e9tala\": 2.0, \"Esp\\u00e9cie\": \"virginica\"}, {\"Comprimento da S\\u00e9pala\": 5.8, \"Largura da S\\u00e9pala\": 2.8, \"Comprimento da P\\u00e9tala\": 5.1, \"Largura da P\\u00e9tala\": 2.4, \"Esp\\u00e9cie\": \"virginica\"}, {\"Comprimento da S\\u00e9pala\": 6.4, \"Largura da S\\u00e9pala\": 3.2, \"Comprimento da P\\u00e9tala\": 5.3, \"Largura da P\\u00e9tala\": 2.3, \"Esp\\u00e9cie\": \"virginica\"}, {\"Comprimento da S\\u00e9pala\": 6.5, \"Largura da S\\u00e9pala\": 3.0, \"Comprimento da P\\u00e9tala\": 5.5, \"Largura da P\\u00e9tala\": 1.8, \"Esp\\u00e9cie\": \"virginica\"}, {\"Comprimento da S\\u00e9pala\": 7.7, \"Largura da S\\u00e9pala\": 3.8, \"Comprimento da P\\u00e9tala\": 6.7, \"Largura da P\\u00e9tala\": 2.2, \"Esp\\u00e9cie\": \"virginica\"}, {\"Comprimento da S\\u00e9pala\": 7.7, \"Largura da S\\u00e9pala\": 2.6, \"Comprimento da P\\u00e9tala\": 6.9, \"Largura da P\\u00e9tala\": 2.3, \"Esp\\u00e9cie\": \"virginica\"}, {\"Comprimento da S\\u00e9pala\": 6.0, \"Largura da S\\u00e9pala\": 2.2, \"Comprimento da P\\u00e9tala\": 5.0, \"Largura da P\\u00e9tala\": 1.5, \"Esp\\u00e9cie\": \"virginica\"}, {\"Comprimento da S\\u00e9pala\": 6.9, \"Largura da S\\u00e9pala\": 3.2, \"Comprimento da P\\u00e9tala\": 5.7, \"Largura da P\\u00e9tala\": 2.3, \"Esp\\u00e9cie\": \"virginica\"}, {\"Comprimento da S\\u00e9pala\": 5.6, \"Largura da S\\u00e9pala\": 2.8, \"Comprimento da P\\u00e9tala\": 4.9, \"Largura da P\\u00e9tala\": 2.0, \"Esp\\u00e9cie\": \"virginica\"}, {\"Comprimento da S\\u00e9pala\": 7.7, \"Largura da S\\u00e9pala\": 2.8, \"Comprimento da P\\u00e9tala\": 6.7, \"Largura da P\\u00e9tala\": 2.0, \"Esp\\u00e9cie\": \"virginica\"}, {\"Comprimento da S\\u00e9pala\": 6.3, \"Largura da S\\u00e9pala\": 2.7, \"Comprimento da P\\u00e9tala\": 4.9, \"Largura da P\\u00e9tala\": 1.8, \"Esp\\u00e9cie\": \"virginica\"}, {\"Comprimento da S\\u00e9pala\": 6.7, \"Largura da S\\u00e9pala\": 3.3, \"Comprimento da P\\u00e9tala\": 5.7, \"Largura da P\\u00e9tala\": 2.1, \"Esp\\u00e9cie\": \"virginica\"}, {\"Comprimento da S\\u00e9pala\": 7.2, \"Largura da S\\u00e9pala\": 3.2, \"Comprimento da P\\u00e9tala\": 6.0, \"Largura da P\\u00e9tala\": 1.8, \"Esp\\u00e9cie\": \"virginica\"}, {\"Comprimento da S\\u00e9pala\": 6.2, \"Largura da S\\u00e9pala\": 2.8, \"Comprimento da P\\u00e9tala\": 4.8, \"Largura da P\\u00e9tala\": 1.8, \"Esp\\u00e9cie\": \"virginica\"}, {\"Comprimento da S\\u00e9pala\": 6.1, \"Largura da S\\u00e9pala\": 3.0, \"Comprimento da P\\u00e9tala\": 4.9, \"Largura da P\\u00e9tala\": 1.8, \"Esp\\u00e9cie\": \"virginica\"}, {\"Comprimento da S\\u00e9pala\": 6.4, \"Largura da S\\u00e9pala\": 2.8, \"Comprimento da P\\u00e9tala\": 5.6, \"Largura da P\\u00e9tala\": 2.1, \"Esp\\u00e9cie\": \"virginica\"}, {\"Comprimento da S\\u00e9pala\": 7.2, \"Largura da S\\u00e9pala\": 3.0, \"Comprimento da P\\u00e9tala\": 5.8, \"Largura da P\\u00e9tala\": 1.6, \"Esp\\u00e9cie\": \"virginica\"}, {\"Comprimento da S\\u00e9pala\": 7.4, \"Largura da S\\u00e9pala\": 2.8, \"Comprimento da P\\u00e9tala\": 6.1, \"Largura da P\\u00e9tala\": 1.9, \"Esp\\u00e9cie\": \"virginica\"}, {\"Comprimento da S\\u00e9pala\": 7.9, \"Largura da S\\u00e9pala\": 3.8, \"Comprimento da P\\u00e9tala\": 6.4, \"Largura da P\\u00e9tala\": 2.0, \"Esp\\u00e9cie\": \"virginica\"}, {\"Comprimento da S\\u00e9pala\": 6.4, \"Largura da S\\u00e9pala\": 2.8, \"Comprimento da P\\u00e9tala\": 5.6, \"Largura da P\\u00e9tala\": 2.2, \"Esp\\u00e9cie\": \"virginica\"}, {\"Comprimento da S\\u00e9pala\": 6.3, \"Largura da S\\u00e9pala\": 2.8, \"Comprimento da P\\u00e9tala\": 5.1, \"Largura da P\\u00e9tala\": 1.5, \"Esp\\u00e9cie\": \"virginica\"}, {\"Comprimento da S\\u00e9pala\": 6.1, \"Largura da S\\u00e9pala\": 2.6, \"Comprimento da P\\u00e9tala\": 5.6, \"Largura da P\\u00e9tala\": 1.4, \"Esp\\u00e9cie\": \"virginica\"}, {\"Comprimento da S\\u00e9pala\": 7.7, \"Largura da S\\u00e9pala\": 3.0, \"Comprimento da P\\u00e9tala\": 6.1, \"Largura da P\\u00e9tala\": 2.3, \"Esp\\u00e9cie\": \"virginica\"}, {\"Comprimento da S\\u00e9pala\": 6.3, \"Largura da S\\u00e9pala\": 3.4, \"Comprimento da P\\u00e9tala\": 5.6, \"Largura da P\\u00e9tala\": 2.4, \"Esp\\u00e9cie\": \"virginica\"}, {\"Comprimento da S\\u00e9pala\": 6.4, \"Largura da S\\u00e9pala\": 3.1, \"Comprimento da P\\u00e9tala\": 5.5, \"Largura da P\\u00e9tala\": 1.8, \"Esp\\u00e9cie\": \"virginica\"}, {\"Comprimento da S\\u00e9pala\": 6.0, \"Largura da S\\u00e9pala\": 3.0, \"Comprimento da P\\u00e9tala\": 4.8, \"Largura da P\\u00e9tala\": 1.8, \"Esp\\u00e9cie\": \"virginica\"}, {\"Comprimento da S\\u00e9pala\": 6.9, \"Largura da S\\u00e9pala\": 3.1, \"Comprimento da P\\u00e9tala\": 5.4, \"Largura da P\\u00e9tala\": 2.1, \"Esp\\u00e9cie\": \"virginica\"}, {\"Comprimento da S\\u00e9pala\": 6.7, \"Largura da S\\u00e9pala\": 3.1, \"Comprimento da P\\u00e9tala\": 5.6, \"Largura da P\\u00e9tala\": 2.4, \"Esp\\u00e9cie\": \"virginica\"}, {\"Comprimento da S\\u00e9pala\": 6.9, \"Largura da S\\u00e9pala\": 3.1, \"Comprimento da P\\u00e9tala\": 5.1, \"Largura da P\\u00e9tala\": 2.3, \"Esp\\u00e9cie\": \"virginica\"}, {\"Comprimento da S\\u00e9pala\": 5.8, \"Largura da S\\u00e9pala\": 2.7, \"Comprimento da P\\u00e9tala\": 5.1, \"Largura da P\\u00e9tala\": 1.9, \"Esp\\u00e9cie\": \"virginica\"}, {\"Comprimento da S\\u00e9pala\": 6.8, \"Largura da S\\u00e9pala\": 3.2, \"Comprimento da P\\u00e9tala\": 5.9, \"Largura da P\\u00e9tala\": 2.3, \"Esp\\u00e9cie\": \"virginica\"}, {\"Comprimento da S\\u00e9pala\": 6.7, \"Largura da S\\u00e9pala\": 3.3, \"Comprimento da P\\u00e9tala\": 5.7, \"Largura da P\\u00e9tala\": 2.5, \"Esp\\u00e9cie\": \"virginica\"}, {\"Comprimento da S\\u00e9pala\": 6.7, \"Largura da S\\u00e9pala\": 3.0, \"Comprimento da P\\u00e9tala\": 5.2, \"Largura da P\\u00e9tala\": 2.3, \"Esp\\u00e9cie\": \"virginica\"}, {\"Comprimento da S\\u00e9pala\": 6.3, \"Largura da S\\u00e9pala\": 2.5, \"Comprimento da P\\u00e9tala\": 5.0, \"Largura da P\\u00e9tala\": 1.9, \"Esp\\u00e9cie\": \"virginica\"}, {\"Comprimento da S\\u00e9pala\": 6.5, \"Largura da S\\u00e9pala\": 3.0, \"Comprimento da P\\u00e9tala\": 5.2, \"Largura da P\\u00e9tala\": 2.0, \"Esp\\u00e9cie\": \"virginica\"}, {\"Comprimento da S\\u00e9pala\": 6.2, \"Largura da S\\u00e9pala\": 3.4, \"Comprimento da P\\u00e9tala\": 5.4, \"Largura da P\\u00e9tala\": 2.3, \"Esp\\u00e9cie\": \"virginica\"}, {\"Comprimento da S\\u00e9pala\": 5.9, \"Largura da S\\u00e9pala\": 3.0, \"Comprimento da P\\u00e9tala\": 5.1, \"Largura da P\\u00e9tala\": 1.8, \"Esp\\u00e9cie\": \"virginica\"}]}}, {\"mode\": \"vega-lite\"});\n",
       "</script>"
      ],
      "text/plain": [
       "alt.HConcatChart(...)"
      ]
     },
     "execution_count": 12,
     "metadata": {},
     "output_type": "execute_result"
    }
   ],
   "source": [
    "def violin_plot(record: str):\n",
    "    plot = alt.Chart(iris).transform_density(\n",
    "    record,\n",
    "    as_=[record, 'density'],\n",
    "    extent=[0, 9],\n",
    "    groupby=['Espécie']\n",
    "    ).mark_area(orient='horizontal').encode(\n",
    "        alt.X('density:Q')\n",
    "            .stack('center')\n",
    "            .impute(None)\n",
    "            .title(None)\n",
    "            .axis(labels=False, values=[0], grid=False, ticks=True),\n",
    "        alt.Y(f'{record}:Q'),\n",
    "        alt.Color('Espécie:N', scale=color_map),\n",
    "        alt.Column('Espécie:N')\n",
    "            .spacing(0)\n",
    "            .header(titleOrient='bottom', labelOrient='bottom', labelPadding=0)\n",
    "    ).properties(\n",
    "        width=70,\n",
    "        height=200\n",
    "    )\n",
    "    return plot\n",
    "\n",
    "comp_sepala = violin_plot('Comprimento da Sépala')\n",
    "\n",
    "larg_sepala = violin_plot('Largura da Sépala')\n",
    "\n",
    "comp_petala = violin_plot('Comprimento da Pétala')\n",
    "\n",
    "larg_petala = violin_plot('Largura da Pétala')\n",
    "\n",
    "alt.hconcat(comp_sepala, larg_sepala, comp_petala, larg_petala).configure_view(stroke=None)"
   ]
  },
  {
   "cell_type": "markdown",
   "metadata": {},
   "source": [
    "Podemos observar que nas características da pétala, a distribuição da espécie *setosa* se concentra expressivamente próximo da média. \n",
    "\n",
    "Podemos verificar isso mais detalhadamente com um simples histrograma. Para isso, criaremos um *data frame* apenas com os dados dessa espécie para as características da pétala."
   ]
  },
  {
   "cell_type": "code",
   "execution_count": 13,
   "metadata": {},
   "outputs": [
    {
     "data": {
      "text/html": [
       "<div>\n",
       "<style scoped>\n",
       "    .dataframe tbody tr th:only-of-type {\n",
       "        vertical-align: middle;\n",
       "    }\n",
       "\n",
       "    .dataframe tbody tr th {\n",
       "        vertical-align: top;\n",
       "    }\n",
       "\n",
       "    .dataframe thead th {\n",
       "        text-align: right;\n",
       "    }\n",
       "</style>\n",
       "<table border=\"1\" class=\"dataframe\">\n",
       "  <thead>\n",
       "    <tr style=\"text-align: right;\">\n",
       "      <th></th>\n",
       "      <th>Comprimento da Pétala</th>\n",
       "      <th>Largura da Pétala</th>\n",
       "      <th>Espécie</th>\n",
       "    </tr>\n",
       "  </thead>\n",
       "  <tbody>\n",
       "    <tr>\n",
       "      <th>0</th>\n",
       "      <td>1.4</td>\n",
       "      <td>0.2</td>\n",
       "      <td>setosa</td>\n",
       "    </tr>\n",
       "    <tr>\n",
       "      <th>1</th>\n",
       "      <td>1.4</td>\n",
       "      <td>0.2</td>\n",
       "      <td>setosa</td>\n",
       "    </tr>\n",
       "    <tr>\n",
       "      <th>2</th>\n",
       "      <td>1.3</td>\n",
       "      <td>0.2</td>\n",
       "      <td>setosa</td>\n",
       "    </tr>\n",
       "    <tr>\n",
       "      <th>3</th>\n",
       "      <td>1.5</td>\n",
       "      <td>0.2</td>\n",
       "      <td>setosa</td>\n",
       "    </tr>\n",
       "    <tr>\n",
       "      <th>4</th>\n",
       "      <td>1.4</td>\n",
       "      <td>0.2</td>\n",
       "      <td>setosa</td>\n",
       "    </tr>\n",
       "  </tbody>\n",
       "</table>\n",
       "</div>"
      ],
      "text/plain": [
       "   Comprimento da Pétala  Largura da Pétala Espécie\n",
       "0                    1.4                0.2  setosa\n",
       "1                    1.4                0.2  setosa\n",
       "2                    1.3                0.2  setosa\n",
       "3                    1.5                0.2  setosa\n",
       "4                    1.4                0.2  setosa"
      ]
     },
     "execution_count": 13,
     "metadata": {},
     "output_type": "execute_result"
    }
   ],
   "source": [
    "iris_setosa = iris.loc[iris['Espécie'] == 'setosa']\n",
    "setosa_petalas = iris_setosa[['Comprimento da Pétala', 'Largura da Pétala', 'Espécie']]\n",
    "setosa_petalas.head()"
   ]
  },
  {
   "cell_type": "markdown",
   "metadata": {},
   "source": [
    "Criamos então um histograma, usando o método `mark_bar()` e alteramos a cor do plot com a propriedade `color`, alteramos a cor para corresponder mais ao contexto de flores de iris (passo opicional). Para visualizar se os valores se concentram em torno da média, sobrepomos uma linha demarcando esse valor, usando o método `mark_rule()` e definindo o canal `x='mean(Comprimento da Pétala):Q'`."
   ]
  },
  {
   "cell_type": "code",
   "execution_count": 14,
   "metadata": {},
   "outputs": [
    {
     "name": "stderr",
     "output_type": "stream",
     "text": [
      "c:\\Users\\bianc\\AppData\\Local\\Microsoft\\WindowsApps\\Lib\\site-packages\\altair\\utils\\core.py:395: FutureWarning: the convert_dtype parameter is deprecated and will be removed in a future version.  Do ``ser.astype(object).apply()`` instead if you want ``convert_dtype=False``.\n",
      "  col = df[col_name].apply(to_list_if_array, convert_dtype=False)\n"
     ]
    },
    {
     "data": {
      "text/html": [
       "\n",
       "<style>\n",
       "  #altair-viz-4b9af3d7f07741c0b65dc19b0a4f5c2a.vega-embed {\n",
       "    width: 100%;\n",
       "    display: flex;\n",
       "  }\n",
       "\n",
       "  #altair-viz-4b9af3d7f07741c0b65dc19b0a4f5c2a.vega-embed details,\n",
       "  #altair-viz-4b9af3d7f07741c0b65dc19b0a4f5c2a.vega-embed details summary {\n",
       "    position: relative;\n",
       "  }\n",
       "</style>\n",
       "<div id=\"altair-viz-4b9af3d7f07741c0b65dc19b0a4f5c2a\"></div>\n",
       "<script type=\"text/javascript\">\n",
       "  var VEGA_DEBUG = (typeof VEGA_DEBUG == \"undefined\") ? {} : VEGA_DEBUG;\n",
       "  (function(spec, embedOpt){\n",
       "    let outputDiv = document.currentScript.previousElementSibling;\n",
       "    if (outputDiv.id !== \"altair-viz-4b9af3d7f07741c0b65dc19b0a4f5c2a\") {\n",
       "      outputDiv = document.getElementById(\"altair-viz-4b9af3d7f07741c0b65dc19b0a4f5c2a\");\n",
       "    }\n",
       "    const paths = {\n",
       "      \"vega\": \"https://cdn.jsdelivr.net/npm/vega@5?noext\",\n",
       "      \"vega-lib\": \"https://cdn.jsdelivr.net/npm/vega-lib?noext\",\n",
       "      \"vega-lite\": \"https://cdn.jsdelivr.net/npm/vega-lite@5.8.0?noext\",\n",
       "      \"vega-embed\": \"https://cdn.jsdelivr.net/npm/vega-embed@6?noext\",\n",
       "    };\n",
       "\n",
       "    function maybeLoadScript(lib, version) {\n",
       "      var key = `${lib.replace(\"-\", \"\")}_version`;\n",
       "      return (VEGA_DEBUG[key] == version) ?\n",
       "        Promise.resolve(paths[lib]) :\n",
       "        new Promise(function(resolve, reject) {\n",
       "          var s = document.createElement('script');\n",
       "          document.getElementsByTagName(\"head\")[0].appendChild(s);\n",
       "          s.async = true;\n",
       "          s.onload = () => {\n",
       "            VEGA_DEBUG[key] = version;\n",
       "            return resolve(paths[lib]);\n",
       "          };\n",
       "          s.onerror = () => reject(`Error loading script: ${paths[lib]}`);\n",
       "          s.src = paths[lib];\n",
       "        });\n",
       "    }\n",
       "\n",
       "    function showError(err) {\n",
       "      outputDiv.innerHTML = `<div class=\"error\" style=\"color:red;\">${err}</div>`;\n",
       "      throw err;\n",
       "    }\n",
       "\n",
       "    function displayChart(vegaEmbed) {\n",
       "      vegaEmbed(outputDiv, spec, embedOpt)\n",
       "        .catch(err => showError(`Javascript Error: ${err.message}<br>This usually means there's a typo in your chart specification. See the javascript console for the full traceback.`));\n",
       "    }\n",
       "\n",
       "    if(typeof define === \"function\" && define.amd) {\n",
       "      requirejs.config({paths});\n",
       "      require([\"vega-embed\"], displayChart, err => showError(`Error loading script: ${err.message}`));\n",
       "    } else {\n",
       "      maybeLoadScript(\"vega\", \"5\")\n",
       "        .then(() => maybeLoadScript(\"vega-lite\", \"5.8.0\"))\n",
       "        .then(() => maybeLoadScript(\"vega-embed\", \"6\"))\n",
       "        .catch(showError)\n",
       "        .then(() => displayChart(vegaEmbed));\n",
       "    }\n",
       "  })({\"config\": {\"view\": {\"continuousWidth\": 300, \"continuousHeight\": 300}}, \"hconcat\": [{\"layer\": [{\"mark\": {\"type\": \"bar\", \"color\": \"#8fbed6\"}, \"encoding\": {\"x\": {\"axis\": null, \"bin\": {}, \"field\": \"Comprimento da P\\u00e9tala\", \"type\": \"quantitative\"}, \"y\": {\"aggregate\": \"count\", \"type\": \"quantitative\"}}}, {\"mark\": {\"type\": \"rule\", \"color\": \"#8A2BE2\"}, \"encoding\": {\"size\": {\"value\": 5}, \"x\": {\"aggregate\": \"mean\", \"field\": \"Comprimento da P\\u00e9tala\", \"type\": \"quantitative\"}}}], \"title\": \"Distribui\\u00e7\\u00e3o do Comprimento da P\\u00e9tala na esp\\u00e9cie Setosa\"}, {\"layer\": [{\"mark\": {\"type\": \"bar\", \"color\": \"#8fbed6\"}, \"encoding\": {\"x\": {\"axis\": null, \"bin\": {}, \"field\": \"Largura da P\\u00e9tala\", \"type\": \"quantitative\"}, \"y\": {\"aggregate\": \"count\", \"type\": \"quantitative\"}}}, {\"mark\": {\"type\": \"rule\", \"color\": \"#8A2BE2\"}, \"encoding\": {\"size\": {\"value\": 5}, \"x\": {\"aggregate\": \"mean\", \"field\": \"Largura da P\\u00e9tala\", \"type\": \"quantitative\"}}}], \"title\": \"Distribui\\u00e7\\u00e3o do Largura da P\\u00e9tala na esp\\u00e9cie Setosa\"}], \"data\": {\"name\": \"data-3ad182b4f58af1c0395e5ecac30c1644\"}, \"$schema\": \"https://vega.github.io/schema/vega-lite/v5.8.0.json\", \"datasets\": {\"data-3ad182b4f58af1c0395e5ecac30c1644\": [{\"Comprimento da P\\u00e9tala\": 1.4, \"Largura da P\\u00e9tala\": 0.2, \"Esp\\u00e9cie\": \"setosa\"}, {\"Comprimento da P\\u00e9tala\": 1.4, \"Largura da P\\u00e9tala\": 0.2, \"Esp\\u00e9cie\": \"setosa\"}, {\"Comprimento da P\\u00e9tala\": 1.3, \"Largura da P\\u00e9tala\": 0.2, \"Esp\\u00e9cie\": \"setosa\"}, {\"Comprimento da P\\u00e9tala\": 1.5, \"Largura da P\\u00e9tala\": 0.2, \"Esp\\u00e9cie\": \"setosa\"}, {\"Comprimento da P\\u00e9tala\": 1.4, \"Largura da P\\u00e9tala\": 0.2, \"Esp\\u00e9cie\": \"setosa\"}, {\"Comprimento da P\\u00e9tala\": 1.7000000000000002, \"Largura da P\\u00e9tala\": 0.4, \"Esp\\u00e9cie\": \"setosa\"}, {\"Comprimento da P\\u00e9tala\": 1.4, \"Largura da P\\u00e9tala\": 0.30000000000000004, \"Esp\\u00e9cie\": \"setosa\"}, {\"Comprimento da P\\u00e9tala\": 1.5, \"Largura da P\\u00e9tala\": 0.2, \"Esp\\u00e9cie\": \"setosa\"}, {\"Comprimento da P\\u00e9tala\": 1.4, \"Largura da P\\u00e9tala\": 0.2, \"Esp\\u00e9cie\": \"setosa\"}, {\"Comprimento da P\\u00e9tala\": 1.5, \"Largura da P\\u00e9tala\": 0.1, \"Esp\\u00e9cie\": \"setosa\"}, {\"Comprimento da P\\u00e9tala\": 1.5, \"Largura da P\\u00e9tala\": 0.2, \"Esp\\u00e9cie\": \"setosa\"}, {\"Comprimento da P\\u00e9tala\": 1.6, \"Largura da P\\u00e9tala\": 0.2, \"Esp\\u00e9cie\": \"setosa\"}, {\"Comprimento da P\\u00e9tala\": 1.4, \"Largura da P\\u00e9tala\": 0.1, \"Esp\\u00e9cie\": \"setosa\"}, {\"Comprimento da P\\u00e9tala\": 1.1, \"Largura da P\\u00e9tala\": 0.1, \"Esp\\u00e9cie\": \"setosa\"}, {\"Comprimento da P\\u00e9tala\": 1.2, \"Largura da P\\u00e9tala\": 0.2, \"Esp\\u00e9cie\": \"setosa\"}, {\"Comprimento da P\\u00e9tala\": 1.5, \"Largura da P\\u00e9tala\": 0.4, \"Esp\\u00e9cie\": \"setosa\"}, {\"Comprimento da P\\u00e9tala\": 1.3, \"Largura da P\\u00e9tala\": 0.4, \"Esp\\u00e9cie\": \"setosa\"}, {\"Comprimento da P\\u00e9tala\": 1.4, \"Largura da P\\u00e9tala\": 0.30000000000000004, \"Esp\\u00e9cie\": \"setosa\"}, {\"Comprimento da P\\u00e9tala\": 1.7000000000000002, \"Largura da P\\u00e9tala\": 0.30000000000000004, \"Esp\\u00e9cie\": \"setosa\"}, {\"Comprimento da P\\u00e9tala\": 1.5, \"Largura da P\\u00e9tala\": 0.30000000000000004, \"Esp\\u00e9cie\": \"setosa\"}, {\"Comprimento da P\\u00e9tala\": 1.7000000000000002, \"Largura da P\\u00e9tala\": 0.2, \"Esp\\u00e9cie\": \"setosa\"}, {\"Comprimento da P\\u00e9tala\": 1.5, \"Largura da P\\u00e9tala\": 0.4, \"Esp\\u00e9cie\": \"setosa\"}, {\"Comprimento da P\\u00e9tala\": 1.0, \"Largura da P\\u00e9tala\": 0.2, \"Esp\\u00e9cie\": \"setosa\"}, {\"Comprimento da P\\u00e9tala\": 1.7000000000000002, \"Largura da P\\u00e9tala\": 0.5, \"Esp\\u00e9cie\": \"setosa\"}, {\"Comprimento da P\\u00e9tala\": 1.9, \"Largura da P\\u00e9tala\": 0.2, \"Esp\\u00e9cie\": \"setosa\"}, {\"Comprimento da P\\u00e9tala\": 1.6, \"Largura da P\\u00e9tala\": 0.2, \"Esp\\u00e9cie\": \"setosa\"}, {\"Comprimento da P\\u00e9tala\": 1.6, \"Largura da P\\u00e9tala\": 0.4, \"Esp\\u00e9cie\": \"setosa\"}, {\"Comprimento da P\\u00e9tala\": 1.5, \"Largura da P\\u00e9tala\": 0.2, \"Esp\\u00e9cie\": \"setosa\"}, {\"Comprimento da P\\u00e9tala\": 1.4, \"Largura da P\\u00e9tala\": 0.2, \"Esp\\u00e9cie\": \"setosa\"}, {\"Comprimento da P\\u00e9tala\": 1.6, \"Largura da P\\u00e9tala\": 0.2, \"Esp\\u00e9cie\": \"setosa\"}, {\"Comprimento da P\\u00e9tala\": 1.6, \"Largura da P\\u00e9tala\": 0.2, \"Esp\\u00e9cie\": \"setosa\"}, {\"Comprimento da P\\u00e9tala\": 1.5, \"Largura da P\\u00e9tala\": 0.4, \"Esp\\u00e9cie\": \"setosa\"}, {\"Comprimento da P\\u00e9tala\": 1.5, \"Largura da P\\u00e9tala\": 0.1, \"Esp\\u00e9cie\": \"setosa\"}, {\"Comprimento da P\\u00e9tala\": 1.4, \"Largura da P\\u00e9tala\": 0.2, \"Esp\\u00e9cie\": \"setosa\"}, {\"Comprimento da P\\u00e9tala\": 1.5, \"Largura da P\\u00e9tala\": 0.2, \"Esp\\u00e9cie\": \"setosa\"}, {\"Comprimento da P\\u00e9tala\": 1.2, \"Largura da P\\u00e9tala\": 0.2, \"Esp\\u00e9cie\": \"setosa\"}, {\"Comprimento da P\\u00e9tala\": 1.3, \"Largura da P\\u00e9tala\": 0.2, \"Esp\\u00e9cie\": \"setosa\"}, {\"Comprimento da P\\u00e9tala\": 1.4, \"Largura da P\\u00e9tala\": 0.1, \"Esp\\u00e9cie\": \"setosa\"}, {\"Comprimento da P\\u00e9tala\": 1.3, \"Largura da P\\u00e9tala\": 0.2, \"Esp\\u00e9cie\": \"setosa\"}, {\"Comprimento da P\\u00e9tala\": 1.5, \"Largura da P\\u00e9tala\": 0.2, \"Esp\\u00e9cie\": \"setosa\"}, {\"Comprimento da P\\u00e9tala\": 1.3, \"Largura da P\\u00e9tala\": 0.30000000000000004, \"Esp\\u00e9cie\": \"setosa\"}, {\"Comprimento da P\\u00e9tala\": 1.3, \"Largura da P\\u00e9tala\": 0.30000000000000004, \"Esp\\u00e9cie\": \"setosa\"}, {\"Comprimento da P\\u00e9tala\": 1.3, \"Largura da P\\u00e9tala\": 0.2, \"Esp\\u00e9cie\": \"setosa\"}, {\"Comprimento da P\\u00e9tala\": 1.6, \"Largura da P\\u00e9tala\": 0.6000000000000001, \"Esp\\u00e9cie\": \"setosa\"}, {\"Comprimento da P\\u00e9tala\": 1.9, \"Largura da P\\u00e9tala\": 0.4, \"Esp\\u00e9cie\": \"setosa\"}, {\"Comprimento da P\\u00e9tala\": 1.4, \"Largura da P\\u00e9tala\": 0.30000000000000004, \"Esp\\u00e9cie\": \"setosa\"}, {\"Comprimento da P\\u00e9tala\": 1.6, \"Largura da P\\u00e9tala\": 0.2, \"Esp\\u00e9cie\": \"setosa\"}, {\"Comprimento da P\\u00e9tala\": 1.4, \"Largura da P\\u00e9tala\": 0.2, \"Esp\\u00e9cie\": \"setosa\"}, {\"Comprimento da P\\u00e9tala\": 1.5, \"Largura da P\\u00e9tala\": 0.2, \"Esp\\u00e9cie\": \"setosa\"}, {\"Comprimento da P\\u00e9tala\": 1.4, \"Largura da P\\u00e9tala\": 0.2, \"Esp\\u00e9cie\": \"setosa\"}]}}, {\"mode\": \"vega-lite\"});\n",
       "</script>"
      ],
      "text/plain": [
       "alt.HConcatChart(...)"
      ]
     },
     "execution_count": 14,
     "metadata": {},
     "output_type": "execute_result"
    }
   ],
   "source": [
    "comp_hist = alt.Chart(setosa_petalas).mark_bar(color='#8fbed6').encode(\n",
    "    alt.X('Comprimento da Pétala:Q').bin().axis(None),\n",
    "    y='count()'\n",
    ") # Cria as caixas do histograma para o Comprimento da Pétala\n",
    "\n",
    "comp_hist_rule = alt.Chart(setosa_petalas).mark_rule(color='#8A2BE2').encode(\n",
    "    x='mean(Comprimento da Pétala):Q',\n",
    "    size=alt.value(5)\n",
    ") # Cria a régua que demarca a média\n",
    "\n",
    "comp = (comp_hist + comp_hist_rule).properties(\n",
    "    title = 'Distribuição do Comprimento da Pétala na espécie Setosa' # Adiciona um título ao gráfico\n",
    ") # Une os dois elementos em um único gráfico\n",
    "\n",
    "larg_hist = alt.Chart(setosa_petalas).mark_bar(color='#8fbed6').encode(\n",
    "    alt.X('Largura da Pétala:Q').bin().axis(None),\n",
    "    y='count()'\n",
    ") # Cria as caixas do histograma para a Largura da Pétala\n",
    "\n",
    "larg_hist_rule = alt.Chart(setosa_petalas).mark_rule(color='#8A2BE2').encode(\n",
    "    x='mean(Largura da Pétala):Q',\n",
    "    size=alt.value(5)\n",
    ") # Cria a régua que demarca a média\n",
    "\n",
    "larg = (larg_hist + larg_hist_rule).properties(\n",
    "    title = 'Distribuição do Largura da Pétala na espécie Setosa' # Adiciona um título ao gráfico\n",
    ") # Une os dois elementos em um único gráfico\n",
    "\n",
    "# Concatena horizontalmente os dois gráficos criados para exibição\n",
    "comp | larg "
   ]
  },
  {
   "cell_type": "markdown",
   "metadata": {},
   "source": [
    "Como podemos ver, a hipótese é confirmada e os valores se concentram em torno da média, principalmente para a Largura da Pétala."
   ]
  }
 ],
 "metadata": {
  "kernelspec": {
   "display_name": "Python 3",
   "language": "python",
   "name": "python3"
  },
  "language_info": {
   "codemirror_mode": {
    "name": "ipython",
    "version": 3
   },
   "file_extension": ".py",
   "mimetype": "text/x-python",
   "name": "python",
   "nbconvert_exporter": "python",
   "pygments_lexer": "ipython3",
   "version": "3.13.1"
  }
 },
 "nbformat": 4,
 "nbformat_minor": 2
}
